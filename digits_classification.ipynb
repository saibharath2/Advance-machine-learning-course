{
  "nbformat": 4,
  "nbformat_minor": 0,
  "metadata": {
    "kernelspec": {
      "display_name": "Python 3",
      "language": "python",
      "name": "python3"
    },
    "language_info": {
      "codemirror_mode": {
        "name": "ipython",
        "version": 3
      },
      "file_extension": ".py",
      "mimetype": "text/x-python",
      "name": "python",
      "nbconvert_exporter": "python",
      "pygments_lexer": "ipython3",
      "version": "3.6.5"
    },
    "colab": {
      "name": "digits_classification.ipynb",
      "provenance": [],
      "collapsed_sections": []
    },
    "accelerator": "GPU"
  },
  "cells": [
    {
      "cell_type": "code",
      "metadata": {
        "id": "M7ewNF4JhDwD",
        "colab_type": "code",
        "outputId": "4f95cdd5-101f-465a-ee1c-1fccdb27dabe",
        "colab": {
          "base_uri": "https://localhost:8080/",
          "height": 319
        }
      },
      "source": [
        "! shred -u setup_google_colab.py\n",
        "! wget https://raw.githubusercontent.com/hse-aml/intro-to-dl/master/setup_google_colab.py -O setup_google_colab.py\n",
        "import setup_google_colab\n",
        "# please, uncomment the week you're working on\n",
        "# setup_google_colab.setup_week1()\n",
        "setup_google_colab.setup_week2()"
      ],
      "execution_count": 0,
      "outputs": [
        {
          "output_type": "stream",
          "text": [
            "shred: setup_google_colab.py: failed to open for writing: No such file or directory\n",
            "--2020-05-07 11:18:08--  https://raw.githubusercontent.com/hse-aml/intro-to-dl/master/setup_google_colab.py\n",
            "Resolving raw.githubusercontent.com (raw.githubusercontent.com)... 151.101.0.133, 151.101.64.133, 151.101.128.133, ...\n",
            "Connecting to raw.githubusercontent.com (raw.githubusercontent.com)|151.101.0.133|:443... connected.\n",
            "HTTP request sent, awaiting response... 200 OK\n",
            "Length: 3636 (3.6K) [text/plain]\n",
            "Saving to: ‘setup_google_colab.py’\n",
            "\n",
            "setup_google_colab. 100%[===================>]   3.55K  --.-KB/s    in 0s      \n",
            "\n",
            "2020-05-07 11:18:09 (43.7 MB/s) - ‘setup_google_colab.py’ saved [3636/3636]\n",
            "\n",
            "**************************************************\n",
            "inception_v3_weights_tf_dim_ordering_tf_kernels_notop.h5\n",
            "**************************************************\n",
            "cifar-10-batches-py.tar.gz\n",
            "**************************************************\n",
            "mnist.npz\n"
          ],
          "name": "stdout"
        }
      ]
    },
    {
      "cell_type": "code",
      "metadata": {
        "id": "OxPdUAoqfurY",
        "colab_type": "code",
        "outputId": "0c8608f7-105c-4c4c-fe91-c5f0392e4139",
        "colab": {
          "base_uri": "https://localhost:8080/",
          "height": 34
        }
      },
      "source": [
        "# set tf 1.x for colab\n",
        "%tensorflow_version 1.x"
      ],
      "execution_count": 0,
      "outputs": [
        {
          "output_type": "stream",
          "text": [
            "TensorFlow 1.x selected.\n"
          ],
          "name": "stdout"
        }
      ]
    },
    {
      "cell_type": "markdown",
      "metadata": {
        "id": "FsXrnqr_furh",
        "colab_type": "text"
      },
      "source": [
        "# MNIST digits classification with TensorFlow"
      ]
    },
    {
      "cell_type": "markdown",
      "metadata": {
        "id": "9vfm6lxefuri",
        "colab_type": "text"
      },
      "source": [
        "<img src=\"https://github.com/hse-aml/intro-to-dl/blob/master/week2/v2/images/mnist_sample.png?raw=1\" style=\"width:30%\">"
      ]
    },
    {
      "cell_type": "code",
      "metadata": {
        "id": "loIphuDMfurj",
        "colab_type": "code",
        "outputId": "d2b45459-b475-48f5-d5d0-a53659460d3a",
        "colab": {
          "base_uri": "https://localhost:8080/",
          "height": 50
        }
      },
      "source": [
        "import numpy as np\n",
        "from sklearn.metrics import accuracy_score\n",
        "from matplotlib import pyplot as plt\n",
        "%matplotlib inline\n",
        "import tensorflow as tf\n",
        "print(\"We're using TF\", tf.__version__)\n",
        "\n",
        "import sys\n",
        "sys.path.append(\"../..\")\n",
        "import grading\n",
        "\n",
        "import matplotlib_utils\n",
        "from importlib import reload\n",
        "reload(matplotlib_utils)\n",
        "\n",
        "import grading_utils\n",
        "reload(grading_utils)\n",
        "\n",
        "import keras_utils\n",
        "from keras_utils import reset_tf_session"
      ],
      "execution_count": 0,
      "outputs": [
        {
          "output_type": "stream",
          "text": [
            "We're using TF 1.15.2\n"
          ],
          "name": "stdout"
        },
        {
          "output_type": "stream",
          "text": [
            "Using TensorFlow backend.\n"
          ],
          "name": "stderr"
        }
      ]
    },
    {
      "cell_type": "markdown",
      "metadata": {
        "id": "fH6muu3gfuro",
        "colab_type": "text"
      },
      "source": [
        "# Fill in your Coursera token and email\n",
        "To successfully submit your answers to our grader, please fill in your Coursera submission token and email"
      ]
    },
    {
      "cell_type": "code",
      "metadata": {
        "id": "pEEEzWZufurq",
        "colab_type": "code",
        "colab": {}
      },
      "source": [
        "grader = grading.Grader(assignment_key=\"XtD7ho3TEeiHQBLWejjYAA\", \n",
        "                        all_parts=[\"9XaAS\", \"vmogZ\", \"RMv95\", \"i8bgs\", \"rE763\"])"
      ],
      "execution_count": 0,
      "outputs": []
    },
    {
      "cell_type": "code",
      "metadata": {
        "id": "ThN3T7cNfuru",
        "colab_type": "code",
        "colab": {}
      },
      "source": [
        "# token expires every 30 min\n",
        "COURSERA_TOKEN = \"b3pojsaJ7qiyMU39\"\n",
        "COURSERA_EMAIL = \"varmabharath2@gmail.com\""
      ],
      "execution_count": 0,
      "outputs": []
    },
    {
      "cell_type": "markdown",
      "metadata": {
        "id": "0Czqj21dfury",
        "colab_type": "text"
      },
      "source": [
        "# Look at the data\n",
        "\n",
        "In this task we have 50000 28x28 images of digits from 0 to 9.\n",
        "We will train a classifier on this data."
      ]
    },
    {
      "cell_type": "code",
      "metadata": {
        "id": "D2Lp6fTHfurz",
        "colab_type": "code",
        "outputId": "0d7c8671-dd67-4202-c739-04dce6fec7b3",
        "colab": {
          "base_uri": "https://localhost:8080/",
          "height": 50
        }
      },
      "source": [
        "import preprocessed_mnist\n",
        "X_train, y_train, X_val, y_val, X_test, y_test = preprocessed_mnist.load_dataset()"
      ],
      "execution_count": 0,
      "outputs": [
        {
          "output_type": "stream",
          "text": [
            "Downloading data from https://s3.amazonaws.com/img-datasets/mnist.npz\n",
            "10813440/11490434 [===========================>..] - ETA: 0s"
          ],
          "name": "stdout"
        }
      ]
    },
    {
      "cell_type": "code",
      "metadata": {
        "id": "R8_XYvvnfur3",
        "colab_type": "code",
        "outputId": "47046b3f-e8f3-4c5d-b675-bd5b2f88b84a",
        "colab": {
          "base_uri": "https://localhost:8080/",
          "height": 681
        }
      },
      "source": [
        "# X contains rgb values divided by 255\n",
        "print(\"X_train [shape %s] sample patch:\\n\" % (str(X_train.shape)), X_train[1, 15:20, 5:10])\n",
        "print(\"A closeup of a sample patch:\")\n",
        "plt.imshow(X_train[1, 15:20, 5:10], cmap=\"Greys\")\n",
        "plt.show()\n",
        "print(\"And the whole sample:\")\n",
        "plt.imshow(X_train[1], cmap=\"Greys\")\n",
        "plt.show()\n",
        "print(\"y_train [shape %s] 10 samples:\\n\" % (str(y_train.shape)), y_train[:10])"
      ],
      "execution_count": 0,
      "outputs": [
        {
          "output_type": "stream",
          "text": [
            "X_train [shape (50000, 28, 28)] sample patch:\n",
            " [[0.         0.29803922 0.96470588 0.98823529 0.43921569]\n",
            " [0.         0.33333333 0.98823529 0.90196078 0.09803922]\n",
            " [0.         0.33333333 0.98823529 0.8745098  0.        ]\n",
            " [0.         0.33333333 0.98823529 0.56862745 0.        ]\n",
            " [0.         0.3372549  0.99215686 0.88235294 0.        ]]\n",
            "A closeup of a sample patch:\n"
          ],
          "name": "stdout"
        },
        {
          "output_type": "display_data",
          "data": {
            "image/png": "[encoded data removed]",
            "text/plain": [
              "<Figure size 432x288 with 1 Axes>"
            ]
          },
          "metadata": {
            "tags": [],
            "needs_background": "light"
          }
        },
        {
          "output_type": "stream",
          "text": [
            "And the whole sample:\n"
          ],
          "name": "stdout"
        },
        {
          "output_type": "display_data",
          "data": {
            "image/png": "[encoded data removed]",
            "text/plain": [
              "<Figure size 432x288 with 1 Axes>"
            ]
          },
          "metadata": {
            "tags": [],
            "needs_background": "light"
          }
        },
        {
          "output_type": "stream",
          "text": [
            "y_train [shape (50000,)] 10 samples:\n",
            " [5 0 4 1 9 2 1 3 1 4]\n"
          ],
          "name": "stdout"
        }
      ]
    },
    {
      "cell_type": "markdown",
      "metadata": {
        "id": "SETCrrTYfur9",
        "colab_type": "text"
      },
      "source": [
        "# Linear model\n",
        "\n",
        "Your task is to train a linear classifier $\\vec{x} \\rightarrow y$ with SGD using TensorFlow.\n",
        "\n",
        "You will need to calculate a logit (a linear transformation) $z_k$ for each class: \n",
        "$$z_k = \\vec{x} \\cdot \\vec{w_k} + b_k \\quad k = 0..9$$\n",
        "\n",
        "And transform logits $z_k$ to valid probabilities $p_k$ with softmax: \n",
        "$$p_k = \\frac{e^{z_k}}{\\sum_{i=0}^{9}{e^{z_i}}} \\quad k = 0..9$$\n",
        "\n",
        "We will use a cross-entropy loss to train our multi-class classifier:\n",
        "$$\\text{cross-entropy}(y, p) = -\\sum_{k=0}^{9}{\\log(p_k)[y = k]}$$ \n",
        "\n",
        "where \n",
        "$$\n",
        "[x]=\\begin{cases}\n",
        "       1, \\quad \\text{if $x$ is true} \\\\\n",
        "       0, \\quad \\text{otherwise}\n",
        "    \\end{cases}\n",
        "$$\n",
        "\n",
        "Cross-entropy minimization pushes $p_k$ close to 1 when $y = k$, which is what we want.\n",
        "\n",
        "Here's the plan:\n",
        "* Flatten the images (28x28 -> 784) with `X_train.reshape((X_train.shape[0], -1))` to simplify our linear model implementation\n",
        "* Use a matrix placeholder for flattened `X_train`\n",
        "* Convert `y_train` to one-hot encoded vectors that are needed for cross-entropy\n",
        "* Use a shared variable `W` for all weights (a column $\\vec{w_k}$ per class) and `b` for all biases.\n",
        "* Aim for ~0.93 validation accuracy"
      ]
    },
    {
      "cell_type": "code",
      "metadata": {
        "id": "s9IFlF3xfur-",
        "colab_type": "code",
        "outputId": "df8d735c-046e-470c-d0e8-8eec64a70764",
        "colab": {
          "base_uri": "https://localhost:8080/",
          "height": 50
        }
      },
      "source": [
        "X_train_flat = X_train.reshape((X_train.shape[0], -1))\n",
        "print(X_train_flat.shape)\n",
        "\n",
        "X_val_flat = X_val.reshape((X_val.shape[0], -1))\n",
        "print(X_val_flat.shape)"
      ],
      "execution_count": 0,
      "outputs": [
        {
          "output_type": "stream",
          "text": [
            "(50000, 784)\n",
            "(10000, 784)\n"
          ],
          "name": "stdout"
        }
      ]
    },
    {
      "cell_type": "code",
      "metadata": {
        "id": "PI_RUGfkfusC",
        "colab_type": "code",
        "outputId": "d46abacf-3fb8-4884-d9dc-8ed77cf70f73",
        "colab": {
          "base_uri": "https://localhost:8080/",
          "height": 84
        }
      },
      "source": [
        "import keras\n",
        "\n",
        "y_train_oh = keras.utils.to_categorical(y_train, 10)\n",
        "y_val_oh = keras.utils.to_categorical(y_val, 10)\n",
        "\n",
        "print(y_train_oh.shape)\n",
        "print(y_train_oh[:3], y_train[:3])"
      ],
      "execution_count": 0,
      "outputs": [
        {
          "output_type": "stream",
          "text": [
            "(50000, 10)\n",
            "[[0. 0. 0. 0. 0. 1. 0. 0. 0. 0.]\n",
            " [1. 0. 0. 0. 0. 0. 0. 0. 0. 0.]\n",
            " [0. 0. 0. 0. 1. 0. 0. 0. 0. 0.]] [5 0 4]\n"
          ],
          "name": "stdout"
        }
      ]
    },
    {
      "cell_type": "code",
      "metadata": {
        "id": "bqzqUPdSfusL",
        "colab_type": "code",
        "outputId": "a58c2019-d7c3-4d63-d53b-4b4d73cf085b",
        "colab": {
          "base_uri": "https://localhost:8080/",
          "height": 238
        }
      },
      "source": [
        "# run this again if you remake your graph\n",
        "s = reset_tf_session()"
      ],
      "execution_count": 0,
      "outputs": [
        {
          "output_type": "stream",
          "text": [
            "WARNING:tensorflow:From /content/keras_utils.py:68: The name tf.get_default_session is deprecated. Please use tf.compat.v1.get_default_session instead.\n",
            "\n",
            "WARNING:tensorflow:From /usr/local/lib/python3.6/dist-packages/keras/backend/tensorflow_backend.py:79: The name tf.reset_default_graph is deprecated. Please use tf.compat.v1.reset_default_graph instead.\n",
            "\n",
            "WARNING:tensorflow:From /usr/local/lib/python3.6/dist-packages/keras/backend/tensorflow_backend.py:82: The name tf.placeholder is deprecated. Please use tf.compat.v1.placeholder instead.\n",
            "\n",
            "WARNING:tensorflow:From /usr/local/lib/python3.6/dist-packages/keras/backend/tensorflow_backend.py:84: The name tf.get_default_graph is deprecated. Please use tf.compat.v1.get_default_graph instead.\n",
            "\n",
            "WARNING:tensorflow:From /content/keras_utils.py:75: The name tf.ConfigProto is deprecated. Please use tf.compat.v1.ConfigProto instead.\n",
            "\n",
            "WARNING:tensorflow:From /content/keras_utils.py:77: The name tf.InteractiveSession is deprecated. Please use tf.compat.v1.InteractiveSession instead.\n",
            "\n"
          ],
          "name": "stdout"
        }
      ]
    },
    {
      "cell_type": "code",
      "metadata": {
        "id": "UzwXdVClfusS",
        "colab_type": "code",
        "colab": {}
      },
      "source": [
        "# Model parameters: W and b\n",
        "W = tf.get_variable('W',dtype=tf.float32,shape=(784,10),trainable=True)     ### YOUR CODE HERE ### tf.get_variable(...) with shape[0] = 784\n",
        "b = tf.get_variable('b',dtype=tf.float32,shape=(10, ))    ### YOUR CODE HERE ### tf.get_variable(...)"
      ],
      "execution_count": 0,
      "outputs": []
    },
    {
      "cell_type": "code",
      "metadata": {
        "id": "AmTqoxtSfusX",
        "colab_type": "code",
        "colab": {}
      },
      "source": [
        "# Placeholders for the input data\n",
        "input_X = tf.placeholder(tf.float32,shape=(None,784))       ### YOUR CODE HERE ### tf.placeholder(...) for flat X with shape[0] = None for any batch size\n",
        "input_y = tf.placeholder(tf.float32,shape=(None,10))      ### YOUR CODE HERE ### tf.placeholder(...) for one-hot encoded true labels"
      ],
      "execution_count": 0,
      "outputs": []
    },
    {
      "cell_type": "code",
      "metadata": {
        "id": "DP6Bola8fusc",
        "colab_type": "code",
        "colab": {}
      },
      "source": [
        "# Compute predictions\n",
        "logits = input_X @ W + b    ### YOUR CODE HERE ### logits for input_X, resulting shape should be [input_X.shape[0], 10]\n",
        "probas =  tf.nn.softmax(logits)    ### YOUR CODE HERE ### apply tf.nn.softmax to logits\n",
        "classes = tf.argmax(probas,1)     ### YOUR CODE HERE ### apply tf.argmax to find a class index with highest probability\n",
        "\n",
        "# Loss should be a scalar number: average loss over all the objects with tf.reduce_mean().\n",
        "# Use tf.nn.softmax_cross_entropy_with_logits on top of one-hot encoded input_y and logits.\n",
        "# It is identical to calculating cross-entropy on top of probas, but is more numerically friendly (read the docs).\n",
        "loss = tf.reduce_mean(tf.nn.softmax_cross_entropy_with_logits(logits=logits,labels=input_y))     ### YOUR CODE HERE ### cross-entropy loss\n",
        "\n",
        "# Use a default tf.train.AdamOptimizer to get an SGD step\n",
        "step = tf.train.AdamOptimizer().minimize(loss)    ### YOUR CODE HERE ### optimizer step that minimizes the loss"
      ],
      "execution_count": 0,
      "outputs": []
    },
    {
      "cell_type": "code",
      "metadata": {
        "scrolled": false,
        "id": "IjULkoyffusg",
        "colab_type": "code",
        "outputId": "c3c98344-25ad-4643-b6c1-8763ddc6ed4a",
        "colab": {
          "base_uri": "https://localhost:8080/",
          "height": 309
        }
      },
      "source": [
        "s.run(tf.global_variables_initializer())\n",
        "\n",
        "BATCH_SIZE = 512\n",
        "EPOCHS = 40\n",
        "\n",
        "# for logging the progress right here in Jupyter (for those who don't have TensorBoard)\n",
        "simpleTrainingCurves = matplotlib_utils.SimpleTrainingCurves(\"cross-entropy\", \"accuracy\")\n",
        "\n",
        "for epoch in range(EPOCHS):  # we finish an epoch when we've looked at all training samples\n",
        "    \n",
        "    batch_losses = []\n",
        "    for batch_start in range(0, X_train_flat.shape[0], BATCH_SIZE):  # data is already shuffled\n",
        "        _, batch_loss = s.run([step, loss], {input_X: X_train_flat[batch_start:batch_start+BATCH_SIZE], \n",
        "                                             input_y: y_train_oh[batch_start:batch_start+BATCH_SIZE]})\n",
        "        # collect batch losses, this is almost free as we need a forward pass for backprop anyway\n",
        "        batch_losses.append(batch_loss)\n",
        "\n",
        "    train_loss = np.mean(batch_losses)\n",
        "    val_loss = s.run(loss, {input_X: X_val_flat, input_y: y_val_oh})  # this part is usually small\n",
        "    train_accuracy = accuracy_score(y_train, s.run(classes, {input_X: X_train_flat}))  # this is slow and usually skipped\n",
        "    valid_accuracy = accuracy_score(y_val, s.run(classes, {input_X: X_val_flat}))  \n",
        "    simpleTrainingCurves.add(train_loss, val_loss, train_accuracy, valid_accuracy)"
      ],
      "execution_count": 0,
      "outputs": [
        {
          "output_type": "display_data",
          "data": {
            "text/html": [
              "<img src=\"data:image/jpeg;base64,/9j/4AAQSkZJRgABAQEASABIAAD/2wBDAAIBAQEBAQIBAQECAgICAgQDAgICAgUEBAMEBgUGBgYFBgYGBwkIBgcJBwYGCAsICQoKCgoKBggLDAsKDAkKCgr/2wBDAQICAgICAgUDAwUKBwYHCgoKCgoKCgoKCgoKCgoKCgoKCgoKCgoKCgoKCgoKCgoKCgoKCgoKCgoKCgoKCgoKCgr/wAARCAEgA2ADASIAAhEBAxEB/8QAHwAAAQUBAQEBAQEAAAAAAAAAAAECAwQFBgcICQoL/8QAtRAAAgEDAwIEAwUFBAQAAAF9AQIDAAQRBRIhMUEGE1FhByJxFDKBkaEII0KxwRVS0fAkM2JyggkKFhcYGRolJicoKSo0NTY3ODk6Q0RFRkdISUpTVFVWV1hZWmNkZWZnaGlqc3R1dnd4eXqDhIWGh4iJipKTlJWWl5iZmqKjpKWmp6ipqrKztLW2t7i5usLDxMXGx8jJytLT1NXW19jZ2uHi4%2BTl5ufo6erx8vP09fb3%2BPn6/8QAHwEAAwEBAQEBAQEBAQAAAAAAAAECAwQFBgcICQoL/8QAtREAAgECBAQDBAcFBAQAAQJ3AAECAxEEBSExBhJBUQdhcRMiMoEIFEKRobHBCSMzUvAVYnLRChYkNOEl8RcYGRomJygpKjU2Nzg5OkNERUZHSElKU1RVVldYWVpjZGVmZ2hpanN0dXZ3eHl6goOEhYaHiImKkpOUlZaXmJmaoqOkpaanqKmqsrO0tba3uLm6wsPExcbHyMnK0tPU1dbX2Nna4uPk5ebn6Onq8vP09fb3%2BPn6/9oADAMBAAIRAxEAPwD9/KKKKACiiigAooooAKKKKACiiigAooooAKKKKACiiigAooooAKKKKACiiigAooooAKKKKACiiigAooooAKKKKACiiigAooooAKKKKACiiigAooooAKKKKACiiigAooooAKKKKACiiigAooooAKKKKACiiigAooooAKKKKACiiigAooooAKKKKACiiigAooooAKKKKACiiigAooooAKKKKACiiigAooooAKKKKACiiigAooooAKKKKACiiigAooooAKKKKACiiigAooooAKKKKACiiigAooooAKKKKACiiigAooooAKKKKACiiigAooooAKKKKACiiigAooooAKKKKACiiigAooooAKKKKACuN%2BOP7QHwm/Zx8JW/jT4veJ5dPtL7U4dN0u2stLub%2B91K9lDGO1tLO0jluLudlR2EUMbvtR2xhWI7KvFv2u/gP8VPiX4h%2BGfxl%2BBd14fl8X/CrxjPrWmaJ4tu57bTdYhudLvdMubaW4ghmktH8q9aSOdYZtrR7TGyu2ACjpH/AAUr/Y71rxm3w8tvHviCDW7fSodU1bTtR%2BHOvWkmi2EhuAt3qXn2SDTIAbWcNLdmFEKYYqWUGbwn/wAFH/2NfGfg/wAQ%2BOtM%2BLFza6f4Y0e11fVBrnhPVdMuJNPuXMdreWtvd2sU19bzyAxwy2ySpM5CRlmIB86vP2GPjP8AHW0/aRP7Qt74V8My/tB/CPTvBskfgrWLrUzo7RWusWsr%2BbcWtqZ1VNRiZDsXeyygogxuy9Y/Y2/at%2BM%2Btaz8UP2lPh38G9X1e0%2BE6eBtB8E6d4n1QaRrSy6jaXt5fXd2bBJ9PYmyg%2BzxQw3BtnDP50hIwAeyX/7fP7N2k%2BAbH4h6tdeOLSHVPED6Jpeh3Xwj8SR67e3yW5uXjh0dtPGoShYAZTIluUCKzFsA49P8JeOfDfjbwTY/EPRbi5i0rULBbyCTVNPnsZY4iu7MsFykcsDAfeSRVZSCGAIIr41tv2Gf2tJfgpJ4W8feGPCnjS%2Bh%2BIcut%2BC9B1n9ofxXb3fgOxOmxWoi0/xbHp7atcSGUXcreZDGBHeGENsjGfUvB/7Bmq%2BKfgJo3hb9pz46%2BOPEfj5PhtdeFtf8Q6T8Q9at9Muhc2tzbyTPpa3SWN5MiXTBbq4tmmdoopWKuibADc8Mf8FJP2MvF/h7xJ4s0b4tXK6Z4W8GXni6/vr7wlqtpFe6BaruuNU09p7VBqtogK5nsvPQmSMAkyIG4n40f8FdP2YfAf7M/wATf2gfhW%2Bs%2BM7v4b%2BDYfEjeGW8L6xps2r2Nw7R2t3avNYFrixlkRh9vgjmtkVWdnCqSPHfC/8AwSh%2BNC/BPxf8LPFnh3w9J4h/4UL4j8A%2BC/Hmo/tD%2BNvECSXGpWEdp5h0jVUkttGtpDDE8scEl0yeVGqFggz6P%2B1L/wAE5vih%2B0BYeKtE0Pxj4d0q2179le%2B%2BGlrLM87GDVpLiOWGdo1iANqNhBIbzBnhO9AHqkv/AAUU/ZZt/E3hrwJeav41tvEni7TpdQ0HwpefCTxLDq8tnFd/Y5LmSwk08XNvCkxG6SaNEVGWUkRsrmXwN/wUT/Y7%2BJGqarpXhD4tyXB0rQ9Q1lbufw1qVvaapp1iwS8u9NuZrdYdVhhYqHeyedVLqCfmGcXwR8APjz4x/apsf2oPjn4f8HeH5JPg5f8Ag/VNE8J%2BK7vVTBcy6tHcpJDcz6fZl4mgiUsTGjJIdoV1USHwGb9hz9pf4bfs8%2BF/Cnxo1rwIPCP7N3wP8SaB4L1PwrfXcmpeKd2hHTLe4vbeW2ii04JZozSQxS3QknZXDxqgQgH0D4U/4Kl/sL%2BNPBus/ELQ/jLdrouheDj4tutRv/BmsWcdzoIKB9Vs/PtEN/ZxmRBJPbCWOLcPMZc167a/GD4c3vxcuPgVZ%2BIxN4qtPDUGv3emRWsrCHTp55beGd5QnlL5ksE6ohfe3kyEKQjEfFX7I/7P3xC8WfBL4Q/Hb9t/Uvhlovww%2BG/7L9z4fgk07W5wmr6bqmnaWby%2B1X7VBDDpkEVppyq0CS3CZleRplWNVrsP%2BCK3wr8d6P8As76n8evit4tbxFrHjW%2Bg03w54hlgaOS%2B8I6JF/ZWiXBD8/6VDDNqhPd9WcgKCFAB9lUUUUAFFFFABRRRQAUUUUAFFFFABRRRQAUUUUAFFFFABRRRQAUUUUAFFFFABRRRQAUUUUAFFFFABRRRQAUUUUAFFFFABRRRQAV4jpH/AAUY/Y91K716z1P4pXnh5vDnhy58QahJ418I6roMc2k27pHPf2smpWsC31ujyRK0tsZUBljGcuufab2K5ms5YbO6EEzxMsUxj3%2BWxHDbT1wecd6/MTV/%2BCOX7cvxf1bwvrnxu%2BOOhvrfhrwfqFnqHijUPit4m8TjxDrf2zSr611E6XfRQ2Wk20lzpi%2BfYWQCiOTassgVAoB9sv8At/8A7MNr8NG%2BLGseIPFWlaW2uQaNY2eufDLX7DVNTv5kMkMFlptxYpe37SIGdfs8MgZUdgSEYjovAf7VnwP%2BI%2Bv2XhPw54h1SHV7/wAKT%2BJIdI1rwrqWmXaabDd/ZJZZYby3ikgdZ/kMMirL32bea8m%2BJ3wc/bd%2BMTfD342654N%2BFWh/EP4UeOptY8P%2BGbXxxqV/ouuWdxpN3plzHcXz6VDNYzFL2SSN0tbgRmIKfMEjYq/En4Dftwa/8ZfDv7TXgfRvhXaeLL74Yar4L8Y6FqXivUpLDSFuL%2BG6tb%2ByuE04SagYhG6yW8sVoJS4xLFjkA7jSf8Ago3%2ByB4j17wL4W8K/EbVdZ1P4k%2BDdK8W%2BDdO0TwPrN7PeaHqL7LXUZEgtGa1t92PMknEa24ZTN5QYE7Hw1/bc/Zu%2BK/xGufhP4Z8X6tZ6/b6Xc6nDZeJ/BmraIt/Y28iRz3dlLqNrBHfwRvLEHltmkRfMQkgMpPlH7Cn7CXxY/Zh1/4caz488QeGrs%2BDv2UvCPwxv30i5nlZtW0t5muZovMgj3Wrb02MxV22/NGmBXjXw0/4JV/tjeJ/ij4X8TftTfGGz1SLT/AHivwv408TQfF/xJrV54il1exS2/tO10y%2Bhj0/QjlSxtLRSi5UCZxGq0AfUvhP/gov%2ByP410WPxVoPjvXP7DuNV0vT9P8AEt78P9btdK1GXUr2OyspLS%2Bns0tryCW5mijFxBI8IMqFnCsCfS/C3xd%2BHnjX4geKfhd4X8Q/a9c8FyWcfie0S0mC2Ml1B9ogjMrII3doSshRGZkWSMsFEibvmHxx4E%2BIvhX/AIJ7eNPgR/wUM8T/AAq8EeAtB%2BGkWgW3xM8O%2BLbsM06RpbWupPaXVnAmmzLMLeSGCO4umM5REcnaG7X/AIJX/D74seG/2RNK%2BKv7RVglv8TvixfS%2BOviJCtu0X2e/v1jMNpsb5k%2By2MdlZ7TkgWuDQB9G0UUUAFFFFABRRRQAUUUUAFFFFABRRRQAUUUUAFFFFABRRRQAUUUUAFFFFABRRRQAUUUUAFFFFABRRRQAUUUUAFFFFABRRRQAUUUUAFeL/Hrx/8AtF/8NF%2BBfgR8BfGfgrw%2Bmv8AgrxLr2r6n4v8F3etEnTrvQ7eGGGO31Kx8sN/akrMzM%2BfLQALyT7RXhXxF1pLL/gpV8IdFkUYvfgn8Q2Rs87o9W8GnH5Mx/Ck2luXCEqjtHs392rL/wDwg/8AwUL/AOjoPgz/AOGH1b/5qKP%2BEH/4KF/9HQfBn/ww%2Brf/ADUV7NRTIPGf%2BEH/AOChf/R0HwZ/8MPq3/zUUf8ACD/8FC/%2BjoPgz/4YfVv/AJqK9mooA8Z/4Qf/AIKF/wDR0HwZ/wDDD6t/81FH/CD/APBQv/o6D4M/%2BGH1b/5qK9mooA8Z/wCEH/4KF/8AR0HwZ/8ADD6t/wDNRR/wg/8AwUL/AOjoPgz/AOGH1b/5qK9mooA8Z/4Qf/goX/0dB8Gf/DD6t/8ANRR/wg//AAUL/wCjoPgz/wCGH1b/AOaivZqKAPGf%2BEH/AOChf/R0HwZ/8MPq3/zUUf8ACD/8FC/%2BjoPgz/4YfVv/AJqK9mooA8Z/4Qf/AIKF/wDR0HwZ/wDDD6t/81FH/CD/APBQv/o6D4M/%2BGH1b/5qK9mooA8Z/wCEH/4KF/8AR0HwZ/8ADD6t/wDNRR/wg/8AwUL/AOjoPgz/AOGH1b/5qKta/wDG/wDZE%2BFNppGk/HT4w/Dnw5rmoaLBqBtvF3iGwtLu4jkyPP23Dq7IzpIA3TKMM8EDN/4a/wD%2BCcH/AEdF8Ef/AAttH/8Ajtc08Zg6cnGdWKa6OUU/uckz2sPw3xJi6Ea1DA15wkrqUaNaUWu6lGjKLWj1Ta03LH/CD/8ABQv/AKOg%2BDP/AIYfVv8A5qKP%2BEH/AOChf/R0HwZ/8MPq3/zUVX/4a/8A%2BCcH/R0XwR/8LbR//jtenaBovws8V6FZeKfC2k%2BH9S0zUrSO607UdPggmguoJFDxyxyICroykMrKSCCCDg1dLE4eu2qc4yt2kn%2BTZz47Js5yuEZ43C1aSk7J1KdSmm97JzpwTdtbJt21tbU85/4Qf/goX/0dB8Gf/DD6t/8ANRR/wg//AAUL/wCjoPgz/wCGH1b/AOaivPPh9/wUa/Yv8X%2BB7Pxh4h%2BHvifQZ9U8ca14W0TRrn4Pa3Peate6dcX8ci2kUOns90TDp887LErmEAxybJFZR2XxC/ao/Za8C2Xj20vNEi0/WPAXhDWvEN5beLPAmraTZ3dnpi/6XPb3UmnOL23iZohJLZJdFRNGwR96K%2Bx5po/8IP8A8FC/%2BjoPgz/4YfVv/moo/wCEH/4KF/8AR0HwZ/8ADD6t/wDNRVWw/as/Yw1D4zyfs/Q3lv8A8JRb%2BII9Buo/%2BEGvxYQ6q%2BnR6lHYtqDWgtFne0lSZIzKGcHCgsCo2fjX8Vfgr8JP2edd/aH0fwjo3ijTtLsGk0230NbaQardNKIILWKYAoGkuGSHcTtVmJboaAKH/CD/APBQv/o6D4M/%2BGH1b/5qKP8AhB/%2BChf/AEdB8Gf/AAw%2Brf8AzUU/9nD4gW3xcvPGXgf4o/Arw34V8YeA/EEOma/pWj6iuq2Miz2Nte29zbXUlpbPLG8VyqnfBGyyxSrhlCu/knxM/bR8Q/Abwz8T5fjl%2ByH4I07xB4A%2BFg8d2Wm6F46F9Z3VkZ54BBeXUmlwNYTb4G5WG4jZVkKO/lMKAPWP%2BEH/AOChf/R0HwZ/8MPq3/zUUf8ACD/8FC/%2BjoPgz/4YfVv/AJqK8l%2BKH7cvhz4X/Ab4f/GK%2B8C/s%2BXq/ED4iP4ZtdctfjWn/CJ2MS6bqN99ql1s6P8AeLae0HlC2x5kyDzOorqf2jf2sPBv7PXh74Zxn4E%2BG/E/iPx3rvh611bTfD%2BrxvY6Np%2Bo6pp%2BmTaot41qDcwRXOpWyRDyonud4IESrK0QB2P/AAg//BQv/o6D4M/%2BGH1b/wCaij/hB/8AgoX/ANHQfBn/AMMPq3/zUVz/AIl%2BLXxF8I/tgeC/2cNX/Zb%2BHk%2Bg%2BNv7Zu7PxDpnjWaXUrLS9Ot0aS%2Bn059HSJVNzc2NsVW7ba14jZbBFL8Efi58Qfi/4L%2BKEN1%2ByZ4L0vx18OvGr%2BHIPDMfjAXFhqMh0zTtQile/Omo1uDHqKK6i3l2NE20yAg0Ab//AAg//BQv/o6D4M/%2BGH1b/wCaij/hB/8AgoX/ANHQfBn/AMMPq3/zUV5v4h/a71S1/wCCfXhH9uvwn%2ByV4V1A61oenax4j8L3nioWy6TZ3CKZTDdDTpDdyIzKqqYYRJnJaPFa37R37VWifAz4ka54c0L9m7Q9e8O%2BAfDmj6/8T/EE%2BqpZzaRp%2Bo3tzbRPZ2wtJRfSRJZXNxNG8tuFiRNjSO4QAHZf8IP/AMFC/wDo6D4M/wDhh9W/%2Baij/hB/%2BChf/R0HwZ/8MPq3/wA1FcxbftIaDYftnQ/sj%2BKvhN8NnlvtPvr%2B2l8L%2BM01LV9Ls4I0kju9X0xrCH%2BzbeYOESUTzKZGjQZ37l5/4YftmaH8bPBvxZ8c%2BAP2f/A2l6X8PNUtDoet%2BPvF6aRput6LNZxXg1ie5TT5zp8DQO00QKTb4vKd2iMjLGAej/8ACD/8FC/%2BjoPgz/4YfVv/AJqKP%2BEH/wCChf8A0dB8Gf8Aww%2Brf/NRXiNr/wAFEdJ8T/DLw140%2BHn7LXg3Ur3VvCni7xPqJvvG0VppD6P4ev4bK5u9M1D%2Bz3/tJLkzxT2rtFbxSQOJJJIAyhuw8X/tj%2BAvD3xL%2BFmi6L8K/h3q3hv4unSm8Jx2/i9U8V3Vvexh/t0ehmwxLZwKwknmF1%2B6iWRyvybWAO%2B/4Qf/AIKF/wDR0HwZ/wDDD6t/81FH/CD/APBQv/o6D4M/%2BGH1b/5qK4zwd%2B0vJ4l/aX8XfssD4EfDLUvEugeEdQ1yyi8H%2BP11M2jQzW8drZa2rabCdGuLsXSSQr/pAZLe7YEiEF%2B6/ZG8faZ%2B0j8DbT4peL/gj4f8Mat/b%2BuaPqmiafeLqVvb3OmaveaZIYrlra3aZHezaRSYYzhwCOMkAg/4Qf8A4KF/9HQfBn/ww%2Brf/NRVDwP44/as8HftWeHPgj8bviP8PfE2jeJvh74h1yGbwr8PL7Rbq0utNvtEt0VnuNXvkljdNUlJUIjBokIbGQfUPFnhPwtpvhbUtS03w5Y21zbWMstvcW9oiPG6oWVlZQCCCBXn3jj/AJSF/C//ALIz48/9O3hCgD2aiiigAooooAKKKKACvnH4TeKv27/jro%2BveO/C/wAb/hJoGl2/xC8VaHpelX/wf1S/uIrXS9ev9MhaW4TxFAssjx2auzLFGu5yAoAFfR1eM/sH/wDJENc/7LN8R/8A1NdboAP%2BEH/4KF/9HQfBn/ww%2Brf/ADUUf8IP/wAFC/8Ao6D4M/8Ahh9W/wDmor2aigDxn/hB/wDgoX/0dB8Gf/DD6t/81FH/AAg//BQv/o6D4M/%2BGH1b/wCaivZqKAPGf%2BEH/wCChf8A0dB8Gf8Aww%2Brf/NRR/wg/wDwUL/6Og%2BDP/hh9W/%2BaivZqKAPGf8AhB/%2BChf/AEdB8Gf/AAw%2Brf8AzUUf8IP/AMFC/wDo6D4M/wDhh9W/%2BaivZqKAPGf%2BEH/4KF/9HQfBn/ww%2Brf/ADUUf8IP/wAFC/8Ao6D4M/8Ahh9W/wDmor2aigDxn/hB/wDgoX/0dB8Gf/DD6t/81FH/AAg//BQv/o6D4M/%2BGH1b/wCaivZqKAPGf%2BEH/wCChf8A0dB8Gf8Aww%2Brf/NRR/wg/wDwUL/6Og%2BDP/hh9W/%2BaivZqKAPGf8AhB/%2BChf/AEdB8Gf/AAw%2Brf8AzUUf8IP/AMFC/wDo6D4M/wDhh9W/%2BaivZqKAPGf%2BEH/4KF/9HQfBn/ww%2Brf/ADUUf8IP/wAFC/8Ao6D4M/8Ahh9W/wDmor2aigDxn/hB/wDgoX/0dB8Gf/DD6t/81FH/AAg//BQv/o6D4M/%2BGH1b/wCaivZqKAPGf%2BEH/wCChf8A0dB8Gf8Aww%2Brf/NRR/wg/wDwUL/6Og%2BDP/hh9W/%2BaivZqKAPGf8AhB/%2BChf/AEdB8Gf/AAw%2Brf8AzUUf8IP/AMFC/wDo6D4M/wDhh9W/%2BaivZqKAPGf%2BEH/4KF/9HQfBn/ww%2Brf/ADUUf8IP/wAFC/8Ao6D4M/8Ahh9W/wDmor2aigDxn/hB/wDgoX/0dB8Gf/DD6t/81FH/AAg//BQv/o6D4M/%2BGH1b/wCaivZqg1DU9N0m3N3qmoQW0Q6y3EoRR%2BJOKG0txNpK7PIP%2BEH/AOChf/R0HwZ/8MPq3/zUUf8ACD/8FC/%2BjoPgz/4YfVv/AJqK7e8/aD%2BAmn3DWmofG/whBKv3o5vEtqrD6gyZqtcftN/s22ib7r9oPwPEvrJ4ss1H6yVi8Rh1vOP3r/MweLwi3qR/8Cj/APJHI/8ACD/8FC/%2BjoPgz/4YfVv/AJqKP%2BEH/wCChf8A0dB8Gf8Aww%2Brf/NRV3xV%2B3p%2BxJ4Jtjc%2BJv2t/hxbDGRGPGVnJI30jSQsfwFcAv8AwWL/AOCaLXz6cP2stD8yNsMxsL0Rn6P5G0/UGuepmmWUnadeCfnOP/yRy1c5yehLlqYmmn5zh/8AJHZf8IP/AMFC/wDo6D4M/wDhh9W/%2Baij/hB/%2BChf/R0HwZ/8MPq3/wA1FcT4r/4LJf8ABNXwjZrd3f7Uuk3rSD91b6Npt7eyuew2wQttP%2B9ivLPFP/BxH%2BwT4ZuGgTw78SL8A/JJa%2BFoo1kHqv2i4jP5gVzVuIMjofHiYL/t5P8AK5phszwGNq%2Byws/ay7U1Oq/upQqv8D6J/wCEH/4KF/8AR0HwZ/8ADD6t/wDNRR/wg/8AwUL/AOjoPgz/AOGH1b/5qK%2BT7r/g5X/Y5AL6b8FfiVKvbz7XTIz%2BQvWxXP65/wAHNXwMjynhP9l7xhfyY4W81W1t8n/gHm1xy4u4bgtcTH5Xf/tp7dDKc/xUrUMuxc3/AHcHjH/7qI%2B0P%2BEH/wCChf8A0dB8Gf8Aww%2Brf/NRVv8AZW%2BI3xp8Yax8UPAnx01/wvq2qeAfiFFodnqvhPw1c6Tb3VrLoOj6mrPb3F7eMsiyajKhYS7SsaHapzn4Kg/4OLfi341doPht%2BwNdE5xHJc%2BI7u83f8At9P4%2Bma%2Bl/wDgkV8bfiF%2B0Z4U%2BNHxm%2BKnw/8A%2BEW13WvjMpvdCEFxH9mEXhbw9BH8twqyDdHGj/MozvyOCK6suz/K81rOlhZuTSv8MkrbbtJdTTGZHxHllNVMwy/EYeDdlKtQqUU3vZe0UW20m7cuyevf65ooor2TzgooooAKKKKACiiigAooooAKKKKACiiigAooooAKKKKACiiigDnviv49vvhh8PNT8eab8PNe8Vz6bCsieHvDItTfXmXVSsX2ueCEEBixMkqKFVjnjBwfB37QOmfEf9mjw9%2B058Ovh34l1ux8U%2BEtO1/Q/DVnDarqlxDewRTQwlZbhLdJQsq7t04jUhiZMDdW98Vx8QW%2BHOsRfCvw7o2reIJbNo9N0/xBrkum2crsQp825htrp4gFLEFYZMkAYAO4eH/Aj4dft2/BL9gbw78A9A8G/Ci3%2BI3gv4XWPh7w7qM3jjUrzR59Rs7aK0huJ/8AiVQzCFkjM7Iqlg2IgSD5wAPVPgD%2B0Bofx%2B0nX5bTwXr3hnWPCfiN9C8U%2BGfE0dsL3S75ba3u1jdrSee3kD213bTK8U0ilZl5DBlHjX7Qus/2X/wVn/Zmsd%2BP7S%2BGPxMt8euJPDEuP/IVeifsS/B74gfBD4Lt4P8Aip4X0ay8RT6zcX%2Bt6tpfjGfXZfEF3OEefUru5m06wK3EspceSkPlRRxxJGVRVij%2Bb/2o/Bfh34bf8Ftf2S/F%2Blap4gln8XaL8So9Ui1XxbqN9axMun6UYxa21zPJBZKWPzLbpEr4XcG2rjlxk/Z0Obzj%2BMor9T3eHMN9bzT2XenWf/gNCtL/ANtPu6iiiuo8IKKKKACiiigAooooAKKKKACiiigAooooA8z1L9mT9m340aPoPin4xfs9%2BB/Fmp2/h%2B1tYNR8S%2BE7O/njgVS6xLJPGzBAzuwUHALscZJql/wwP%2Bwr/wBGWfCX/wANzpn/AMYrk/i9/wAFIP2L/wBj6Xw58NP2i/jL/wAI7rd94Us9TtbL/hHdRu99q%2B%2BJZN9rbyIMvDKNpYN8ucYIJ5D/AIfm/wDBLL/o6L/yydc/%2BQq8XEYvh2nXlGvOkpp683s7387q9/U0XiHiMqX1SOcTpKnpyLE1IKPWyiq8VHfZRW%2B2p63/AMMD/sK/9GWfCX/w3Omf/GK9O0DQNC8KaFZeFvC2i2mm6ZptpHa6dp2n2ywwWsEahI4o40AVEVQFVVAAAAAwK%2BVv%2BH5v/BLL/o6L/wAsnXP/AJCr6e8A%2BOvCvxQ8CaL8S/AuqfbtE8RaRbano975DxfaLW4iWWKTZIqum5HU7WUMM4IB4rowOIyetOSwcqbaWvJy3t58qWl%2B4pcXVeJP3U8xlieTWzrzq8t9L2lVqWvtdJX2v0PCfhh%2Bwv4r8AePPCmtan8Z9N1DQfA/xQ8VeL/DWlw%2BEJILsLrv9rPPaXFyb10lMUuqsUlSGL93CEZCzGQeR61/wRhl17xT498SXnx28OxXHjLwF4/8L/21a/C9E1u5j8TSK4uNV1E3xfVHstojhQLbp5Y27UwGHu1h%2B358I9X06xm0nwp4jmvrrRfFupXeky/YLeXS08OXq2Gox3ck92kEDC7dIEZpfLYksXWNXdeE8G/8FPvA/wAdpvhxqPwEgs5bHXfjPqPgbxvBf31jqUunm38G6v4hQ21zpV9cWcrsbSwO9J5kCTTRsElU%2BV6RB10n7DAfxDquvj4oYOp/HXSfiOYhon%2Br%2BxaRp%2Bm/YM%2Bf82/7B5nnYG3zdvltt3N3nxr%2BB2oftAfs8678EvH/AIxit7/WrBo08QaHpZgFldJKJrW6igllly0MqQvtZ2V2jOcBsD548W/8FVpX%2BCHhTxr8IvhTr/iO91SD4eyeI/FMvh%2BC30bRW8SXenKkFzANSa5juGtb3zVSA3UUDTQebMyklvpD4w/Hjw/8JPgF48%2BPt1o2pXNj4C8P6xql9ZXGnzWktwNOhlllWMTopZW8lgkqho3BDIzKQSAc78Bf2f8A4ofCnV/EXjvxr8WtD8Q%2BKvHHi2LVvGmo2Xg%2BawtJLWDTIrC3srG3a%2Bma02fZ4JTJLLclma4G1RKnk8X%2Bzj%2ByX%2B1P8D9F8cX/AIs/aY%2BH/izxj41uzqN34zufhFewTzXwcCEXMZ12RZbOCAC3htITbiNQGDl2kZ9v9lr42fH7xD8VPE3wG/aVHhG58RaN4K8O%2BK7XUvBelXNlaC11WTUoDZNHc3Nw7y28%2BlzZnDosqTRkRRkMtc14y/aJ/ao%2BGXx41/4R31z4G8aSyfC/xF4u0fSvC/hS/t73w8bSaGPTIb9mvpxei8Mk0aGNLV2eym8tHVXMQBt%2BBv2Wv2hvhh4d8W6v4I%2BPngYeNvH/AI%2BfxP4t1bVfhXcTaOWOl2umrDZ6dFq8UtufKsrdmkkup2d2nLDEiiPz7xZ/wRq%2BAfif4LeE/hxB8QvGuna74atfCdjc%2BKNH8a6zpqajY6JrSaosD2GnX9taoWZrtIZAhezNyskR3QpWdp/7b/7TV/8Ash3/AMQ9B17RNe%2BJmn%2BKPC1l4j8N2n7PHim0u/ClnqN5Zx3ktxoEl%2B%2BpX3k28t1PHLE0SSCAlQwRq7H4hftUfGrS/wBnb4ZfHz4SfFL4d%2BK9P1L4oeG/DPjm8k8B6lY/bYtT8VWGgzxWlrLqJl0u6tjdTiRLo3DLNbFGiUlgoB65ofwDWw/ae1v9pXWfFZv5rvwTp/hnw9pLWZUaPbQ3Nxc3cglMjGV7qSW23nauFsYBycseF%2BBX7Nn7VXwe1X4ueJdU/aN%2BH2ral8SfEn/CQaU9v8Jb61g0bUBp1jp482M67I15B5GnwExq8Dl2kPmBSqLzPjn9uvULT9tm%2B/Zy034geG/C2h%2BFdT0DTfEE%2BveAdW1STVb/AFQLJDapqFtPDZ6NvSW3hgku/NNzcTPGkeYsSch/w31%2B1O3hi9%2BI2l%2BCPCmr6d408G%2BPdR%2BEnh3S9Bvn1K3v9BZ/sMF6y3TC/wDtsSNIyQR2zQuFhUzb/NUA6L/hgP8AaRT/AIJzaf8AsGQ/tS%2BCBe2NnbaT/wAJi3wkvDE%2BjwRrsi%2Bxf24CLoyorG488x7coLcEhxufGH9hP4j/ABn8QXmsa98fNHsrfxz4R0Pw98ZNP0/wNKI9fttNu7m5U6cX1BjpRmF5dQSeab0%2BS8YUq8YkOHbftW/tCa9%2BxL8SPi34F%2BLngDUviN4C0%2B51DUbDXfg3r2gR6QsNgt4bO80i%2B1MXvmuoJjnMsUbpIjKjBSXtfHv9rr9ozR7HSrD4FaX4MTVLD4J3vxH8UjxRpt1PDexwCAQ6Xa%2BTcxG2admuM3UhnEAiT9xNvO0A6r4nfsb%2BNP2h/idBqv7SHxY0TWvA%2Blxa9b6P4U8NeErrR7%2BS11Sxn0%2BW3vdTXUpXnjW1uZB/o8VqTKsM2Q0SAZfwm/YC1b9mXxN8RfG/7Mfxv1Cx1Txze6S9lH8R77XvFtpplvZ2kds0LR3esrJOz7CyyiWJo1KR/OkYWsX4b/trfErxr%2B1s3gjxX4j0jwj4A1a40xPANrrfwl1rz/FC3egW%2BoFYfEBvF0yO4WeWZPswheVltXUAk715nVf%2BCl/xUPiT4weIPDHgHw/d%2BDdB8A6Lq/wguJvPS48QXF/qt9pMd5dShyi2E11bI8JiTc1sRPvbzlSMA6bxh/wTg8Q%2BLfgJafBXUPiT4B1G4u/E%2Bva/4i17xN8II9Te0v8AVbuW5kuNChlvhHo8sLTzCJ5BeYJVpBKwcydh40/Y%2B8d%2BKZPBfwy0v4t6Bo/wo8Ca14c1LRPC1l4KmOtxtoslvNbQDVX1AxrC8ttGJALPzHheWHzMSFq8/wD%2BGuf2rv8AhZX/AAyB/aXw9/4Wb/wsn%2Bw/%2BE2/4RG%2B/sP%2Byf8AhHP7c%2B2/2X/aXn%2Bfu/0PyftuM/6Rvx%2B4rlLn/gpf%2B0F4g%2BG2qfF3wl4R8Hafp/ws%2BFOneNPi3pOo2V3dS6m0mpatZXllpc6XEQtfKXQr%2BVJporgSedbpsT52AB7vpH7N/wAer346p%2B0B8Rvj14W1HV9B8H6zoHgi20X4dz2EFsuoT2cxm1Hdqcz6gY2sLfCRNaIczHALoYr/AOxV%2Bz78XP2aPhbqHw3%2BK3xe8OeMWuPFes63Y33h7wRcaIIDqepXWpXEUiTaje%2BaFnu5AjBkxGqqwZgXPjXhn9vz45az%2B2zcfs/3egaEuiv4y17QLfT28IalE8UVhpUl7DeRa61wdP1K4leNFfSreJbuCOWR3OLSUm1%2Byz%2B37471z9mW/wDin%2B0nrOmXnxBs9A0G4vPhVpHwq1jwjq1hqupp5dtpnkazdzSXf2i93WsN2qxwM0Mp3EI5QA%2Bp/HP/ACJOsf8AYKuP/RbV5b44/wCUhfwv/wCyM%2BPP/Tt4Qql%2Byd8Z/it8fP2OLn4hfHCw8P23iuPUvFeja1F4VhnTT/M0zWNR00NCJ3eTay2isSzZJYnCghRd8cf8pC/hf/2Rnx5/6dvCFAHs1FFFABRRRQAUUUUAFeM/sH/8kQ1z/ss3xH/9TXW69mrxn9g//kiGuf8AZZviP/6mut0AezUUUUAFFFFABRRRQAUUUEgDJNABRWPrPxE%2BH/hxGk8Q%2BOtGsFQEu15qcUQUD13MMV4L8Uf%2BCtn7Bfwy1X/hGLT43weL9cdilvoXgCyl1q4ncdUVrVWiDezOK5cRjsFhI3rVIx9Wl%2BF7v5JnFisxy/BR5sRWjBeckvuV7v5Jn0lRXyIv7bf7fXxrIT9mD/gnDrGjafLzF4k%2BM2uRaMqDsWsIy07A9cq386k/4VP/AMFmfiQP%2BKw/aw%2BEXw4STqPAfgefV5Ih9dSYAt%2Bma4/7Xp1P4FKpPzUGl983BfgcH9u0qv8Au1CrU81Bxj/4FUdNfhY%2Bt6474jftD/AD4PSLD8W/jl4P8LO5AVPEXia1sic9MCaRa%2BeD/wAEsPE3j/8Ae/tJ/wDBQb43eMw//Hxpem%2BI00XTZ/UNbWyHj6OMV1ngH/glT/wTi%2BEFpJeWn7LnhO94LXN94wibV2cnq7NftKASfTA9MUfWM4q/BQjBd5zv%2BEE//ShrE8QYh2pYaEP8dS7/APAaUX/6Udz/AMNz/sTG2e8X9sL4WtFGu55F%2BIGmkAeuRNXm/jL/AILIf8E0/A159g1X9qnSLuXdj/iR6Zfaiv132sEi4981W8YfCf8A4Ix%2BAZvtnjjwL%2Bzjo7wNuKahZ6HByO2xgN30wfpWTD/wVF/4JPfA3/imvhj8RvDv2lvkg0n4e%2BDp5zMR/Cn2S38s/iwFcVbMcXR0q4jD0/nKT%2B5zR9RlvAvixnn%2B45fKS7ww%2BKmvvlGnFLz5/mWh/wAFw/8Agl28DTQftOiQj7sS%2BDtZ3uewCmzBJqBv%2BCv/AMKvFI8j4FfsvfHH4hTScW0nh34cTpbMexaWdk2L/tFTj0qM/wDBTbxd48nWf4A/8E2/jb4pI5g1TW/DcOiWcvoY57h2yPfaKm/4aE/4K6%2BOePCH/BPvwP4LR/8AVz%2BNvijFfYHZmSxQMPp1rn/tLF1dIV%2Bb/r3h5v8AGT5T2P8AiFHiRDTH4vCYRdfaVcLTkvWEsVWkv/AG11XQYn7Tn/BVvx%2Bf7U%2BHn/BOnw74Y05eY18efEmA3V0vtFbLmA%2Bz56U8ftF/8FdLL9xdf8E4/Bt8x6T2XxetokHvtkj3UD4a/wDBaDxv%2B88S/tLfBTwNu/5Z%2BEPBt5qZQfW%2BYZP6UH9hz/goB4n%2BX4kf8FavFEkT/wCsh8LfDbTNJZR6LJGzH8cZo/4Up6w%2BsN%2BfsYL7ne34h/xDTL6GuL4soRfX2fta33KnglD7pfMD8b/%2BCxOt/wCi6V%2Bw58M9Ekf7t1rPxL%2B0xR%2B7LboGP4VR1y1/4LIR2TeIfHnx/wD2cPA9uOkNppWozxKP9uW7ZeR7cVeH/BIzwJ4g/efFv9sf9oHxmzf6yHWvibKlv9FjhjTaPbNXtC/4Itf8E3tIvhq2pfs/vrd6PvXfiDxRqV4z/VZLgof%2B%2BaPqed1d%2Bf8A7erpfhSo/qH%2BpvhxR/3riLG1/KjhuRP51atP73H5Hh3jX9qD9qXw67aR47/4LI/s2%2BHOvnXPh3QoNRvYfpA8rDP%2B8K841b9pL9m7VLvyPiZ/wXg%2BMfiLVG6w/DbwhcaXG/rtS2tJEH/fVfob4M/Yf/Y1%2BHiKvgv9lX4e6e6YxPD4QszKfrIYy5/E16Po3h/QfDtr9h8P6JaWMI6Q2dssS/koAo/sPMav8SqvnKtP86lNfgH9keDlH48PmWK/6%2BYylSX/AIDSpz/O/mflA2q/s8%2BLh5Hgr4yf8FDvincyf6u20q%2BuzE3uTJFEET1POKF/ZA/aA8Yn7d8PP%2BCfPx8khf7mreNf2oINMuv%2BBW5UsK/Wqij/AFWp1P4tX/wGKX4ynUYc/hbhf914ZpzffEYrF1n90KlCK%2B9n5Lf8OzP%2BCgPin/Rj8I7zTrZulp4t/aQ1K9gX6i0RWP4Gp9P/AOCFv7Smr3A1HxP8Ov2dobg/8t5tf8YajKB/tCe6CE/hiv1ioprg7KG7zc5erX/yLBZzw1Sf7jhzLY/4sLKs/vr4qp%2BR%2BYtl/wAEHvi/qVuLPUfiV8FvD6f89NG%2BDy6g6/jeTZP4mtPTf%2BDdnw5cYbxj%2B1HbXTH7/wDZHwh0axB%2BgxJiv0norZcJZCvipX9ZS/SyNnxbVirUMuwFJf3MuwK/GWHqS/E/PjQv%2BDc39lLTr1NT1D45/ElbmM5WbRJ9M085/wC2dkSB9DXodl/wRA/Y%2Be3Sz8Y%2BNPil4mt4xhbfXfiFcsmPTEIjx%2BFfYlFdNPhvIaXw4eP4v85fodFPxB4ww9P2eHxKpR7UqOGpf%2Bm8JB/%2BTHy94b/4Iwf8EzPC7CSy/Za065kBy0mqa3qN2WPqRNcMP0xXf%2BHf%2BCef7CPhYKdG/Y8%2BGqsn3JbjwbZzuPo8sbN%2BtexUV108pyqj8FCC/wC3I/8AyLOOpxtxnWpezlmWI5eyrVYrXf3YThH8DldC%2BBfwS8LBR4Z%2BDvhXTtv3fsHh62hx9NiCungtre1iENrAkaKMKkagAfgKfRXbCnTpq0Ul6JL8kjwMRi8Xi5c1epKb7ylKT/8AJpSCvGf2X/8Akt/7R3/ZZrH/ANQrwvXs1eM/sv8A/Jb/ANo7/ss1j/6hXherOc9mooooAKKKKACiiigAooooAKKKKACiiigAooooAKKKKACiiigAooooAKKKKACvgz/gpZqv9hf8FWP2INU3bd2p%2BMbXP/XcaJFj/wAer7zr86/%2BCxl7Lo//AAUJ/Yk15OEtPHuo/aG/uxPqfhyNj/4/XmZxLky2cu3K/wDyemfceG9BYnjTDUX9tV4/fhcX/kj9FKKKK9M%2BHCiiigAooooAKKKKACiiigAooooAKKKKAMrwN/yJOj/9gu3/APRa1q1lDwZoaZWBr6FMkiK31a5jRfZVWQKo9gAKX/hD9J/5%2B9V/8Hl3/wDHaANSisv/AIQ/Sf8An71X/wAHl3/8do/4Q/Sf%2BfvVf/B5d/8Ax2gDw/xB/wAE0/2fPEviP4zeJdQ1fxMJfjbp1tZ65bpqMPk6IIlJaTTUMJEDTTkXMwl81JZlUspX5C/wV/wTu%2BHPhbxdH8QvEHxi8feKfEB%2BJ0nju81jxBe6f5l3qbeFZ/C/lslrZQxJbiwnLLHEkeJkRs7N0be2/wDCH6T/AM/eq/8Ag8u//jtH/CH6T/z96r/4PLv/AOO0AfOX/DqT4MWfhfQPAPhz4z/EjSPDukWPhCHVNB07U9PEHiCbw01qdMu7xnsWlE22ytkl%2BzvBHKkShk%2BVcfQOsfDrSPFvgfXfh18Qr658R6T4ihvrbUrXVI4VDWV0HV7MeRHGDEsbmNS2ZCoG93bLG5/wh%2Bk/8/eq/wDg8u//AI7R/wAIfpP/AD96r/4PLv8A%2BO0AeZ/A79j3S/gXJqWs6d8c/HfiDX9Uh0WxuvFHiafTZ746RpUkr2mkjy7KOL7MPtF2Gcxm5Y3kzmfzCsi53wl/YmuPg9478f8Aj/Qf2q/iXfXXxF1C9v8AWY9Wg8Pym3upl8uCSGddJW422kQSK2hllkhjRAGjfnPrv/CH6T/z96r/AODy7/8AjtH/AAh%2Bk/8AP3qv/g8u/wD47QB5V4c/Y51DwuvifxHp/wC1V8Sn8beLW06PVfiLPFoLamLOx877NZRwf2V/Z6QKbm5bH2TeWuHYvnaVwvG3/BO7wx4q%2BBOi/AXQP2j/AIk%2BGrPTfHUfjLU9c0ZtFm1DXdcj1qPXEvLtr7TLiIEalEk/lwRwx4HlbPKAjHuX/CH6T/z96r/4PLv/AOO0f8IfpP8Az96r/wCDy7/%2BO0AeSeO/2E/AXxD%2BIEfjvX/ij4yWG8udBvPF%2BgWk2nx2Piu90adLiwu74Cz81JEliiLC1kt45VhRJEaNdlQ%2BC/2CPAvw%2B8aah408KfF/xzbMLLXoPBmnNcadJa%2BC31m6W7v59NR7IlpGnVWT7Y10kKgxRqkTNG3sP/CH6T/z96r/AODy7/8AjtH/AAh%2Bk/8AP3qv/g8u/wD47QB41qf7Bmk6z8K/iN4B1X9pL4j3GufFSCO08X/EGQaJ/a81klv9mWzij/sz7BBEIWlT5LQPmaR9/mEOKXjP/gnZ4T8f%2BAPDvgrxL%2B0V8SmvNF8H6h4R1TxPaXGkW2oeIvD968TT6be%2BTpywKm2CJEmtore5jCEpMrySu/uX/CH6T/z96r/4PLv/AOO0f8IfpP8Az96r/wCDy7/%2BO0AeceJv2RtF8Z/EvQ/GHir4weMLzw14Z1a01Tw98Mwmlw6FYXdtb%2BTbyKYbFL2QIcyiKS6eISEHZhUVeJb/AIJLfsEaf4m8X%2BKPA37PXhrwfL4y8AxeE7%2BLwV4csNJWztknnn%2B02zW1ukkN0ZJYyZQ5B%2ByW3y5iBPvv/CH6T/z96r/4PLv/AOO0f8IfpP8Az96r/wCDy7/%2BO0AeKf8ADvnwj/ZH9pf8L9%2BIf/Cef8Jv/wAJX/wtbzdI/tz%2B0P7L/snHl/2f/Z/kf2f/AKN5H2Py8fvdvnfvao6r/wAExvgRd6NonhXQvGfjLRdEsvCWneGPFOjadqVs8XjLSbK6lu4LbVHuLaSV/wB/c3jvJbyQSSfbrhXdlk2j3n/hD9J/5%2B9V/wDB5d//AB2j/hD9J/5%2B9V/8Hl3/APHaAPHtJ/YH8AaL8VIviRY/FnxwLCw8Xax4s8P%2BDWvLE6Xo2v6nb3cF5qUH%2BifaWkYahfOIpp5YEe6dliBCbJdI/YF%2BDGsX/iHWf2kb68%2BN194lsdNsb%2Bf4taJo17ClpYS3M1rBHaWthb2ihJru5k8zyTKzSfM5CIF9c/4Q/Sf%2BfvVf/B5d/wDx2j/hD9J/5%2B9V/wDB5d//AB2gDzb4H/sn/BH9jP8AZ51/4QfAPwfaaLolxf65rctvaafbWwa5vp57lwVtookKRiRLeIFcpBbwxktsBqt44/5SF/C//sjPjz/07eEK9RPgzQ3ws7X0yZBMVxq1zIjezK0hVh7EEV5d44/5SF/C/wD7Iz48/wDTt4QoA9mooooAK%2Bfv%2BClx0wfs12v/AAmnl/8ACFf8LC8L/wDCyPtH/Hv/AMI9/bNp9t%2B1Z4%2Bx%2BX/x87v3f2bz/M/d76%2BgaKAPgvwRafC/x9%2BwF8Wvhf8AD/4y%2BCvC3gSPx3qWreAm1bWo7XRD4Rh1iKR4nZG/c6HdTwahZiaMGEWsx8oNGEU%2BYaH8V/2Vfhv%2Byr448QftM/B74Hax4Q8R/HWWw/Zu8EnUrWTwU0kmg6ckz2N5fQQwJp8d9Hq00t8II1BF00COZIUk/UOigDyf9nTRfE/w%2B/Yr8CeGPhd4%2B0T4parongDS7LS/E9/4keGw8SSQ2sUf2s3sUd24jl2lxIEnYgjJYktWH/wTpuPEt3%2BzdfXXjLSbGw1eT4t/ENtTsdM1F7u2t5z4z1rzI4p3hhaZA2QHaKMsACUXOB7pXjP7B/8AyRDXP%2ByzfEf/ANTXW6APZqKKKACiiigAor5/%2BPP/AAU7/Y3%2BAOtf8IVqnxO/4SjxW8hitvBngS1bV9TmlH/LLy4MrE/%2BzKyV503jf/gqj%2B2KDD8O/A2l/s4%2BCrnga74tiXVPFFxEf4o7IYitCRkFZcOpwVavMq5thI1HTpXqTX2YLma9X8Mf%2B3pL0PHrZ5gYVXRoXrVF9mmuZr/E78kf%2B3pr0PXv2rP28PgH%2ByPDa6L411W71rxdq2E8O%2BAPC9sb3WdVkbhFjt05VSQRvfapwQCTwfFIP2Yv2w/%2BChMyeIf26fEU/wANvhnMwks/gn4O1Qi71GLqo1e/TBYHjMEeB0/1bqc%2By/sp/sDfAn9lCa78XaBa33iXxzq%2BX8Q/EXxbcm91jUpG%2B%2BTM/MSHA%2BRMAgDduI3VB%2B09/wAFDf2d/wBmDWIfh9qmpX/izx5fkJpPw68FWZ1DWLqQjKgwocQgjnMhXIBKhsYrixFOVSl7bNKihT/59p6eSnLRzb/lilHpaR25NwlxJxrjo4VUZVW7tUKV2rLeVWfupxS1leVOjFX5pNb8tpH/AARo/wCCZeiFTZfsoaQ%2B3p9s1bULj8/NuGzXufww%2BB/wW%2BB2kHRvg98KfDnhW02Yki0HRoLQOB3cxqNx7ktk96%2BZ49F/4Kq/tgyCfxFr2kfs3eCpiGGn6SU1jxTdRejzHEFpuGDlMSIcgg1cP/BHb4FeLRn4%2B/H740fE0Sf8fFt4y%2BJNy9u/qojtxFtX/Zz%2BNTh%2BSEufAYFRX80lGlf0XK52%2BUfQ%2B/oeHfA3Ds/%2BFLMqFGr1hhaDxMo%2BTqwdKgpd1GrUS6yO5%2BN//BTv9iH4C6kfDXif456dq%2BvmTyofDXhFH1a/kl/55eVah/Lf2kKVwI/bV/b5%2BOx8r9lL/gntqOg6dN/qfFfxt1VdIjUdmOnxFrh1PXKt0%2Bte9/BD9lT9m79mzThpvwK%2BCfhzwwDHskudM0xFuZh/00nIMsv1djXoFdf1XNcR/GrqC7U1r/4HO7%2B6KO/%2B3OAcn0y3K5Yqa/5eYyo%2BX1WHwzpw%2BU68/O%2Bp8jD9kT/gpJ8ZW8/9ob/goiPCdnJ/rfDvwb8Lx2YQ99moXObj25U%2BtT2f/BGH9jjWLlNR%2BN%2Bo/EL4pXqHcL34hfEG%2Bu3Lf3iIXiUn6jFfWVFNZJlstasHUfecpT/CT5f/ACUiXijxrSXLgMRHBx/lwtKlh7f9vUqaqP51m31bPDPCP/BMv/gn54IZH0P9j/wE7RkFH1PQIr5gfXNyHOfevXPCXw/8BeALP%2Bz/AAJ4I0jRLfGPI0jTYrZMem2NQK16K7qODwmG/hU4x9IpfkkfMZlxFxDnP/Iwxlat/wBfKtSa%2B6dSS/AKKKK6DxgooooAKKKKACiiigAooooAKKKKACiiigAooooAKKKKACiiigArxn9l/wD5Lf8AtHf9lmsf/UK8L17NXjP7L/8AyW/9o7/ss1j/AOoV4XoA9mooooAKKKKACiiigAooooAKKKKACiiigAooooAKKKKACiiigAooooAKK5z4u%2BI/iB4R%2BG%2BreJfhZ4J03xHr9nbiTT9G1fXm0y2uTuXd5l0lvcNEqpubIhkJ24C815tH%2B2ZYp%2BwX4d/bbvPh7P5nibwNomt6d4RttRV3e%2B1WK2%2ByaeLhkVTuuLqKHziigZ3lQPloA9sr85f%2BC5X/ABL/AI6/AHxf0/4R%2BPVdR3f3dviLwgmf/IlfZ37N3x38UfGF/GPhH4k/D6x8L%2BL/AAD4nXRfEmk6Tr76pZF5bC01CCe2upLa2eaJ7e9hyXgjZZFlTaQgZvjX/gvnbzf2Bpet2q5n0j4TeIb6H6p4t8CAn/vljXlZ7/yJsQ%2B0G/us/wBD7/wpa/4iXk8H9vEU4f8Agxyp/wDuQ/Raio7W5hvLWO8t23Ryxh0b1BGRUleqfAtNOzCiiigQUUUUAFFFFABRRRQAUUUUAFFFFABRRRQAUUUUAFFFFABRRRQAUUUUAFFFFABRRRQAUUUUAFFFFABRRRQAUUUUAFeM%2BOP%2BUhfwv/7Iz48/9O3hCvZq8Z8cf8pC/hf/ANkZ8ef%2BnbwhQB7NRRRQAUUUUAFFFFABXjP7B/8AyRDXP%2ByzfEf/ANTXW69mrxn9g/8A5Ihrn/ZZviP/AOprrdAHs1FFFAEd5eWenWcuoahdRwW8EbSTzzSBUjRRlmZjwAACST0r4i8a/Ff4tf8ABVjxdqHwQ/Zg8Sah4V%2BBGmXbWfj34rWYMdz4oZTiTTdJJH%2BpPKyXGMEHuuEmtftFeOfF/wDwUk%2BN%2BpfsL/AbxDc6f8L/AAvdKnxz8e6bJg3jg5/sCzkHBdsETMMhRlTwCkv2D4D8B%2BDvhf4M0z4efD7w5a6RomjWaWumabZRbIreFBhVUfzJ5JJJJJJrxJynnFWVODtQi7Sa0dRreKfSC2k1rJ3imkpN/OVJVM%2BrSo05NYaLtJrR1ZLeEX0praclrJ3hFpKTfJfAH9k/9nL9lzQF8O/AX4PaH4bj8kRz3VjZL9quQMczXDZlmPHV2NT/ALQ37TfwM/ZU8BS/Ej48/ESx0DTVJW3Fw5ae8kAz5UEK5eZ/9lASBycAE15R%2B19%2B3Jrnw/8AG9r%2Byn%2Byd4Tg8cfGrXYN9to%2B8mx8OWxxnUNTkX/VRqGDCPIZ8r03Luh/Z3/4JweGfB/jyL9oz9qzx3dfF34ssA6%2BJPEEQ%2Bw6Mc7vK02z/wBXbIp6PjdnLL5e4rTeJak8Jl1OPu6N7U4eWluaX92O32pLY/Xsn4NyXJMpo5lxDN0MPNc1HD0oxVevH%2BaKa5KFFtWVeom52fsaVW3OuHHir9v7/gon%2B6%2BH9nqn7PPwhuuviDUoR/wl%2BvwHvbw526cjDpITvHysrOpK17z%2BzB%2BxL%2Bzh%2ByFpE1p8GfAEUGp3oJ1jxPqUhutV1NydzPPdSZdst82wbUBJIUV6xRXRhsspUqvt6rdSr/NLp5RXwwX%2BFX7yZjnPG%2BYY/AvLMvpxweBdv3NK6U7bSr1H%2B9xE%2Bt6suRP4KUFYKKKK9I%2BKCiiigAooooAKKKKACiiigAooooAKKKKACiiigAooooAKKKKACiiigAooooAKKKKACiiigArxn9l//kt/7R3/AGWax/8AUK8L17NXjP7L/wDyW/8AaO/7LNY/%2BoV4XoA9mooooAKKKKACiiigAooooAKKKKACiiigAooooAKKKKACiiigAooooAwPijonjzxL8PtV0D4ZeKdI0TXby1MVhquvaFLqdpbkkBmktorm1eUbNwAE0eCQckAqfDvBP7D/AMULT9h3R/2Kfib8e9C1S38OeCtM0XQfE/h3wHNptxbXemNbtpt%2B0U%2Bo3SO0TWsDvHkLI6kgxqdg%2BkKKAPMv2bvgP4p%2BDz%2BMfF3xK%2BINj4o8X%2BPvE6614k1bSdAfS7FXisLTT4ILa1kubl4Ykt7KHIeeRmkaV8gOFX45/wCCv3wK%2BFGh6t4o8X%2BCfhf4e0jXfEn7O/ji98S6zpWiQW93qz2uu%2BDZUe5mjQPOVw%2BC5YjccdTX6J18df8ABT3Rv7f1/U9MVNzN%2ByX8WHjX1dLjwq6j81FcOaQ9pllePeE//SZH1XAuJ%2Bp8cZVX/lxOHf8A5Xpf5n078ENZ/wCEj%2BC/hDxDu3fb/C%2Bn3G71320bf1rqK8r/AGFtZ/4SH9if4Q62zZa5%2BGOgvIf9v%2Bz4N365r1StsJP2mFpz7xi/vjF/qeXn%2BG%2BpZ/jMP/JWqx/8Bq1Y/wDtoUUUV0HkhRRRQAUUUUAFFFFABRRRQAUUUUAFFFFABRRRQAUUUUAFFFFABRRRQAUUUUAFFFFABRRRQAUUUUAFFFFABRRRQAV4z44/5SF/C/8A7Iz48/8ATt4Qr2avGfHH/KQv4X/9kZ8ef%2BnbwhQB7NRRRQAUUV4h%2B394k8RaF8E9G0jRPFepaBaeJPiX4V8P6/rmj6hJZ3Vnp19rVpbXAiuYmV7Z5lk%2BzCZGV4/tG5GRwrAA9vor5B8IRftA%2BOP2Nfiv8L/gv4/17VdR8L/FfUtA8Jaze%2BKpP7V1HRbXVLdruwj1S4cyfaxEb/TYruWTzEkijZ5d6NJXlXwo8d/FL4qfEa1/Zi%2BIet/EnwX8Pj%2B0HrWh6cl58UruTX5LW18GWmqJpM%2Bu2V9LPIy6hNqMzCK8kZRY/ZmkZIZUIB%2BideM/sH/8kQ1z/ss3xH/9TXW6pfsZfF74jeK/2BvAfxe8RaRrPjrXp/CEE6DTpLSO%2B8RIvyQ3atczQW/mXEQScs0kaHzCQQCBSf8ABOnVr/Xv2br7W9V8MX2iXN58W/iHNcaPqckD3Ni7eM9aJhla3llhLoTtJjkdMg7WYYJAPdK%2Bbf8AgpZ%2B0R43%2BGHwv0n4DfAabf8AFT4u6kfDvgiKNyHslcD7VqLEcolvExbf/CzIxBCmvo2%2BvrPTLKbUtQuUht7eJpZ5pGwsaKMsxPYAAmvjz9gTStS/bB%2BP3ir/AIKcePLCVdJvVm8M/BTTrtCDZ6FBKyz3%2Bw/dluZQ/P3lUSLkqy15WZ1ak1HCUXadW6uvswXxy9bPlj/ekux4ucVqtRQwNB2qVrq63jBfHPydnyx/vyX8p9C/srfs1/D79kn4FaD8C/hvZItppFoovL0xhZdRu2AM13Ke8kj5Y8nAwo%2BVQB5b%2B3h%2B1l498C6nov7Jf7KttBqfxn%2BIMbJoyOA0PhzT%2BRNq93wQkcYDbAwO91PD7Sjehftm/tQeG/2QP2edd%2BNeuWn227tY1tfD2jJkyarqcx2W1qgX5iWcgttBIRXbB21xH7AP7JPiT4L6Dqnx8/aA1L%2B2/jL8SNl/451qZQfsKkAx6Xb9RHBANqbVOGZP7qxhcsQ5OUctwfuWiuZr7ENkl/elZqPZc03sr/q/B%2BT5Rw/kv%2BsWZUozoUpezw1Br3a9aEU/fWn%2Bz0E4zrf8/JOnQT9%2Bq11X7Hf7GXw1/Y98Cz6R4buLnW/FGuTC88a%2BN9YYy6jr98cl5pZGJYJuZtkeSFBP3mZnb2CiivUw%2BHo4WjGlSjaK2S/r5tvVu7bbPk82zbMs9zGpj8wqupWqO8pS3fRLokkkoxjFKMYpRjGMUkiiiitjzgooooAKKKKACiiigAooooAKKKKACiiigAooooAKKKKACiiigAooooAKKKKACiiigAooooAKKKKACvGf2X/%2BS3/tHf8AZZrH/wBQrwvXs1eM/sv/APJb/wBo7/ss1j/6hXhegD2aiiigAooooAKKKKACiiigAooooAKKKKACiiigAooooAKKKKACiiigAooooAK%2BZv2xtG/4SP8AaF0vw9s3fb/2Zvihb7fXfd%2BFVx%2BtfTNeIfFPTIta/by%2BHWjz42XfwP8AiBC%2BfRtU8Iqf51nVh7SlKHdNfemv1OvAYh4PH0cQvsThL/wGcZf%2B2mb/AMEq9Z/t7/gnX8Ib7fu8vwbb2%2Bf%2BuJaHH/jlfQNfKv8AwRM1OXUv%2BCZHwzS54ms01W0mU9VMWrXiAf8AfIFfVVcOTT9plGHl3pw/9JR9V4k4dYTxFzmivs4rEL/ytUf6hRRRXpHxQUUUUAFFFFABRRRQAUUUUAFFFFABRRRQAUUUUAFFFFABRRRQAUUUUAFFFFABRRRQAUUUUAFFFFABRRRQAUUUUAFeM%2BOP%2BUhfwv8A%2ByM%2BPP8A07eEK9mrxnxx/wApC/hf/wBkZ8ef%2BnbwhQB7NRRRQAVm%2BMfBng/4ieFr/wAD/EDwppuu6Jqls1vqej6xYx3VreQsMNHLFICkiEdVYEGtKigDirf9mv8AZztPBb/De1%2BAPgqLw7Jof9iyaBH4Vs1sm03zGk%2BxGAR%2BWbfe7v5WNm52OMkmo9T/AGYP2ada%2BEtt8AtY/Z48DXfgSzdXs/BVz4Ss5NJgZXLqUs2iMKkOzMCF4JJ6mu5ooAh07TtP0jT4NJ0mxhtbW1hWG2treIJHDGoCqiquAqgAAAcACvH/ANg//kiGuf8AZZviP/6mut17NXjP7B//ACRDXP8Ass3xH/8AU11ugDnf%2BCrPxd1D4O/sFfEHVPD5dtZ17S18O6HBCf3st1qEi2gEf%2B2qSu4/3K9U/Zy%2BEen/AAD%2BAXgz4K6YE8vwt4ZstNZ4xxLJFCqPJ9WcMxPqxr54/bwH/C7P22f2cP2UIf31lbeJ7r4geJ4h0jg0uI/Y947pJO7pg8ZAru/%2BClv7Q/iP9n39l7UI/hqHl8d%2BN76Dwp4AtIGxLLqt8TEjp6NGnmSg9NyKD1rwXiadLGYrGVPhpRUF6pc8kvNylCPrZGXCmS4zizjZ4LC255yp4eLeyb/eVJN9IwT5pvpGnJvY8v8AC/8AxsQ/4KAz%2BPJf9K%2BEf7PGpvZ6COtvr3jDA865HZ0s12hT2faykq7CvtCvOP2R/wBnPwx%2Byd%2Bzp4V%2BAnhZI2TQdLSO/vI0wb29b57i5PfMkrO3PQEDoBXo9duW4apQoOdb%2BLUfNP1e0V5RVor0b6n2/G2eYPNc0hhcuusFhI%2Bxw6ejcItuVWS/nr1OatPznCO1NBRRRXonxoUUUUAFFFFABRRRQAUUUUAFFFFABRRRQAUUUUAFFFFABRRRQAUUUUAFFFFABRRRQAUUUUAFFFFABRRRQAV4z%2By//wAlv/aO/wCyzWP/AKhXhevZq8Z/Zf8A%2BS3/ALR3/ZZrH/1CvC9AHs1FFFABRRRQAUUUUAFFFFABRRRQAUUUUAFFFFABRRRQAUUUUAFFFFAHn/7Vfxquf2c/2b/G3xx0/QU1W88MeHLq%2B0/TJZjFHd3SofIhdwCURpSis4BKqScHGK8/%2BG37Q/x30bT/AIxeA/jHZ%2BEvEHjP4WaXBqlle%2BGraXRNM1m2udOe5t0dLy6uTZuJ4LiF3ad02IkvybjGnr3xc%2BFng344fCzxF8G/iHYSXWheKdFudK1aCGZopGt54mjfY64aNwGJV1IKsAQQQK808MfsN%2BC9O8J%2BNPCfj/4teNPHC/EixurL4g33iiXThca9ay2CafHBIbKyt1gjht0YRrbLDlppZJPMdy1AHG/8E6f2yfir%2B1Rf%2BK9I%2BJi6VN/YmheH9Ts7y08Bar4WuN2oxXTyW76dqs81xLDF9nTytRQi2ujJKsQzbSE7F/8AFz4UeOf%2BCm3gvwF4J%2BJ3h7WNd8MfB7xxF4l0XStaguLvSXk1bwl5a3MMbl4C2x8BwpO046Gu0/Z//ZW0j4EeJ9a8fah8W/GPjrxHrmi6Zo1z4g8aT2LXEWmae109paRrY2ltEFSS9u5DIyNLI0xLyOFQLmeOP%2BUhfwv/AOyM%2BPP/AE7eEKAPMf8AgjB/xL/2QNR8IdP%2BEe%2BJniTTtv8Ad238j4/8iV9aV8l/8El/%2BJdovx%2B8IHj%2Bxf2m/FlvEv8A0yLW7qfodxr60ryci0yiiuyt90pr9D9A8Vfe8Rcyqfz1FP8A8GUqFT/3IFFFFesfn4UUUUAFFFFABRRRQAUUUUAFFFFABRRRQAUUUUAFFFFABRRRQAUUUUAFFFFABRRRQAUUUUAFFFFABRRRQAUUUUAFeM%2BOP%2BUhfwv/AOyM%2BPP/AE7eEK9mrxnxx/ykL%2BF//ZGfHn/p28IUAezUUUUAFFFFABRRRQAV4z%2Bwf/yRDXP%2ByzfEf/1Ndbr2avDv2LtZs/Dn7OfinxDqDbbew%2BLfxLuJz6InjPXGb9AaTaSuxNqKuzzT9lT/AIvn/wAFOPj5%2B0TL%2B%2B0/wJp%2Bm/Djw3P1AaL/AEvUk9ityUHHZucVW0H/AIzO/wCCpd94mf8A0nwL%2BzZp7afp%2BeYbzxZer%2B/cdm%2BzQr5ZB5SVVI%2B9WH/wTq8dj4B/8EjNY/a18VFG1nXIPE3jzXpJBxd3z3FwY%2BvUusMCjPUkV6x/wSr%2BDs/wg/Yd8Fy64skniHxhaHxX4qvrg5nvL/UcXDSSnu4jaKM/9cxXymCi8ZHD0pbTviJ/OV4R%2B9xf/biPq/Df/hC8PMdxK9K%2BJbw9LvGWKjKrXmvOGFUKSts60j6Jooor6w%2BVCiiigAooooAKKKKACiiigAooooAKKKKACiiigAooooAKKKKACiiigAooooAKKKKACiiigAooooAKKKKACiiigArxn9l//kt/7R3/AGWax/8AUK8L17NXjP7L/wDyW/8AaO/7LNY/%2BoV4XoA9mooooAKKKKACiiigAooooAKKKKACiiigAooooAKKKKACiiigAooooAKKKKACvGfHH/KQv4X/APZGfHn/AKdvCFezV86fGXx/aeFP%2BCo3wD8J3jgf8JR8JPiPZWoPUzRXnhO6H/kOCXj/AAqZzjBXfl%2BLsROcacby20X3uy/Fo5b/AIJw/wDEo/aK/ao8IdPJ%2BNLajs9PtdpG%2Bfx2V9aV8l/sZ/8AEn/4KVftc%2BFjwrah4N1GEf3vP0mQuR/wIAV9aV5eS6YDl7TqL7qk/wDM/Q/E73uK/bf8/MPg5/8AgWCwz/8AbQooor1j8/CiiigAooooAKKKKACiiigAooooAKKKKACiiigAooooAKKKKACiiigAooooAKKKKACiiigAooooAKKKKACiiigArxnxx/ykL%2BF//ZGfHn/p28IV7NXjPjj/AJSF/C//ALIz48/9O3hCgD2aiiigArzD9rb4yeMvgx8MLC%2B%2BGtnpkviXxJ4w0Xw1oEmtwSS2Vrcahfw2xup44pI3ljhjkkm8pZIzKYhGHj3719Prjfjx8EvDX7QPw6l%2BHfibWNT0vbqVjqel61ok0cd7peoWV1Fd2l3A0scke%2BOeGNtsiPG4BR0dGZSAeJar%2B2T8ZvCn7GvxQ%2BKeueH/AA5f%2BPfhb4m1Dw/qT2FlPFpl7LDcQiO%2BitWuHnYG1uYZ/sSzvK8oa3jldmRz5bcf8FKv2iP%2BFZWl7HHoiXr/ABc1LwpP4og%2BCniO7u/sttoi6kkj%2BDYrsa1bTvIzQlJJDshjS8ZRDcR4%2BgI/2DvAMnwW1j4I6v8AFXxrf2mvan/bWp61c3Ngmoy6%2BNTXU01oSxWiKt0lzHAUjCC1RLaKNbcIpU5Sf8E7PClrdr430r9or4k2fxBbxVd69efE6CbR21a8nuNNttMlhkgfTW0/yPsllZxiNLRdptUcESF3YA7f4GftF6X4w/ZB8G/tRfGvWPDXhODWvA%2Bna74iuz4hgbStNe4to5JALxn8oxK7lQ%2B8gjHzHqfBvB/xW8NW/wDwSe%2BMvxg8FeJrHVNNm1b4t32iatpl4k9teLJ4n1828sUsZKyI5ZCrKSCCCM19Q/Bf4R%2BDfgJ8JvDvwX%2BH0Fwmi%2BGdJh0/TvtlyZpnjjULvkkbl5GOWZj1Zie9fDv7WHiS48Of8EZ/jMthlrrVPi7430y1iU8yNc/EbUoSo/4A7/lXDmlX2GWV6naEn/5K/wDM83Oq/wBWyfE1f5ac3/5LL9Wip%2B0BoN9pX/BIj9n39j/RZXg1T4uyeDfDEqw8PClwsV7dyf7q%2BWVY%2Bj89a/Q7TdOsdH0630jTLVILa1gSG3hjGFjjUBVUD0AAFfHPi7w1b%2BO/%2BCpPwT%2BAtjiXSfgf8Kr7xLeov%2BrN1chNNtkb/bRUEqjqASfWvsyuDJ6Vq1aXSPJSXpTgr/8Ak8n9x%2Bl59Q/sTgbIMkWjVGeJmv71eShTv6UMNFryn56lFFFe6fDBRRRQAUUUUAFFFFABRRRQAUUUUAFFFFABRRRQAUUUUAFFFFABRRRQAUUUUAFFFFABRRRQAUUUUAFFFFABRRRQAV4z%2By//AMlv/aO/7LNY/wDqFeF69mrxn9l//kt/7R3/AGWax/8AUK8L0AezUUUUAFFFFABRRRQAUUUUAFFFFABRRRQAUUUUAFFFFABRRRQAUUUUAFFeYftp/F7xV8A/2TPiH8Y/A0dqdb8P%2BFLy60d76Ivbw3QjIillUEFokcq7rkZVWGRnI8y8FfHb4s/AfSf2gvDHxN8f6l8TJPg94eg8R6PrerafY2d9fwTaTJdNYzjT7eC3LrNaylXSFT5VxErB2Qu4B9OV8Af8FVPGtx8Lf%2BCmH7FXxNiLJDZaz4o06/nHSG21CfQLGR2PZQJ8H617P/wTz%2BOXjn4lW2o%2BHfjP49%2BIV94ym8K6J4ln0jxx4c0TT7WKxvxciO60tdLQuLSSWCdBDeyyXkIgQShS%2BX%2Bc/wDgszq%2Bl/GLxTdeHfBmmeIrfxB8Nvgz4s16O91PwhqNjaiW08Q%2BDLgyWt1cwRwXoEUUwZreSQJuG4jcM%2BbnHOsrqyhvFcy/7dal/wC2v7zyM/8AaLJq86fxRjzL/txxn%2BPI18z3D4Hf8ST/AILCfHPTPu/258NvDOo4/veSHt8/rivrSvipfHll4b/4Kf8Awf8A2hoCB4e/aB%2BCkmi2khPyQ31sU1OElu2%2BGRY1B6nOPb7VrHJ5xcK0F0qTfylyzi/mpXP1bj6UcU8pzCm7wr4HC2fd0ozoTXrGVNJ%2Bq7hRRRXsHwAUUUUAFFFFABRRRQAUUUUAFFFFABRRRQAUUUUAFFFFABRRRQAUUUUAFFFFABRRRQAUUUUAFFFFABRRRQAUUUUAFeM%2BOP8AlIX8L/8AsjPjz/07eEK9mrxnxx/ykL%2BF/wD2Rnx5/wCnbwhQB7NRRRQAUUUUAFFFFABX5x/tG/8AE%2B/ZB8AfCdfm/wCE2/bm17SJYh3hPjvX5nJ9h5S5r9HK/M/x74lhg%2BIHwA8M3GGisv2i/jT4snQ9AukeINcuAx9PvHFeRnsksrnF/acY/wDgU4J/hc8fPaU8RlssPBXlVlTppd3Uq0oJfO9vme7/APBPD/i7v7UX7Sn7WE372DU/iFF4O0GVuQLPRrcQu8f%2BxJJIGz3K/Wvrmvl7/gjN4Yl8N/8ABN74c3N8C19rUF/q%2BoXD/fuJbm/uJRIx7nYyDPoor6hqski1ldKct5rnfrNub/8ASkvkfq3ihVhLjzHYak/3eGksND/BhoQw8fv9lKXrNhRRRXqnwIUUUUAFFFFABRRRQAUUUUAFFFFABRRRQAUUUUAFFFFABRRRQAUUUUAFFFFABRRRQAUUUUAFFFFABRRRQAUUUUAFeM/sv/8AJb/2jv8Ass1j/wCoV4Xr2avGf2X/APkt/wC0d/2Wax/9QrwvQB7NRRRQAUUUUAFFFFABRRRQAUUUUAFFFFABRRRQAUUUUAFFFFABRRRQBmeNPBvhX4i%2BDtW%2BH3jrQLXVdE13TZ9P1jS72IPDeWs0bRywyKeGR0ZlI7gmuL%2BFP7J/wQ%2BC1nc2PgTRNa239zNPq0mt%2BMdU1WXVZJbeG2JvZL65me92wW8MUYnMgiSMLHsGQfR6KAPO/gV%2Byr8Df2bptQu/hH4XvrS41OztLK5utV8SahqkyWVr5v2Wyikvp5ngtYfOm8q2iKwxmVyqLuOfO/2l/AFl8V/2svC/wu1Lb9n8Sfs7/EnSp9442XF/4TiOfwc19EV4z44/5SF/C/8A7Iz48/8ATt4QqZwjUg4y2as/np%2BpFSEatNwkrppp%2BjTT/Bs%2BJP7U8UeOP%2BCJHwp/aK0Kzd/GP7PfiGy1SO2ziRBo9/JZTQMeyfZcOw6EIM1%2BmHg/xXonjvwlpfjjwzeC403WdOgvtPuF6SwTRrJG34qwP418gfsCeCNBu9W/au/Yk8W22/S7X4o6lcGyP/LPSdetBJHEB/d2CTH%2B8a6z/gkF4417U/2QYvgr43ud/iT4ReJtR8D66DwQ1jMRBgHkL9neFQeh2HFfL5LOVGtSjL/l5T5X/joNwfzcLP5H1uQTlnfgvh1J3q5ZX9m%2B/ssRzQ%2B6OJw3ydXzPqSiiivqj5UKKKKACiiigAooooAKKKKACiiigAooooAKKKKACiiigAooooAKKKKACiiigAooooAKKKKACiiigAooooAKKKKACvGfHH/KQv4X/wDZGfHn/p28IV7NXjPjj/lIX8L/APsjPjz/ANO3hCgD2aiiigAoorjvjx8bPDX7P3w6l%2BInibSNT1TdqVjpmmaLokMcl7qmoXt1FaWlpAsskcfmSTzRrukdI0BLu6IrMADsaK8c/wCG3Phda/s2a9%2B0rr3hfxHpdt4Y1O40nX/Ct7a2/wDa1lqsN4LM2DLHO1uZGnaNUkE5gZZUl83y231j2X/BQDwXqGgSR2nwR8ev40j8ey%2BDh8Mki0ttYfVYtPTU5EEovzp/lLYyJcNObsRqGEZYTERUAe91%2BQnxf8WeV8UPFbLLiTwL8M/jxrkBz/qpr/xtrumxt7ZYqK/WzwrrN74i8M6dr%2BpeGL/RLm%2BsYp7jRtVaE3Vi7oGaCYwSSxGRCSrGOR0yp2uwwT%2BJnxQ1261lf2x9Y00%2BZeaHf6l4MtFB53an8TNTumj/ABTece1fNcV1fZ5Xp1lf/wABjUl%2BiPT4ZwKzbj3h/L3tVx%2BET9I1VUl8rU7vyufrZ%2Bwp4T/4Qb9iv4TeFGi2SWfw50Zbhcf8tTZRNJ/4%2BWr1aqPhfQrXwt4a07wzZf6nTrGG1hwP4Y0CD9BV6vfw9L2GHhT/AJYpfckv0FnOOeaZxica/wDl7UqT/wDA6k5/%2B3BRRRWx5oUUUUAFFFFABRRRQAUUUUAFFFFABRRRQAUUUUAFFFFABRRRQAUUUUAFFFFABRRRQAUUUUAFFFFABRRRQAUUUUAFeM/sv/8AJb/2jv8Ass1j/wCoV4Xr2avGf2X/APkt/wC0d/2Wax/9QrwvQB7NRRRQAUUUUAFFFFABRRRQAUUUUAFFFFABRRRQAUUUUAFFFFABRRRQAUUUUAFeM%2BOP%2BUhfwv8A%2ByM%2BPP8A07eEK9mrxnxx/wApC/hf/wBkZ8ef%2BnbwhQB5HrGpD9l3/grwPEniaH7P4Z/aF8GWul2Wpg4jHiLS8iOCXspe2YKhJyzsFAODiDTdZX9ij/gqDr9p4ugNp4E/aSispdA1UNi3s/FFnEYpLV/7jXKMHBJ%2BdyqjOG2%2Bwft%2BfsvS/tZfs16t8P8Aw9e/YfFelzRa34E1hH2SafrVqTJbSK/8G45iZuyysRyBXm/gw%2BCf%2BCu//BO8aJ8QIW0bxOQ1lrJjjKXPhjxVYnaZkXIaNllxIFyCYptpI3Gvl6%2BHrUcVKjS%2BNSdalfZvapTfrf5Kaf2Wep4eZ1l/D3EeLyfNb/UcfCUZtK8oRlOEnOK6zw9eNOuo/bpyqw%2B0mfWNFfOv/BO/9qLxf8Z/A2r/AAT%2BPsaWPxe%2BF96NF8e6ezDN2VH7jU4%2BBuiuIwHDAAbt2AFKZ%2Biq%2BgwmKpYzDxrU9n33T2aa6NNNNd0a8QZFjuGs4rZbjEuem907xnFpShUhLaUKkJRnCS0cZJ73SKKKK6DxgooooAKKKKACiiigAooooAKKKKACiiigAooooAKKKKACiiigAooooAKKKKACiiigAooooAKKKKACiiigArxnxx/ykL%2BF/wD2Rnx5/wCnbwhXs1eM%2BOP%2BUhfwv/7Iz48/9O3hCgD2aiiigAry/wDa3%2BDfjP4z/DCwsfhreaZF4m8NeMNF8S6BHrc8kVldXGn38NybWeSKOR4kmjSSHzVjkMRkEgSTZsb1CigD5T1H9kD9ozxP%2By/8SvhVr0vgq28RfE3xLP4m1uKDXLufTJZJdQhaTQZC1mkjWUum2sVnLeBRIxuJ3W2TCqfPF/4JaeLP%2BEY0zV7r4GfB24h0b4raj4l0b4DNrNyngqw0u80OHTZrCOYaYeTeRHVf%2BQeIvPmlURhiLivu%2BigDyz4Dfs9ax4G/ZI8Mfs3/ABW8c6lq15pnhmDTdW1jQ9ev7CcsoHy293DKl3GqcRpJ5glKICxyTX5KfCX4c2GmyfFfwRpL309t4y/4KF2ng5JNT1Oe%2BuZbex1nVZSZri4d5p2AkUtJI7OxbczEkmv2%2Br8mPgH4Q8z9pX4f%2BCTFn/hKv28fjF4sK4%2B8NK1C5jDfgYz%2BtfOcS0va4anH%2B8l/4Fyx/Vn1/hzR5vEPLsV0wyxVf09jgsXJP5ScX8j9Z6KKK%2BjPkAooooAKKKKACiiigAooooAKKKKACiiigAooooAKKKKACiiigAooooAKKKKACiiigAooooAKKKKACiiigAooooAKKKKACvGf2X/%2BS3/tHf8AZZrH/wBQrwvXs1eM/sv/APJb/wBo7/ss1j/6hXhegD2aiiigAooooAKKKKACiiigAooooAKKKKACiiigAooooAKKKKACiiigDzD9tP4veKvgH%2ByZ8Q/jH4GjtTrfh/wpeXWjvfRF7eG6EZEUsqggtEjlXdcjKqwyM5Hn3wp%2BPXiP4B3Xxy8NftMfGzUPFugfB7TLLxFN451nSbK3vV0ybTHuriGePTreCB3he2ndTHCrGOaJWDspd/ffGng3wr8RfB2rfD7x1oFrquia7ps%2Bn6xpd7EHhvLWaNo5YZFPDI6MykdwTXIfBz9lv4N/AXe/w00/XoJri9lvL%2B71Xxpqup3GozvBDb%2BZdzXtzLJdlIbeCKLzmfyUjCx7BkEA8H/4Jcftq63%2B1v4o%2BMdr4r/aB8GeL7jRvFunXWh6H4P1nTb2Lw5pd7o9lcpY%2BdZFvtXkzvcQvcuziSeGcIVRVjTs7/4neG/GP/BTbwX4M0nTfEMN54e%2BD3jiO/m1XwjqNjaSl9W8JYNtdXMEcF6BtOWt3kC5G4jcufafC3wx8D%2BCvFfibxv4Z0P7NqnjHUoL/wASXX2mV/tlxDaQ2cb7XYrHiC3hTCBQdm4gsST5v44/5SF/C/8A7Iz48/8ATt4QoA9mr4q%2BO2lfEX/gm1%2B0b4l/bT%2BHXhWfxB8HviBcQT/GHw3pcJa78P3qAodctkBxJGwOZ1HOcsTjBj%2B1aZc21te20lneW6TQzIUlilQMrqRgqQeCCOMVxY3B/W6a5Zcs4u8ZLo9tuqa0kuqfR2a8/McB9epR5ZclSD5oSWvLK1tusWnaUXvF9Gk18v8A7Q37L3hv9rKy8O/tufsTfFmy8O/E2y0xZ/CXjnTH32OvWZ5%2BwaggB86BsbTuBeM9QdpStj9kP/goB4c%2BN2uXHwE%2BO2gp8O/jPoTeR4g8B6rOE%2B1OFz9p092OLq3cfOu0syj%2B8u2RvO9b/Zc/aj/YB8W6v8TP%2BCfNjY%2BLfh1q182oeIfgRq1x9nNpK3Ms2jXJyIS3XyGG3jChzsVLq%2BNv%2BCdn/BWrw8vw/wDiFpjaP8QNFkZB4f10f2P4u8NXaHc3kE4kOxsMdm%2BMkDeuRtHhRq1qOKvBKlXl8UJNqnVf80JdJefxW0nB2Uj7fIePcpzXAUuHeM4Si6a5aFeCUqlJXd403JxWIwzb5vq8pxq0m26Li3KE/sKivja0b/gp5%2Bw9GdMGkwftJ/DuzP8Ao1yLsWPjCxtx/DIGzHqBUdCMyyHOSowB6H8D/wDgqR%2Bxp8bNT/4Q%2Bb4mf8IV4rikEV74M%2BIdudG1K2m/55FJyEkf/ZjdzXrUs3wrmqde9Kb%2BzPS/%2BGXwy/7dlfyR6mP8PM9p4aWNypxx%2BFjq6uGbqcq/6e0re3ovuqlKyd0qkt39DUUkciSossThlYAqynII9RS16h8IFFFFABRRRQAUUUUAFFFFABRRRQAUUUUAFFFFABRRRQAUUUUAFFFFABRRRQAUUUUAFFFFABRRRQAV4z44/wCUhfwv/wCyM%2BPP/Tt4Qr2avGfHH/KQv4X/APZGfHn/AKdvCFAHs1FFFABRRRQAUUUUAFfm5%2Bzvcabqv/BRrwBpdwUji8HXnxn8QS4T7rXnjzWLHdgcksQF9SeK/SOvzQ/4J8f8Vf8A8FHvjB4h%2B/8A8Ifd%2BIdCz/c%2B1/E7V73b%2BOM15Obe8sPT/mqw/Dml/wC2o/QPD/8AcyzbF/8APrAYq3rUVGgvv9rJH6Nf8JhpP/Ppqn/gju//AI1S/wDCYaT/AM%2Bmq/8Agju//jVfO3j7/gsj/wAE3vhf471r4aeOf2jfsOt%2BHdWudM1iy/4RDWJfs91bytFLHvjtGR9row3KSpxkEjmsn/h%2BX/wS0/6Oh/8ALJ1v/wCQqqWeZLCTjLE001/fj/mZ0fC3xMxFGNWlkmLlGSTTWHqtNNJppqFmmmmn1TT6n0//AMJhpP8Az6ar/wCCO7/%2BNUf8JhpP/Ppqv/gju/8A41Xzt4B/4LI/8E3vih470X4aeBv2jft2t%2BItWttM0ey/4RDWIvtF1cSrFFHvktFRNzuo3MQozkkDmu%2B/b%2B%2BMHxM/Z9/Ym%2BKfxx%2BDdpps3ifwl4H1DVdHXV5mS3WWCFpN77Y5N21QzBNuHZQhZAxdevC43B42Llh6kZpb8rTt62Pn884Z4k4YrQpZxgquGlNNxVWnOm5JOzaU0m0no2uuh6X/AMJhpP8Az6ar/wCCO7/%2BNUf8JhpP/Ppqv/gju/8A41Xz3qf7bnxt8K/EPxz4L%2BIXwK8CaFp/wy%2BHlp4m8c%2BJ7v4qXRsbd7uLVGt7a2xo4lnUPp8YlldIiiXBaOOZ0EUnM/Db/gpVq/xV1TwzoerfCfV/C%2BtxfGiXwd4h0hZby2hkQ%2BD9Q1%2BGfbrGj2l68LpDEm37PaSCVAyyyQqVuOk8M%2Bqv%2BEw0n/n01X/wR3f/AMao/wCEw0n/AJ9NV/8ABHd//Gq%2Bef2Sv2%2BfiT%2B0Pp%2BiXHjn9mD/AIR%2B78WfCbRfiD4T0vw941h1We606%2BYI8E5uILKK3uIS8TFQ8iOj5DhlMddT%2B1X4s%2BKupfFr4X/s8fC34r6h4Ebxtdaxdat4r0bTbG6vYrewshIttAt/b3FurSTTQszPE58qCVV2swkQA9d/4TDSf%2BfTVf8AwR3f/wAao/4TDSf%2BfTVf/BHd/wDxqvnKD9oT9pH4n/8ABMjwh8f/AIfWlz/wnOu6R4dm8Q3fhXQ1vbi3tJb%2B0i1jUNOspFkE8qWZvLm3gKy7mWNdk5xG/A%2BFf2l/iD41/Zl%2BIXjfxn%2B1V8S/BUPws%2BI1/wCHtO8RH4f6RD4i8YeZaWNxpsMum3mmMguZJL9LZLaC2t5pnWNSsTsyUAfZf/CYaT/z6ar/AOCO7/8AjVH/AAmGk/8APpqv/gju/wD41Xw5%2B0D%2B1X%2B3b8CLDQ/iL8XbTxTo13pXgTwVezeF/BXgeHUfD%2Bv61c3Zi8RWd/qLW0zWAhUxrbgXFrkurIbtiYVXSP25fjh4A/ah1Dxr8bPiLrVl8IYPGvjrS59YudJ0l/C89podlfXP2XTXtov7XGqQLpt41ybv/RGNhfrAXIhFAH3D/wAJhpP/AD6ap/4I7v8A%2BNVfsL%2B01O0S%2BsZxJFIMqwBHfBGDyCDkEHkEV8jf8Ev/ANuDVv2vPH/xftfEf7QPg3xU2na1pWo%2BHvDXhPWdNvV8NaZeadDMti01kzG5eKQtHNO7yA3CziNljCRr9VeD/wDkEzf9hS%2B/9K5aANWiiigAooooAKKKKACiiigAooooAKKKKACiiigAooooAKKKKACiiigAooooAK8Z/Zf/AOS3/tHf9lmsf/UK8L17NXjP7L//ACW/9o7/ALLNY/8AqFeF6APZqKKKACiiigAooooAKKKKACiiigAooooAKKKKACiiigAooooAKKKKACiiigArxnxx/wApC/hf/wBkZ8ef%2BnbwhXs1eM%2BOP%2BUhfwv/AOyM%2BPP/AE7eEKAPZqKKKACvIv2lf2E/2Vv2tIVn%2BNfwksL7VYVUWXiSx3WmqWpXlDHdQlZMKcEKxKZHKmvXaKyr0KGJpunWipRfRpNfiYYnC4bGUXSrwU4vpJJr7n/w/mfH8X7LH/BSr9mhfK/ZY/bG0z4ieHbc5tPB/wAb9Pea5ijH8C6pbYmkOOFDhUXA7Zri/jP%2B0NL4u0f/AIRr/gpd/wAEf/E95BAhjfxJ4S0u18U2cC/89lnhKTWink8NuGcda%2B9KK8qpk65HCjVlGL%2BzK1SH/gNS7XykcmCwmZZLiY4nJ8dWw046xcZuSj/hvJTj/wBu1F6dD8ufhvdf8E545/L/AGHf%2BCsPjT4H3SOVj8JeJtZlOkWcmfuNZawqKxB4/wBcw7Zr3nwj40/4K1%2BGdNGqeA/HfwG%2BPuhxj5b7T72TSNSuR2O6Fms0z%2BPNfUPxH%2BAnwN%2BMUJt/i18G/C3idGXaR4g8P215gexlRsfh0rwnxX/wRn/4J1eJNROu6V8BT4b1IEmLUPCfiG%2B054s/3UimEY/74rzf7HzHDfwHFf4J1Kf/AJLL2tP7kl6H3H/ETPEOrpnFHBZmu%2BIo2qv/ALjQUKt/N1Zu%2Bt3uZQ/4KR/tB/D4eX%2B0T/wS/wDjBopj4uLrwOtt4mt4/VjJbsny984P41e0H/gtD/wT4vr9dE8YfFnU/B%2Bpn72meMPCWoWUieu5jCYxj/fqkP8AglZrXhP5vgz/AMFEf2g/Dar/AKmxvPG66lZRegWGaLp9WNU9d/Yq/wCCk8Ng2l6d/wAFLNH8Vaf/AA6R48%2BDGmzof96VGLt%2BVP2nEtD7Ll6qlL8YTpP/AMl%2BQf64cIYn/f8AhitSffCY5NfKniYVPu5/me4%2BCv23P2OPiMEHgj9qf4falJJ922t/F9n534xmQOPxFelafqWnavaLf6VfwXUDjKTW8odG%2BhBINfnZ41/4Jt/tpawXfXf2cf2LvF4Ynzrm48E6jpF9N7%2BZZqoz9TXm2of8Exvjx4cun1LSf%2BCXfg%2BK8Jy958OP2g9S0pmPqq3crqv/AHzR/bWc0v4mFb9FUX6VEL%2B0fCjEbzzPDP8Av4OhXX/gVDEQdv8Aty/kfrHRX5K/8M//ALfHgf59H%2BA37WvhcJ9228N/tOaXrFqP%2B2LW43f99Uv/AAsr/gqF4I/5Bnib9rqw2dBd/BjRfE%2BPxM8e%2Bj/WeUP4uFmvT/gwiHsfDat/C4hUP%2Bv%2BAzCl97jSrr7j9aaK/Jcf8FA/%2BCnfhAf8THxL8Sp9nX/hNv2VXsf%2B%2BvsVw%2BPwpU/4LQft5eF2x4kX4USQr986z8NfF9lP/wCQ43QUf64ZXH%2BJCcf%2B3f8AgoP7I4WqfweI8uf%2BKtWo/hWwUPxsfrPRX5Nxf8HEfxT0SUW/iHwJ8LtRlHWOwv8AXbIn8bmxIH4mtzR/%2BDkPU5XEeqfsj6FKve4s/jFaRg/RJ7VT%2BZqo8Z8PN2dVr/t2X6XHHhqhVV6GbZdU/wAOZYNfhUqUn%2BB%2BpFFfm7p//Bxn8MAA2v8A7Nl7bj%2BL7D8QtIuMfTMiZrTh/wCDkn9jy1wPEPwd%2BIcJzg/2eulXQH/fN8tdC4s4de%2BIivXmX/tppDg3OaztQqYep/gxuBl%2BWNifofRXwfo3/BxL%2BwZrABPhj4k2wPebwvC%2BP%2B/Vy9dJp/8AwXn/AOCet4AbvxP4usgepuvBd2cf9%2B1at48SZBPbEw%2B//NIcuB%2BKk7LDc3%2BGrh5/%2BkYuZ9mUV8k2v/Bcz/gmJMQt7%2B0Pc2THot34K1gfqtoRWxYf8Fmv%2BCZWpY%2BzftW6Uuf%2Be%2BjahF/6Hbito55kstsTT/8AA4/5h/qJxra6y6s/Sm5f%2BkuR9PUV892P/BV3/gnPqOPs/wC134QXP/Pe7eL/ANDQVsWX/BSX9gG/x5H7ZHw4XP8Az38WWsX/AKG4raOaZZLavD/wOP8A8kZy4I40irvLMT/4IrP8qTPbKK8ps/27v2INRwLH9sf4Vyk/wp8QdNJ/Lzs1rWf7Wf7K%2BoY%2BwftMfD%2BfPTyfGdi38pa1jjcFLarF/wDb0f8A5I46nDPEtH%2BJga8fWhWX50UegUVydp8e/gXqGPsHxo8Jz56eT4jtW/lJWnafEb4e3%2BPsPjvRps9PK1SJv5NWqrUZbST%2Ba/zOCpl2Y0f4lCcfWE1%2BcEbNFQWup6bfDNlqEE3/AFylDfyNT1ommcjjKLs1YKKKKBBRRRQAV4z44/5SF/C//sjPjz/07eEK9mrxnxx/ykL%2BF/8A2Rnx5/6dvCFAHs1FFFABWb4w8ZeEPh54Xv8Axx4/8V6boei6XbNcanrGsX0dta2cKjLSSyyEJGgHVmIArSrxD9v7w34i134J6Nq2ieFNS1%2B08N/Evwrr/iDQ9H06S8urzTbHWrS5uDFbRK0ly8Kx/aRCitJJ9n2oruVUgHpmm/GH4R6z8Mh8a9H%2BKfhy78GHT3vx4tttct5NM%2ByICXuPtSuYvKUK2X3bRtOTxVLRP2hfgF4m%2BFV58dvDfxx8H6h4I062uLjUPGVj4mtZdKtYYATPJJdrIYUWMKxdiwCbTnGK%2BQvEfhXxp4w/YZ%2BNPh/Rfg941iPjX4k3nirw1oL%2BEL%2B21HT9Gn1y2Mmow20kKk3ytBd6tHpzjz5GeNZYczMh898Vfs9ftf8AxR/Zy%2BKun/DjwLceN/CusfEfWvEWpXHxcW%2B8J%2BJfHYi8OaZFp9xLp9vozA%2BRfwyxpbi0sfP/ALIsWwVklecA/SjS9U0zXNMtta0XUYLyzvIEntLu1mWSKeJ1DK6MpIZSCCCDgggivzq/4JDeH3k/aK/bE8eSgsLn9pK60yBj/CLfxJqTso/GcE19kfs/6R8a4/2N/BOg3NrovhHxxD4F023eHUbS51az065S2jUrLETYzTYAwyZhYNkZ%2BXJ%2Bav8Agj34P8R%2BHfhR8edb8a6jZX2tat%2B2J4xbUNQ07T3tLe5eHxAsLvFC8srQxmVJSsbSyFQwUu5G4%2Bfi6ftMVh3/ACyk/wDySS/U%2Bu4exqweQZxG%2BtWjSp/fiqUn%2BFM%2B6aK%2BYvH/APwU1/4QLx3rfgX/AId8/tPa1/Yur3Nh/bGgfCf7TYX/AJMrR%2BfbS/aR5sL7d6PgblZTgZrI/wCHsP8A1jU/a0/8M3/91VnLOssjJxdTVf3Z/wDys/OJcQ5NCTjKrqtPhqdNP%2BfR9aVi/Ef4eeDPi58Ptc%2BFXxG0GLVfD/iXSLnS9c0ydmVLq0uImimiJQhgGRmGVIIzkEHmvnzwD/wU1/4T3x3ovgX/AId8/tPaL/bWr21h/bGv/Cf7NYWHnSrH59zL9pPlQpu3u%2BDtVWODivZv2k/GHxO%2BHnwC8X/EH4M%2BHLTWfE%2Bg6Bc6lo%2Bi3sLumpSQIZTagI6EPKqNGjbsK7qxDAFT14bGYbGRcqMrpb6SX/pUY/qduDx%2BDzCLlh5cyWj0kvP7UY/hcxoP2Nf2eF8K%2BKfB2p%2BENS1ez8a%2BG7fQfFUviLxXqep3WpWEH2nyY5Lm7uZJ96fa58ShxKNy/P8AIm3O8D/sFfstfD3Ul1zw/wCAtSm1IeLh4ol1bWvGOraleXGrjSJtGF3NcXl1LLOw0%2BeW3xIzLtKnG5EZfDfEf/BR/wCJvxI8LXPjH9lxtD1Ww8R%2BO5tI%2BFEsXhJdUbxBp1hpC3Wq3sjXOt6VbQxxXfnwB2uF2izcBJWkHl8T4N/bq%2BI3xc8R6J8eLL7Ta6d48%2BGX7O%2Bqx%2BFG1%2B9%2Bw6VP4i8Xa7bX8kH2aeLc5i8lGY5SdbWFZkliXyj0nYfYfhj9k74EeCbHRLDwd4TvdKXw54GtPB2iTad4j1CGa00W1eN4LVZUnDnaYo8yFjIwBDOwZgdH43/s9fCn9onRNP0P4paPqMw0jUTfaRf6J4ivtIvrG4MMsDPDeWE0NxFuhmmicJIA6SMrAqSK%2BTfgn%2B1T%2B1B8bv2pPhB4w1PxV4R/sTx38LfH%2Bt%2BHPh7pV1e6e1rJZ3%2BjQW0GrSma4S6lj80o1wltEbaR7hFikzk%2B3ftv6t4kn0z4UfDeXxVqvh3SPHfxXsND8Z6l4b1240%2B6hszp9/dJBDe27RT2/n3trZ2vmRtHIy3BVSpcUAehSfs7/CxPAY%2BGGjWOsaLoEXhyw0Ky0zwz4r1HSo9PsbMk26Wn2O4iNm6g7TLAUldERGdljRV4vxL/AME9f2VfFfhTwn4O1Hwl4kt7bwTr13rnh270j4j69YX0WqXSyrcX815bXsdzd3MgnmDTzySSHzpPm%2Bds8D8ItR/aF%2BKf/BNvxvofwn%2BJN3P40s9S8d%2BHPAPizWNVLXFxb6fr2qafplxJeShy0ptbaAfa3Dl2xO2/cc8V%2Bz7Z/FX4s6d8b/gWfBfj6wsPCXinRj4J8PeOP2hNWtNVhv5dKinu9Pu/EGk3V9dJGNyXQhWa62rdJuVVZYogD6V8Qfsl/BTxd4g8MeI/F1p4m1aTwhb2EWj2Wq%2BP9ZubF3spPNtbi6tJLtre/uo5cSi6uo5Z/MRHMhZFYQeF/wBjX9nTwb8X3%2BOfh7wPdw6%2BdUvtUgSTxJqEun2d/eqy3l7badJO1na3M4kl8yeGFJJPPm3MfNk3fBc/xq%2BLni/9mjUtf8YftJeMtM1f4Xfs1%2BIvFPhq/wBL8WXdsL3xPp2sajZzNcPDMP7dgs3sLK2X7R5sV2l4JZIy9wu36X8V%2BCJ/FP8AwUU%2BGNh4T8a%2BP9Kv7Dw3f%2BO/idpcPxP1x9JaEwDTNO019Ma8Nkkc1zPc3ICQrltGbJ%2BZgwB9H%2BGvhj4H8H%2BMfEnj/wAO6H9n1fxddW1x4hu/tMr/AGuS3t0toW2sxWPbFGi4QKDjJySTVrwf/wAgmb/sK33/AKVy1qVl%2BD/%2BQTN/2Fb7/wBK5aANSiiigAooooAKKKKACiiigAooooAKKKKACiiigAooooAKKKKACiiigAooooAK8Z/Zf/5Lf%2B0d/wBlmsf/AFCvC9ezV4z%2By/8A8lv/AGjv%2ByzWP/qFeF6APZqKKKACiiigAooooAKKKKACiiigAooooAKKKKACiiigAooooAKKKKACiiigArxnxx/ykL%2BF/wD2Rnx5/wCnbwhXs1fOH7R%2Br/GvR/28PhPP8Dvh/wCFvEWpN8I/Ha3dp4r8YXOiwRwf2p4SJdJbfT71nfdtGwxqMEnfkBSAfR9FeM/8Jx/wUL/6Nf8Agz/4fjVv/mXo/wCE4/4KF/8ARr/wZ/8AD8at/wDMvQB7NRXjP/Ccf8FC/wDo1/4M/wDh%2BNW/%2BZej/hOP%2BChf/Rr/AMGf/D8at/8AMvQB7NRXzjpP7R37dusfGfX/AIHW/wCyh8JF1Tw74X0jXby5f466p5EkGo3OpW8KIR4Y3F1bS5ywKgAPHgsSwXqP%2BE4/4KF/9Gv/AAZ/8Pxq3/zL0AezUV4z/wAJx/wUL/6Nf%2BDP/h%2BNW/8AmXo/4Tj/AIKF/wDRr/wZ/wDD8at/8y9AHs1FeM/8Jx/wUL/6Nf8Agz/4fjVv/mXrl/AP7R37dvxE8V%2BN/CGj/sofCSG48B%2BKItC1WS5%2BOuqBJ55NK0/Uw8W3wwSU8nUYVJYKd6OMYAZgD6Oorxn/AITj/goX/wBGv/Bn/wAPxq3/AMy9H/Ccf8FC/wDo1/4M/wDh%2BNW/%2BZegD2aivGf%2BE4/4KF/9Gv8AwZ/8Pxq3/wAy9H/Ccf8ABQv/AKNf%2BDP/AIfjVv8A5l6APZqK%2BcfhF%2B0d%2B3b8ZfCl34v8OfsofCS2t7PxRrehSR3vx11RXM%2Bl6rdaZO42%2BGGGxprSRkOclGUkKcqOo/4Tj/goX/0a/wDBn/w/Grf/ADL0Aex3FtbXcZhurdJUPVJEDA/gaxtQ%2BGPw11bP9q/D3Q7nPX7RpML5/Na81/4Tj/goX/0a/wDBn/w/Grf/ADL0f8Jx/wAFC/8Ao1/4M/8Ah%2BNW/wDmXqZQhL4lcmUIT%2BJJ%2BqT/AEOvvv2Z/wBnDVM/2l%2Bz94IuM9fP8KWb5/OOsi9/Yl/Yy1LP9o/sjfDC4z18/wAA6c%2BfzhrH/wCE4/4KF/8ARr/wZ/8AD8at/wDMvXL/AAR/aO/bt%2BPHwY8IfHHwr%2Byh8JLXS/GfhfT9d0221D466os8MF3bR3EaSBPDDKHCyAMFZhkHBI5rGWEwkt6cX/27H/5E55YHAz%2BKlB%2BsYv8A9tOqvP8Agnd%2BwTfZ879jH4Xrn/nj4GsY/wD0CIVmXf8AwTA/4J6XmfO/Y88BDP8Azy0GOP8A9BxWj/wnH/BQv/o1/wCDP/h%2BNW/%2BZej/AITj/goX/wBGv/Bn/wAPxq3/AMy9ZPLculvQh/4BH/5ExllGUy3w9P8A8Ah/8gc5df8ABJf/AIJw3mfN/ZF8KDP/ADyhlT/0FxWfc/8ABHH/AIJoXf8Arf2TtEGf%2BeWo3qf%2Bgziuz/4Tj/goX/0a/wDBn/w/Grf/ADL1y/xu/aO/bt%2BA/wAGPF/xx8VfsofCS60vwZ4X1DXdSttP%2BOuqNPNBaW0lxIkYfwwqlysZChmUZIyQOazeT5S98PD/AMAj/kYvIcjlvhaf/guH/wAiYtx/wRO/4Jf3X%2Bt/ZWsxn/nn4l1VP/QboVSn/wCCGP8AwS2myV/ZjaMnvH401of%2B3mK9P/4Tj/goX/0a/wDBn/w/Grf/ADL0f8Jx/wAFC/8Ao1/4M/8Ah%2BNW/wDmXqHkeSvfDU//AACP%2BRm%2BHOHm7/U6X/guP%2BR5JP8A8EHP%2BCYMv%2Br%2BAV7F/ueMtV/rcmqc3/BAv/gmbL/q/hDrMf8AueL7/wDrKa9n/wCE4/4KF/8ARr/wZ/8AD8at/wDMvR/wnH/BQv8A6Nf%2BDP8A4fjVv/mXqHw/kT/5haf/AICjaOR5PD4KEV6Jr8pI8Om/4N%2Bv%2BCbEn3Ph94jj/wBzxZc/1JqrL/wb2f8ABOOT7nhnxbH/ALniqT%2BqmvU/i7%2B0d%2B3b8GvClp4v8R/sofCS5t7zxRomhRx2Xx11RnE%2Bqara6ZA53eGFGxZruNnOchFYgMcKeo/4Tj/goX/0a/8ABn/w/Grf/MvUPhzIH/zCw/8AAUbxy7Bw%2BGLXpOovyqo%2BfJf%2BDd7/AIJ2yfcsvGyf7vij/GI1H/xDwfsGR/8AHl4j%2BJFt6eR4qiGPztzX0P8A8Jx/wUL/AOjX/gz/AOH41b/5l6P%2BE4/4KF/9Gv8AwZ/8Pxq3/wAy9T/q1w//ANAsPu/4JssNBbSn/wCDa3/y8%2Bek/wCDfT9jqA5sfjB8YLf08jxlAMf%2BSlWIf%2BCCf7NNr/x4/tL/AB2t/TyfHduv/tnXvv8AwnH/AAUL/wCjX/gz/wCH41b/AOZeuX8fftHft2/DvxX4I8Iax%2Byh8JJrjx54ol0LSpLb466oUgnj0rUNTLy7vDAITydOmUFQx3ugxglla4byFbYeP4//ACRMsJSlvKf/AINrf/Lzza3/AOCHXwZs/wDjx/bL/aLgx08n4jwL/wC2dX7X/gjP4Ksf%2BPH9vv8Aaggx08n4qRr/ACtK9i/4Tj/goX/0a/8ABn/w/Grf/MvR/wAJx/wUL/6Nf%2BDP/h%2BNW/8AmXq1w/k0dqK%2B%2Bf8A8mc88pwFT4lJ/wDcSt/8uPKk/wCCSCW4xY/8FJv2rYvTb8Xf8LYVU%2BBX7Jeofsuf8FDfB3239p/4qfEhdd%2BDPjLyx8TPFZ1Q6d5OreFs/ZiUXy/M80b/AO95Uf8Adr2D/hOP%2BChf/Rr/AMGf/D8at/8AMvVDwP4H/as8Y/tWeHPjd8bvhx8PfDOjeGfh74h0OGHwr8Q77Wrq7utSvtEuEZkuNIsUijRNLlBYO7FpUAXGSN6GVZfhqqqUoWkv703%2BDm1%2BAsPlGXYWsqtKFpLrzTf/AKVUkvwZ7rRRRXonpBRRRQAUUUUAFfOX7EPhjTfC37PHiy9sRIRe/tDeP9TvnYZwf%2BE81Te3A6KkY/Ba%2Bja%2BSv2SvFn7Z2n/AA98UWfwx%2BAfww1fQk%2BNPxF/s/Ude%2BLuo6bdzL/wmesljJbRaBcpEQ24ACZ8gA5BO0JpNp9i41KkYSgnpK1/Ozuvuep9Qf8ACc%2BCf%2Bhw0v8A8GEf/wAVS/8ACc%2BCf%2Bhw0r/wYR//ABVeW/8ACcf8FC/%2BjX/gz/4fjVv/AJl6P%2BE4/wCChf8A0a/8Gf8Aw/Grf/MvTIPUv%2BE58E/9DhpX/gwj/wDiqP8AhOfBP/Q4aV/4MI//AIqvLf8AhOP%2BChf/AEa/8Gf/AA/Grf8AzL0f8Jx/wUL/AOjX/gz/AOH41b/5l6ANS%2B%2BBn7FGqfDjSfg7qfwd%2BFtx4R0C9%2B2aF4Vn8Paa%2Bm6bc7pG86C2KeVDJullO9FBzI5z8xzoaf8ADj9lHSbW1stK8B/D22hsrTSbSyht9LsUW3g0ueS40yJAFARLSeWWW3UYEEkjvGFZiT5n8Ef2jv27fjx8GPCHxx8K/sofCS10vxn4X0/XdNttQ%2BOuqLPDBd20dxGkgTwwyhwsgDBWYZBwSOa6j/hOP%2BChf/Rr/wAGf/D8at/8y9AGrY/A/wDYq0vxTrfjnTPhB8LrfW/EsF1D4j1iDw/pqXWqx3WPtKXMoTfOsu1fMDkh8DdnFdB430r4AfEzwRc/DL4kab4O8QeG7yFIrvw9rkNpd2M8aMrIjwSho2VWVSAVwCoI6CuK/wCE4/4KF/8ARr/wZ/8AD8at/wDMvR/wnH/BQv8A6Nf%2BDP8A4fjVv/mXoA6oeCf2YR4et/CI8I%2BAxpNp4bn8PWul/YLL7PDpE4jWbTkj27VtZBDEHgA8thEgKnaMYd1%2Bz5%2BwxffC21%2BB178EPhPN4Ksr831n4Pl8NaY2lwXR35nS0MfkpJ%2B8f5wob5255NcT8bv2jv27fgP8GPF/xx8VfsofCS60vwZ4X1DXdSttP%2BOuqNPNBaW0lxIkYfwwqlysZChmUZIyQOa6j/hOP%2BChf/Rr/wAGf/D8at/8y9AG74g%2BE37IHiyx8MaX4q%2BGnw21O28Eyxy%2BDLfUNG0%2BaPQHQIEayV0ItSojTBi2kbFx0FdJaXfwesPFF943sbrw1DrWp2dtZ6lq8L263V3b27TNbwyyj55I4muLhkViQhnkKgb2z59/wnH/AAUL/wCjX/gz/wCH41b/AOZej/hOP%2BChf/Rr/wAGf/D8at/8y9AHqP8AwnPgn/ocNL/8GEf/AMVR4MO/QzOoOya%2Bu5YiRjcj3MjK30KkEexry7/hOP8AgoX/ANGv/Bn/AMPxq3/zL1y/xd/aO/bt%2BDXhS08X%2BI/2UPhJc2954o0TQo47L466ozifVNVtdMgc7vDCjYs13GznOQisQGOFIB9HUV4z/wAJx/wUL/6Nf%2BDP/h%2BNW/8AmXo/4Tj/AIKF/wDRr/wZ/wDD8at/8y9AHs1FeM/8Jx/wUL/6Nf8Agz/4fjVv/mXo/wCE4/4KF/8ARr/wZ/8AD8at/wDMvQB7NRXzj4%2B/aO/bt%2BHfivwR4Q1j9lD4STXHjzxRLoWlSW3x11QpBPHpWoamXl3eGAQnk6dMoKhjvdBjBLL1H/Ccf8FC/wDo1/4M/wDh%2BNW/%2BZegD2aivGf%2BE4/4KF/9Gv8AwZ/8Pxq3/wAy9H/Ccf8ABQv/AKNf%2BDP/AIfjVv8A5l6APZqK8Z/4Tj/goX/0a/8ABn/w/Grf/MvXL6t%2B0d%2B3bo/xn0D4HXH7KHwkbVPEXhfV9ds7lPjrqnkRwadc6bbzI5PhjcHZtUgKgKQQkmSpChgD6Oorxn/hOP8AgoX/ANGv/Bn/AMPxq3/zL0f8Jx/wUL/6Nf8Agz/4fjVv/mXoA9morxn/AITj/goX/wBGv/Bn/wAPxq3/AMy9H/Ccf8FC/wDo1/4M/wDh%2BNW/%2BZegD2aivnHSf2jv27dY%2BM%2Bv/A63/ZQ%2BEi6p4d8L6Rrt5cv8ddU8iSDUbnUreFEI8Mbi6tpc5YFQAHjwWJYL1H/Ccf8ABQv/AKNf%2BDP/AIfjVv8A5l6APZqK8Z/4Tj/goX/0a/8ABn/w/Grf/MvR/wAJx/wUL/6Nf%2BDP/h%2BNW/8AmXoA9morxn/hOP8AgoX/ANGv/Bn/AMPxq3/zL1y/gH9o79u34ieK/G/hDR/2UPhJDceA/FEWharJc/HXVAk88mlafqYeLb4YJKeTqMKksFO9HGMAMwB9HUV4z/wnH/BQv/o1/wCDP/h%2BNW/%2BZej/AITj/goX/wBGv/Bn/wAPxq3/AMy9AHs1eM/sv/8AJb/2jv8Ass1j/wCoV4Xo/wCE4/4KF/8ARr/wZ/8AD8at/wDMvVv9lb4c/GnwfrHxQ8d/HTQPC%2Bk6p4%2B%2BIUWuWeleE/Etzq1va2sWg6Ppiq9xcWVmzSNJp0rlRFtCyINzHOAD1uiiigAooooAKKKKACiiigAooooAKKKKACiiigAooooAKKKKACiiigAooooAK%2BV/2nv2tPi58MPjH4s1rwD4d8HyeGPg/wCH/D9741OtaRcTarqlvq9/KlzBYXEdxGll5FtZx3GZIpxcyFIyIfL80/VFeM/Gf9iH4cfG74pH4ma5458VaXFqNrpFr4v8NaNdWqad4pg0u9kvbGK%2BWW3kmCxzTS5%2BzywGWOQxTGWMKgAPZqKKKACiiigD5j8OftK/EyH9v/xR8H/iNrHh7wn4bXxBaaJ4Mi1H4Rayl14xgGgQajiDxG12unNLHd3OoAWgheTy7SYBQWaRfpyvK/Fn7LUHj/4yaR8U/Hvxv8a6vpXh7XY9a0DwBcHTItGsdQjt3gjnDQ2SXsuzzJJFSa6kjEj7tnyIF9UoAKKKKAPF/wDgoL8Xfjh%2Bz9%2ByP40%2BPXwCvfCkeseCdCu9cuoPGGi3N9bXdpa20sz26JbXVsySuyIokLlUBYlH4Fef%2BPP2tPi54L%2BPHi3U/Cnh3whF8PPCHxj8I/D7xlZzaRcHW9V1XXYNFSPUIbtLhYY44P7c0mMxSW8ryJDPiWPagr2H9rH9nGy/a0%2BBGvfs%2B618VfFPhHSfE9lLY65f%2BEF077Xc2UsTxTW26/tLqNEdX5ZEWQFRtdec8XB%2BwD4On%2BItn8RfFXxx8fa6x1nSdc8TaNqEulRWPifXNMSNLHVr2O2sImW4iEFphbZoIGNjbF4mMeSAe90UUUAFeL/tk/F344fBK18A%2BMfhZe%2BFP7G1D4meHPD3i%2Bx8QaLc3N1c2uq6zY6aDZyw3UKW0ka3Msm%2BRJ1JRF2ck17RXlX7V37Lb/tVeG9C8Lz/AB98b%2BBrfQvElhrqN4Lh0dnu72xvILyzaU6lp94NsVxbxuFjCBuVk3qdoAPOP2ef2lfiZrf7VXi34I/FDV/D3hPTofFOt2/gnwlJ8ItZ0y5162hdJTf2%2BtXF39g1B2Mk0ssVtAX5LsVwxP05Xkuk/soh/jJovxl%2BI/7QHjvxrN4Xu7y78J6F4hGkw2Gj3VzbyWslxEthp9tLK/2eaeFfPklVFnfaASCPWqACiiigDw/9u74ufHj9n74Nav8AHX4UeMfAtjp/hbRbm8vdF8WeGb2/ufEN7lFs9Ms5La9g%2BzzXEpFujeVdM0s8QWFj8ref/BH9r74z658S/BX9reDPCWkfDTxv8T/FHw28K%2BGtO0uaPV9Ev9Ah1bfPPci4a3mgkbw/qaLDHbxGNWtj5kmWA9P/AGlf2QYP2kvHngj4gTftA%2BO/CFz4Bu7m90Wx8MRaNPZyXsqCNbyaDU9OvEeeGPzFhkAUxieUj5myKvgP9hr4e%2BA/jLb/ABdh%2BIvi7UoNO13U9e0TwhqVzZf2TpWt6jG8eoapAkVqk/nzie7LK8zwo19cmOKPzOAD2uiiigAr5f8A2ufjx%2B0v8FviJp/hTSofAHjXR/HMOtW2i/DmLwffSawlraaHdXcl/cTi9eK6thdRW9tJCLWIH7fCgmMjIkn1BXh037E1xH%2B0f4r/AGmtE/ar%2BJenav4t02HTrnS4YPD89pp9nDA0cNtZtc6TLc28Syu91sWba87l3Dg7aAGfsIftB%2BN/j38Pby6%2BK/j7Rr7xdpws21/w3ZfC7V/CN5oDz2yyiC5stXup7hwW3%2BXcAJHIqHaG2k17pXm/wO/Zu074M%2BJ/EnxD1j4peKfHHirxXFY2%2BseJ/FzWC3L2lmJvstqkWn2trbRxRtc3LjbCGZriQszZGPSKACiiigD45/4KCftx/FT9jDxz/aeuaLoHjHwi%2Bjajrdv4Vl%2BHOp2Utumm6Nfakkn/AAkU10%2BmT3f2vTRssVgS6EcyygbYWkb179mj4u/HPVvip43/AGev2jrnwpqHifwjpOh61HrXgrSLmwsbmx1QXkaRGC5ubl1liuNOu1L%2BbiRDE2yMkqK3x1/YS8EftOa1dWvx/wDi3418UeC7mS4kX4ZXkmmw6LFJNYzWTNvt7KO%2BkAjuJmCS3ToHfdt%2BRAvT/s%2BfszaR8A7zXvEV38UPFnjjxH4kNnHq3irxrcWb30ttaRGK1tR9jtreFYog8rDEe9nnld2dnJoA9KooooAK%2BI/2p/2yv2s/g38avEHwo8HeG/DnjXU7DRbjXfDAT4H%2BII5NFA1HTLVDC325x4mkFjqlx539l%2BU8LQlZRGJhHX25Xh%2BvfsW6n4l8en4na1%2B1z8UZtb0%2BC8i8G3hTQAPCq3U0Mk/2SMaTsnZo4Ft916t0yxM4Uq7s5AOq/ZY%2BLD/GT4RweLL34maN4qv4dRurLVL7RvBl94dFtcRSsrWs2m6hcT3VnPGMK8czh8/NtUMBXo1cN8A/gL4e%2BAHhnU9G0rxTrfiDUdf1641vxJ4k8RzQNe6rfzBEaeUW8UMCYjihiVIYo41SJAFGCT3NABRRRQAUUUUAFFFFABRRRQBR8UeIbDwl4a1HxXqoc2umWM13ciJct5caF2wO5wpr5z/Ym/aT%2BNfj/wAU6P4M%2BNnh7wZZjx18LbL4jeGYfBmlXFoNMjvLgm70%2B7M1xKLuaN7m2f7YggE7SzEwR7QX%2Blru0tb%2B1lsb23SaGaNo5opVDK6kYKkHggjjFeQ/szfsV%2BAv2YNVfV9A%2BIPi3xLLbeGLHwz4dHiy9tZhoGhWbyPb6bam3t4S0amT5pZzNcSCOLzJn8tcAHsVFFFABXC/tQePPiL8LP2aPiJ8Tvg/4UXXvFvhzwLq%2BqeFtDaxmuhqOo29nLLbWxhgZZZhJKiJ5cbB23YUgkGu6rO8W6Jf%2BJfDGoeH9L8V6joVze2kkNvrWkLA11YuykCaIXEUsRdTyBJG6ZHzKwyCAeXfsU/Fqf4ofDO%2BstW%2BIXh/WdT8O6qunXmmaJ8MNT8HPoaC2gkis7jStUuZ7mFwjiRXby0eKWLYmBvf2KvPPgP%2BztpPwOvPEviO5%2BIniTxj4k8X6jDeeIvFPit7MXd0YbdLeCIR2NtbW0UUcaAKscKZLOzFmZmPodABRRRQB8uftUftY/FD9nD4veOLL4laN4S8RfC%2Bw/Z38X%2BPbbQrfRLhNVdtEGlrPbXFzJcvbzRTrfTgILZCoRMu%2BWFdv%2BzP8X/j5qnxc8Zfs6/tLP4SvPFHhjwx4e8Sx6r4K0m5sbKSy1Z9St1tjDc3Ny5lhuNIuwZRIFkR4m8uM7lqD4x/sK%2BHfjp8dW%2BMvjz47eOZdNm8Fan4Rvvh7DBov9iXejaktt9vtJC%2BmtekTtaQOzi6DqUIRkRmQ9J%2Bzv8Asu6H%2Bz7fa14jn%2BKHi3xv4h1%2B1sLK/wDE/ja5tJL02Fiki2dmPsltbx%2BVEZ7hwShkd7mV3d2bNAHp9FFFABXyJ8a/2l/2tvBmu/tAeBLfwr4M8WXvgLw/4U8SfDax0n4f6nfzrHqOq6lCEvLWK8eXUZ4F02OdTbC3JckKvyq1fXdeFy/sUeIYvjp42%2BP%2BhftofFbStW8b6RY6Zc2NlZ%2BGGtNNtrK4uZ7NLYS6K8n7o3l0oMzyl1nIk8wqhUA6v9lT4tzfGX4UjxNqPxO0bxTqNrqtzY6tdaP4Iv8Aw2bO4ib5rWfTNRuJ7q0nRSu5JmDEMrbVVhXpNcJ8A/gHoHwB0LWbHT/FuueI9V8TeIJdc8T%2BJvEktu17qt/JDDB5sgtoYYIwsFvbwqkUUaKkKALnJPd0AFFFFAHxt%2B0t%2B13%2B0t%2Bzx8ZoPhtrKfDPxrfa3BBN4Rh07wte2kvgu81LxDpnh7SJtTle%2BmF1FO2rzgtEtnI4sbpYwy%2BYYvcf2Vfi/wDEj4jDx/8AD74xHRJ/FXw08eN4a1nVfDWnTWdhqfmaXp2rW9xDbzTzyW%2BbXVLdHjaaXEkcmGIIxwtt/wAE1fCTXXxDfxD%2B0v8AE7Wbf4k68dc1i31I6F5lnqUVxDPp9zbXUWlpdKbB7e3FpG80kUSwoGR%2Bc%2BsfAP4C6H8A/D2rabZeL9c8Sat4i16bWvE/ijxK9sb/AFe%2Bkjih86YWsEEC7IILeBEiijRY4I1C8EkA7qiiigBlz9p%2BzSfY9nnbD5Xm527scZxzjNfEHxW/a5/bT%2BGnxE1z4bW9t4D8Z694YvfDVvq3jrwR8Fdf1aPw5b6s1497YS6VZ6lPd3M0cNlY3RMU6fu7qFpYEBiaT7eu4ZLi1lt4bqSB5I2VZ4gpeMkYDLuBXI6jII9Qa%2Be/gx%2BwF4g%2BAnw2uPhp8O/26vjFFHdas%2BpzazeWXhOfUJbuV5ZLmeaZ9CP2mSd5d0kk4kfMabCgGCAes/AT4h2XxW%2BDvh/4hWHxA0bxUmp6eJH1/wAP6TNYWl3ICVkKWs800tsVdWRoZJHeNlZWO5SB19cl8C/gv4S/Z9%2BF%2BnfCnwVc39xZWEt1cTX2q3Imur67urmW6urqZwqhpZrieaV9qqu6Q7VVcKOtoAKo%2BJ4fElz4b1C38G6nY2WryWUq6XeanYPdW0FwUIjklhjliaaNWwWRZIywBAdSdwvVm%2BMdBv8AxR4Wv/Dul%2BLdS0G5vLV4oNa0cQG6sXI4miFxFLEXU8gSRuhx8ysMigD4e%2BG/7dn7Wvxg%2BKet/BL4Wab8Pk8Z6ba67fSeM/Ffwu1rQ11TTNItdFlSxl0S8vk1DT5Xu/EOxJp5nj8qGS4SF1nQH7G%2BAXxa034%2BfAnwV8ddG02Wzs/GvhLTdetLOZ9zwRXlrHcLGxAGSokAJ9RXi2r/APBMjwPrWuX3xFu/2lPimnxA1ZLy11r4k217pEOrX%2BmXVta202mFE00WcNsUsrRh5FtFKskCyrKHLMfoPwX4P8NfDzwdpPgDwZpMWn6PoemQafpNhDnZbW0MaxxRrnnCoqqPpQBp0UUUAcv8adR8caN8Lda1v4c%2BIbHS9WsLM3UN9qHg%2B98QIkcZDygadYzwXN5I0SuqRQyBy7LhXPyN8W/CX/goj8fvEnjTQ9T8b3HhHwJ4M1KedfEHji8%2BBniKa21i/h1%2B60hEuZVvo08MzyWtpa/uNUaSWB5VjfOwJX238TPBmu%2BPfCU3hzw38Utf8G3kksbxa/4ZisXu4NrAlVW/trmBgwBUh4m4Jxg4I8Vuv%2BCc3hTUPB9x8NtW/aQ%2BJt34Y1zUJr/x5oE1xo4i8YXc9411cTX0q6aLiLzSywtHZy2sQhiSNUUbtwB9E0UUUAFFFFABRRRQAUUUUAFFFFABRRRQAUUUUAFFFFABRRRQAUUUUAFFFFABRRRQAUUUUAFFFFABRRRQAUUUUAFFFFABRRRQAUUUUAFFFFABRRRQAUUUUAFFFFABRRRQAUUUUAFFFFABRRRQAUUUUAFFFFABRRRQAUUUUAFFFFABRRRQAUUUUAFFFFABRRRQAUUUUAFFFFABRRRQAUUUUAFFFFABRRRQAUUUUAFFFFABRRRQAUUUUAFFFFABRRRQAUUUUAFFFFABRRRQAUUUUAFFFFABRRRQAUUUUAFFFFABRRRQAUUUUAFFFFABRRRQAUUUUAf/2Q%3D%3D\">"
            ]
          },
          "metadata": {
            "tags": []
          }
        }
      ]
    },
    {
      "cell_type": "markdown",
      "metadata": {
        "id": "Q_gGcmrtfusk",
        "colab_type": "text"
      },
      "source": [
        "# Submit a linear model"
      ]
    },
    {
      "cell_type": "code",
      "metadata": {
        "id": "r3-hp6Owfusl",
        "colab_type": "code",
        "colab": {}
      },
      "source": [
        "## GRADED PART, DO NOT CHANGE!\n",
        "# Testing shapes \n",
        "grader.set_answer(\"9XaAS\", grading_utils.get_tensors_shapes_string([W, b, input_X, input_y, logits, probas, classes]))\n",
        "# Validation loss\n",
        "grader.set_answer(\"vmogZ\", s.run(loss, {input_X: X_val_flat, input_y: y_val_oh}))\n",
        "# Validation accuracy\n",
        "grader.set_answer(\"RMv95\", accuracy_score(y_val, s.run(classes, {input_X: X_val_flat})))"
      ],
      "execution_count": 0,
      "outputs": []
    },
    {
      "cell_type": "code",
      "metadata": {
        "id": "VWzPTO42fusp",
        "colab_type": "code",
        "outputId": "16ea6ccf-5878-4600-b784-a8702b4cc98f",
        "colab": {
          "base_uri": "https://localhost:8080/",
          "height": 34
        }
      },
      "source": [
        "# you can make submission with answers so far to check yourself at this stage\n",
        "grader.submit(COURSERA_EMAIL, COURSERA_TOKEN)"
      ],
      "execution_count": 0,
      "outputs": [
        {
          "output_type": "stream",
          "text": [
            "Submitted to Coursera platform. See results on assignment page!\n"
          ],
          "name": "stdout"
        }
      ]
    },
    {
      "cell_type": "markdown",
      "metadata": {
        "id": "DsPUsWGbfust",
        "colab_type": "text"
      },
      "source": [
        "# MLP with hidden layers"
      ]
    },
    {
      "cell_type": "markdown",
      "metadata": {
        "id": "yZWFIFqjfusu",
        "colab_type": "text"
      },
      "source": [
        "Previously we've coded a dense layer with matrix multiplication by hand. \n",
        "But this is not convenient, you have to create a lot of variables and your code becomes a mess. \n",
        "In TensorFlow there's an easier way to make a dense layer:\n",
        "```python\n",
        "hidden1 = tf.layers.dense(inputs, 256, activation=tf.nn.sigmoid)\n",
        "```\n",
        "\n",
        "That will create all the necessary variables automatically.\n",
        "Here you can also choose an activation function (remember that we need it for a hidden layer!).\n",
        "\n",
        "Now define the MLP with 2 hidden layers and restart training with the cell above.\n",
        "\n",
        "You're aiming for ~0.97 validation accuracy here."
      ]
    },
    {
      "cell_type": "code",
      "metadata": {
        "id": "Lcmpspd9fusu",
        "colab_type": "code",
        "outputId": "39f92a25-cf5e-416d-adf9-f5cb7f527024",
        "colab": {
          "base_uri": "https://localhost:8080/",
          "height": 309
        }
      },
      "source": [
        "# write the code here to get a new `step` operation and then run the cell with training loop above.\n",
        "# name your variables in the same way (e.g. logits, probas, classes, etc) for safety.\n",
        "### YOUR CODE HERE ###\n",
        "hidden1=tf.layers.dense(input_X,256,activation=tf.nn.sigmoid)\n",
        "hidden2=tf.layers.dense(hidden1,256,activation=tf.nn.sigmoid)\n",
        "logits=tf.layers.dense(hidden2,10)\n",
        "\n",
        "probas =  tf.nn.softmax(logits)\n",
        "classes = tf.argmax(probas,1)\n",
        "\n",
        "loss = tf.reduce_mean(tf.nn.softmax_cross_entropy_with_logits(logits=logits,labels=input_y))\n",
        "step = tf.train.AdamOptimizer().minimize(loss)\n",
        "\n",
        "s.run(tf.global_variables_initializer())\n",
        "\n",
        "BATCH_SIZE = 512\n",
        "EPOCHS = 40\n",
        "\n",
        "# for logging the progress right here in Jupyter (for those who don't have TensorBoard)\n",
        "simpleTrainingCurves = matplotlib_utils.SimpleTrainingCurves(\"cross-entropy\", \"accuracy\")\n",
        "\n",
        "for epoch in range(EPOCHS):  # we finish an epoch when we've looked at all training samples\n",
        "    \n",
        "    batch_losses = []\n",
        "    for batch_start in range(0, X_train_flat.shape[0], BATCH_SIZE):  # data is already shuffled\n",
        "        _, batch_loss = s.run([step, loss], {input_X: X_train_flat[batch_start:batch_start+BATCH_SIZE], \n",
        "                                             input_y: y_train_oh[batch_start:batch_start+BATCH_SIZE]})\n",
        "        # collect batch losses, this is almost free as we need a forward pass for backprop anyway\n",
        "        batch_losses.append(batch_loss)\n",
        "\n",
        "    train_loss = np.mean(batch_losses)\n",
        "    val_loss = s.run(loss, {input_X: X_val_flat, input_y: y_val_oh})  # this part is usually small\n",
        "    train_accuracy = accuracy_score(y_train, s.run(classes, {input_X: X_train_flat}))  # this is slow and usually skipped\n",
        "    valid_accuracy = accuracy_score(y_val, s.run(classes, {input_X: X_val_flat}))  \n",
        "    simpleTrainingCurves.add(train_loss, val_loss, train_accuracy, valid_accuracy)"
      ],
      "execution_count": 0,
      "outputs": [
        {
          "output_type": "display_data",
          "data": {
            "text/html": [
              "<img src=\"data:image/jpeg;base64,/9j/4AAQSkZJRgABAQEASABIAAD/2wBDAAIBAQEBAQIBAQECAgICAgQDAgICAgUEBAMEBgUGBgYFBgYGBwkIBgcJBwYGCAsICQoKCgoKBggLDAsKDAkKCgr/2wBDAQICAgICAgUDAwUKBwYHCgoKCgoKCgoKCgoKCgoKCgoKCgoKCgoKCgoKCgoKCgoKCgoKCgoKCgoKCgoKCgoKCgr/wAARCAEgA2ADASIAAhEBAxEB/8QAHwAAAQUBAQEBAQEAAAAAAAAAAAECAwQFBgcICQoL/8QAtRAAAgEDAwIEAwUFBAQAAAF9AQIDAAQRBRIhMUEGE1FhByJxFDKBkaEII0KxwRVS0fAkM2JyggkKFhcYGRolJicoKSo0NTY3ODk6Q0RFRkdISUpTVFVWV1hZWmNkZWZnaGlqc3R1dnd4eXqDhIWGh4iJipKTlJWWl5iZmqKjpKWmp6ipqrKztLW2t7i5usLDxMXGx8jJytLT1NXW19jZ2uHi4%2BTl5ufo6erx8vP09fb3%2BPn6/8QAHwEAAwEBAQEBAQEBAQAAAAAAAAECAwQFBgcICQoL/8QAtREAAgECBAQDBAcFBAQAAQJ3AAECAxEEBSExBhJBUQdhcRMiMoEIFEKRobHBCSMzUvAVYnLRChYkNOEl8RcYGRomJygpKjU2Nzg5OkNERUZHSElKU1RVVldYWVpjZGVmZ2hpanN0dXZ3eHl6goOEhYaHiImKkpOUlZaXmJmaoqOkpaanqKmqsrO0tba3uLm6wsPExcbHyMnK0tPU1dbX2Nna4uPk5ebn6Onq8vP09fb3%2BPn6/9oADAMBAAIRAxEAPwD9/KKKKACiiigAooooAKKKKACiiigAooooAKKKKACiiigAooooAKKKKACiiigAooooAKKKKACiiigAooooAKKKKACiiigAooooAKKKKACiiigAooooAKKKKACiiigAooooAKKKKACiiigAooooAKKKKACiiigAooooAKKKKACiiigAooooAKKKKACiiigAooooAKKKKACiiigAooooAKKKKACiiigAooooAKKKKACiiigAooooAKKKKACiiigAooooAKKKKACiiigAooooAKKKKACiiigAooooAKKKKACiiigAooooAKKKKACiiigAooooAKKKKACiiigAooooAKKKKACiiigAooooAKKKKACuN%2BOP7QHwm/Zx8JW/jT4veJ5dPtL7U4dN0u2stLub%2B91K9lDGO1tLO0jluLudlR2EUMbvtR2xhWI7KvFv2u/gP8VPiX4h%2BGfxl%2BBd14fl8X/CrxjPrWmaJ4tu57bTdYhudLvdMubaW4ghmktH8q9aSOdYZtrR7TGyu2ACjpH/AAUr/Y71rxm3w8tvHviCDW7fSodU1bTtR%2BHOvWkmi2EhuAt3qXn2SDTIAbWcNLdmFEKYYqWUGbwn/wAFH/2NfGfg/wAQ%2BOtM%2BLFza6f4Y0e11fVBrnhPVdMuJNPuXMdreWtvd2sU19bzyAxwy2ySpM5CRlmIB86vP2GPjP8AHW0/aRP7Qt74V8My/tB/CPTvBskfgrWLrUzo7RWusWsr%2BbcWtqZ1VNRiZDsXeyygogxuy9Y/Y2/at%2BM%2Btaz8UP2lPh38G9X1e0%2BE6eBtB8E6d4n1QaRrSy6jaXt5fXd2bBJ9PYmyg%2BzxQw3BtnDP50hIwAeyX/7fP7N2k%2BAbH4h6tdeOLSHVPED6Jpeh3Xwj8SR67e3yW5uXjh0dtPGoShYAZTIluUCKzFsA49P8JeOfDfjbwTY/EPRbi5i0rULBbyCTVNPnsZY4iu7MsFykcsDAfeSRVZSCGAIIr41tv2Gf2tJfgpJ4W8feGPCnjS%2Bh%2BIcut%2BC9B1n9ofxXb3fgOxOmxWoi0/xbHp7atcSGUXcreZDGBHeGENsjGfUvB/7Bmq%2BKfgJo3hb9pz46%2BOPEfj5PhtdeFtf8Q6T8Q9at9Muhc2tzbyTPpa3SWN5MiXTBbq4tmmdoopWKuibADc8Mf8FJP2MvF/h7xJ4s0b4tXK6Z4W8GXni6/vr7wlqtpFe6BaruuNU09p7VBqtogK5nsvPQmSMAkyIG4n40f8FdP2YfAf7M/wATf2gfhW%2Bs%2BM7v4b%2BDYfEjeGW8L6xps2r2Nw7R2t3avNYFrixlkRh9vgjmtkVWdnCqSPHfC/8AwSh%2BNC/BPxf8LPFnh3w9J4h/4UL4j8A%2BC/Hmo/tD%2BNvECSXGpWEdp5h0jVUkttGtpDDE8scEl0yeVGqFggz6P%2B1L/wAE5vih%2B0BYeKtE0Pxj4d0q2179le%2B%2BGlrLM87GDVpLiOWGdo1iANqNhBIbzBnhO9AHqkv/AAUU/ZZt/E3hrwJeav41tvEni7TpdQ0HwpefCTxLDq8tnFd/Y5LmSwk08XNvCkxG6SaNEVGWUkRsrmXwN/wUT/Y7%2BJGqarpXhD4tyXB0rQ9Q1lbufw1qVvaapp1iwS8u9NuZrdYdVhhYqHeyedVLqCfmGcXwR8APjz4x/apsf2oPjn4f8HeH5JPg5f8Ag/VNE8J%2BK7vVTBcy6tHcpJDcz6fZl4mgiUsTGjJIdoV1USHwGb9hz9pf4bfs8%2BF/Cnxo1rwIPCP7N3wP8SaB4L1PwrfXcmpeKd2hHTLe4vbeW2ii04JZozSQxS3QknZXDxqgQgH0D4U/4Kl/sL%2BNPBus/ELQ/jLdrouheDj4tutRv/BmsWcdzoIKB9Vs/PtEN/ZxmRBJPbCWOLcPMZc167a/GD4c3vxcuPgVZ%2BIxN4qtPDUGv3emRWsrCHTp55beGd5QnlL5ksE6ohfe3kyEKQjEfFX7I/7P3xC8WfBL4Q/Hb9t/Uvhlovww%2BG/7L9z4fgk07W5wmr6bqmnaWby%2B1X7VBDDpkEVppyq0CS3CZleRplWNVrsP%2BCK3wr8d6P8As76n8evit4tbxFrHjW%2Bg03w54hlgaOS%2B8I6JF/ZWiXBD8/6VDDNqhPd9WcgKCFAB9lUUUUAFFFFABRRRQAUUUUAFFFFABRRRQAUUUUAFFFFABRRRQAUUUUAFFFFABRRRQAUUUUAFFFFABRRRQAUUUUAFFFFABRRRQAV4jpH/AAUY/Y91K716z1P4pXnh5vDnhy58QahJ418I6roMc2k27pHPf2smpWsC31ujyRK0tsZUBljGcuufab2K5ms5YbO6EEzxMsUxj3%2BWxHDbT1wecd6/MTV/%2BCOX7cvxf1bwvrnxu%2BOOhvrfhrwfqFnqHijUPit4m8TjxDrf2zSr611E6XfRQ2Wk20lzpi%2BfYWQCiOTassgVAoB9sv8At/8A7MNr8NG%2BLGseIPFWlaW2uQaNY2eufDLX7DVNTv5kMkMFlptxYpe37SIGdfs8MgZUdgSEYjovAf7VnwP%2BI%2Bv2XhPw54h1SHV7/wAKT%2BJIdI1rwrqWmXaabDd/ZJZZYby3ikgdZ/kMMirL32bea8m%2BJ3wc/bd%2BMTfD342654N%2BFWh/EP4UeOptY8P%2BGbXxxqV/ouuWdxpN3plzHcXz6VDNYzFL2SSN0tbgRmIKfMEjYq/En4Dftwa/8ZfDv7TXgfRvhXaeLL74Yar4L8Y6FqXivUpLDSFuL%2BG6tb%2ByuE04SagYhG6yW8sVoJS4xLFjkA7jSf8Ago3%2ByB4j17wL4W8K/EbVdZ1P4k%2BDdK8W%2BDdO0TwPrN7PeaHqL7LXUZEgtGa1t92PMknEa24ZTN5QYE7Hw1/bc/Zu%2BK/xGufhP4Z8X6tZ6/b6Xc6nDZeJ/BmraIt/Y28iRz3dlLqNrBHfwRvLEHltmkRfMQkgMpPlH7Cn7CXxY/Zh1/4caz488QeGrs%2BDv2UvCPwxv30i5nlZtW0t5muZovMgj3Wrb02MxV22/NGmBXjXw0/4JV/tjeJ/ij4X8TftTfGGz1SLT/AHivwv408TQfF/xJrV54il1exS2/tO10y%2Bhj0/QjlSxtLRSi5UCZxGq0AfUvhP/gov%2ByP410WPxVoPjvXP7DuNV0vT9P8AEt78P9btdK1GXUr2OyspLS%2Bns0tryCW5mijFxBI8IMqFnCsCfS/C3xd%2BHnjX4geKfhd4X8Q/a9c8FyWcfie0S0mC2Ml1B9ogjMrII3doSshRGZkWSMsFEibvmHxx4E%2BIvhX/AIJ7eNPgR/wUM8T/AAq8EeAtB%2BGkWgW3xM8O%2BLbsM06RpbWupPaXVnAmmzLMLeSGCO4umM5REcnaG7X/AIJX/D74seG/2RNK%2BKv7RVglv8TvixfS%2BOviJCtu0X2e/v1jMNpsb5k%2By2MdlZ7TkgWuDQB9G0UUUAFFFFABRRRQAUUUUAFFFFABRRRQAUUUUAFFFFABRRRQAUUUUAFFFFABRRRQAUUUUAFFFFABRRRQAUUUUAFFFFABRRRQAUUUUAFeL/Hrx/8AtF/8NF%2BBfgR8BfGfgrw%2Bmv8AgrxLr2r6n4v8F3etEnTrvQ7eGGGO31Kx8sN/akrMzM%2BfLQALyT7RXhfxF1pbP/gpV8IdFkUYvfgn8Q2Ru%2B6PVvBpx%2BTMfwpNpblwhKo7R7N/dqy9/wAIP/wUL/6Og%2BDP/hh9W/8Amoo/4Qf/AIKF/wDR0HwZ/wDDD6t/81FezUUyDxn/AIQf/goX/wBHQfBn/wAMPq3/AM1FH/CD/wDBQv8A6Og%2BDP8A4YfVv/mor2aigDxn/hB/%2BChf/R0HwZ/8MPq3/wA1FH/CD/8ABQv/AKOg%2BDP/AIYfVv8A5qK9mooA8Z/4Qf8A4KF/9HQfBn/ww%2Brf/NRR/wAIP/wUL/6Og%2BDP/hh9W/8Amor2aigDxn/hB/8AgoX/ANHQfBn/AMMPq3/zUUf8IP8A8FC/%2BjoPgz/4YfVv/mor2aigDxn/AIQf/goX/wBHQfBn/wAMPq3/AM1FH/CD/wDBQv8A6Og%2BDP8A4YfVv/mor2aigDxn/hB/%2BChf/R0HwZ/8MPq3/wA1FH/CD/8ABQv/AKOg%2BDP/AIYfVv8A5qK9mrz74geP/gZ8NBqfjD4%2B%2BOPCnh/TzrUWn2WpeMNUtrSDzDaRyrBHJcsq7yBK%2B0HJCsccHEznCnFym0kurdl97sjbD4fEYuvGjQhKc5OyjFOUm%2ByjFSk3o9Em9Njmv%2BEH/wCChf8A0dB8Gf8Aww%2Brf/NRR/wg/wDwUL/6Og%2BDP/hh9W/%2Baiq//DX/APwTg/6Oi%2BCP/hbaP/8AHaP%2BGv8A/gnB/wBHRfBH/wALbR//AI7XN9fwH/P6H/gcP/kj2v8AVLiz/oXYj/wnr/8Aygsf8IP/AMFC/wDo6D4M/wDhh9W/%2Baij/hB/%2BChf/R0HwZ/8MPq3/wA1Fdh8NPEn7OXxo0KXxT8Hdf8ABPizTLe7a1n1Hw1dWd/BHOqq7RNJAWUOFdGKk5AdTjBFeT/EH9tn9k74Q/Gv4ifCL4seB9Q0O0%2BGngbTvFPiHxbJ8P7%2B40qKyuRfMxa5gtHij8tLInLP%2B8Z2jj3PDKq9MJwqRUoNNPqndfero8XEYfEYSvKjXhKE4uzjJOMk%2BzjJRknqtGk9djqP%2BEH/AOChf/R0HwZ/8MPq3/zUUf8ACD/8FC/%2BjoPgz/4YfVv/AJqKib9pv9lC2m8Nx6x4T17SofFdxDb6Rf658H9bsLRZpr17K3jubm4sEhsnmuFCRLcPE0vmwsgZZomfmdd/bp/Yp8BWhPxJmsbe7a98VrDa%2BG/A%2BrawRZ%2BH9VOm6jdSi303fCkErRCZmXykLsUlmiUTtRidX/wg/wDwUL/6Og%2BDP/hh9W/%2Baij/AIQf/goX/wBHQfBn/wAMPq3/AM1Fd9oEfwY8V3E9p4Xj8MajNbQwTXMNitvK8Mc6eZC7quSokT5lJxuXkZFeH/s/ftVaJ8aPilo3hfXP2btE0Pwx4503XdQ%2BGfiSHVUu59Wt9KvYbWY3dqbSMWLTJPHcwKktxuhD%2BYYXURkA7L/hB/8AgoX/ANHQfBn/AMMPq3/zUUf8IP8A8FC/%2BjoPgz/4YfVv/morjfFn7VWieGvjxqPge3/Zu0O58CeHviJovgPxP41bVUjvLTX9VtLO4tEi0/7IVntc6lpsLzm5RlkuiBE4idqrj9rKy8I%2BF/jr4g%2BMn7L%2BhaTP8GbyJLPTvD%2Btx6lJ4gjuLKK6s1DSWduttPKZo4vLJkRGYEykZIAO6/4Qf/goX/0dB8Gf/DD6t/8ANRR/wg//AAUL/wCjoPgz/wCGH1b/AOaiuO0X45/E3WvDXjbSpv2WfhbpXjf4b6zBF4x0nW/iJPDo0Wlzact9HqFvqUeiSSyja/ltHJaQ7Xhn%2BYqiNLyfiH9vjRvCf7NHwc%2BMmv8A7I%2Bmp4r%2BLH9hXl14Gg1dD/wjukahfWVo%2BoT3T2aMwiOo2a%2BV5KO81wsfyKskqAHrv/CD/wDBQv8A6Og%2BDP8A4YfVv/moo/4Qf/goX/0dB8Gf/DD6t/8ANRXGWX7VWi3nx9h8Bn9m3Q08B3fxIufAFj44/tVDdya/Bp0l64bT/sm1LPfBNaCf7QZDcIB5AjYS1yNh%2B3zolpL8RPCXiD9nr4dat4p8Daj4e0eG0%2BHXj5Nc0yXXNZ1dtIttHvb19Ntm068ju/KaeIwytDBMspDfcoA9h/4Qf/goX/0dB8Gf/DD6t/8ANRR/wg//AAUL/wCjoPgz/wCGH1b/AOaivNfFn7VfjPw7%2Bz549%2BMa/sr/AA0t9U%2BEF/q9r8VtG1zx/PbWmnCysYdQWSxu4dEne9Sa0uIJV8yC2YeaFK7sgdNH8bPG%2BkfFb4K%2BAPH/AOyF4Y0ay%2BK2hsdYvB4nWa78O63HpdzqE%2BnC2/s9Vu4o1tjH9pMsJLOCIeDgA6T/AIQf/goX/wBHQfBn/wAMPq3/AM1FH/CD/wDBQv8A6Og%2BDP8A4YfVv/morzL4dftweBfGPjL4w2Wr/Cn4YwaR8H5PEA1XTNF8eJqHiyaLS3ZfPfRf7OjFvFMEYoxum5KDB3ZXS%2BDn7Sfi74yy6/8ADvR/2Zfhjb/ETS/CPh7xZpugf8LEafS7vRdXkukgkl1CHSGkhuF%2Bw3O6JbaWM/uSszLIWQA7v/hB/wDgoX/0dB8Gf/DD6t/81FH/AAg//BQv/o6D4M/%2BGH1b/wCaivMPCP7Ufxf8cfspP%2B1JoH7GXwxWysLjxJNq8V/8UHt7M6XpV1NBHfWt02iZnF0tvLPEJYoEWLYzyLvwOvh/aAjvvjR8IvCFj%2BzNosfg34ueG5dQsPEeo6ksGp6ddJYPffZZdN%2ByMpAiVVaT7SpV3ICMFJoA6D/hB/8AgoX/ANHQfBn/AMMPq3/zUUf8IP8A8FC/%2BjoPgz/4YfVv/morxPR/%2BCjvgPV/jR47%2BE1v%2Bzt4Qml8GWHi64n02y8WRTa9YjQpDGJ9W0z7Cv8AZdpfYWS0uPOn86OeB9g8whep%2BFP7U2ufGT9jPWv2pvh18Cfgr4l1Gx09L3T9A8IfFsalYlBDHNPDeagujqbS4iRmzCsExyoGRu4APQ/%2BEH/4KF/9HQfBn/ww%2Brf/ADUVQ8D%2BOP2rPB37Vnhz4I/G74j/AA98TaN4m%2BHviHXIZvCvw8vtFurS602%2B0S3RWe41e%2BSWN01SUlQiMGiQhsZB6vwJq/hb4l/s7aL8atN8CWOjXOv%2BDLbXLe3t0RnsnntFuFRZVRCxQsBuwucZwM4rD8cf8pC/hf8A9kZ8ef8Ap28IUAezUUUUAFcL%2B0T%2B0j8If2U/hrP8Xvjjrepab4etZdl3fab4bv8AVGtwI3kaSSKxgmkSJUjdnlZRGgUlmUV3VeFf8FLfDPxU%2BIP7DXxL%2BE/wW%2BDus%2BN/EnjLwhqOg6XpGi6hptq0Ut1ayxrPLJqN3bRLCrFQ212k%2BYbUbnAB6d8XvjH8PPgT4Kk%2BIHxN1mez05Lu3tIlstMub66urmeVYYLe3tbWOSe5mkkdVWKJHdieAa8/8Uf8FBf2SPBvgbQPiRr3xQuF0jxJZ395YzWvhfU7iW2tbGVYb%2B5vYYbZpdOgtJXWK5lu1hS2kYJM0bcVg/tEWnxo%2BL/g7wH8TfC37N/ii31f4ffEDSvFE3gjV9W0VL3VYDbXVrc2sMkWoSWouIEu2lAlnjieSFVWXB3jwGf9lj9rjwN4b17xxoP7PEviHV/il4Q%2BIml33hWPxHpkR8JXWveIJtU083ck1ysUtuIrllvGtGuHWWIGGO4VtwAP0CR0kQSRuGVhlWByCPWvnL4TeKv27/jro%2BveO/C/xv8AhJoGl2/xC8VaHpelX/wf1S/uIrXS9ev9MhaW4TxFAssjx2auzLFGu5yAoAFewaP8M9Y0b4I6b8I9I%2BI%2Bq6Te6d4etdMi8UaTBateRNDEkfnxpdwzwljsziSORfmPB615J%2Bw5o9/on7KV74c1fxRf63PF8afHFpe6vqSQJc6hnx5q0cksotooog8gLFhHHGmWIVVGAADo/wDhB/8AgoX/ANHQfBn/AMMPq3/zUUf8IP8A8FC/%2BjoPgz/4YfVv/mop%2Bv8A7UH/AAT98Ka7e%2BFvFP7RHwc03U9Nu5LXUdO1DxdpUM9rPGxSSKSN5QyOrAqysAQQQRkVU/4a/wD%2BCcH/AEdF8Ef/AAttH/8Ajtcrx2BTs6sP/A4//JHvQ4V4pqQU4ZfiGmk01QrtNPVNNUGmmmmmm00002mmWP8AhB/%2BChf/AEdB8Gf/AAw%2Brf8AzUUf8IP/AMFC/wDo6D4M/wDhh9W/%2Bain6B%2B1B/wT98V67ZeFvC37RHwc1LU9Su47XTtO0/xbpU091PIwSOKONJSzuzEKqqCSSABk1e/ar%2BJfwq/ZQ/Zv8a/tJeKfhcuraf4K8PXGq3Wm6RogmuLlYlzsRY42IycZcjai5dyqqzDWlXoV03TmpW7NP8mzz8dleZ5XOMMbh6lJyV0qkJ021tdKcINq%2Bl0mr6XvoZ3/AAg//BQv/o6D4M/%2BGH1b/wCaij/hB/8AgoX/ANHQfBn/AMMPq3/zUVQ0n9rP9j/XPG8vw10vw1r8viG28OLr2oaL/wAKa11brT7B47t4pbqNtPDWrS/YblYo5gkkzxiONXd0VnaZ%2B05%2BzB4mk8O/8Irplgh1nx1N4VvbDxL4S1HR9Rsb6PRrrVzC1lc2AmSU2tusyrcLbxvDJ5iysxijm1OEu/8ACD/8FC/%2BjoPgz/4YfVv/AJqKP%2BEH/wCChf8A0dB8Gf8Aww%2Brf/NRVD4Kftf/ALC/7QWjTeI/ht4m0v8As6Lw/p%2Bupf8AiLwjd6LBc6XfMy2t7BJqNtAtzbyOpQSxF1D4QkMQKu/tG/ERvhXr/g/4afCD4AeGvF3jPxte3iaVpetaqukWMFrZ2rXFzcz3SWd06AfuYlVYXLSXEediB3UAd/wg/wDwUL/6Og%2BDP/hh9W/%2Baij/AIQf/goX/wBHQfBn/wAMPq3/AM1Fc9r/AO1J8LYP2LfDX7X/AIT%2BClleDxePDtvo3h3VDBZ%2BRf6xf2mnwQXdyI5Ft44rm8RZpVWTaschRZDtVuKtf23F8RX1l8LPBP7M3gK8%2BJSeLvEGgeItGvvHK22hadPo9rb3dzs1Qaa8k7NBeWjpGbSNvmm8zyhA5oA9W/4Qf/goX/0dB8Gf/DD6t/8ANRR/wg//AAUL/wCjoPgz/wCGH1b/AOaivAte/wCCqHwUfXPhoPAXwK8LX2l/Enwd4U8RaJBrviWDTta1mHXLxrZbbRbAWky6vcWYUS3aCeEQpLEdzB8j0Dwr%2B1pH4s%2BJ8Xhuw/ZX0AeGPEXijxT4V%2BHniE69H9p1nXtBN4l1bXNobMLZQSvp2o%2BTOs05ZbXc0cfmICAd7/wg/wDwUL/6Og%2BDP/hh9W/%2Baij/AIQf/goX/wBHQfBn/wAMPq3/AM1FVv2d/iZdfE74h%2BN/g18Xf2fvCXhrxT4GTS5tQXwxrg1vTpoL%2BKWSELcy2NnIs6%2BQ5khaEbVeFwzLKMeteDBs0MwKTshvruKIE52olzIqr9AoAHsKAPLv%2BEH/AOChf/R0HwZ/8MPq3/zUUf8ACD/8FC/%2BjoPgz/4YfVv/AJqK9mooA8Z/4Qf/AIKF/wDR0HwZ/wDDD6t/81FH/CD/APBQv/o6D4M/%2BGH1b/5qK9mooA8Z/wCEH/4KF/8AR0HwZ/8ADD6t/wDNRR/wg/8AwUL/AOjoPgz/AOGH1b/5qK9mooA8Z/4Qf/goX/0dB8Gf/DD6t/8ANRR/wg//AAUL/wCjoPgz/wCGH1b/AOaivZqKAPGf%2BEH/AOChf/R0HwZ/8MPq3/zUUf8ACD/8FC/%2BjoPgz/4YfVv/AJqK9mooA8Z/4Qf/AIKF/wDR0HwZ/wDDD6t/81FH/CD/APBQv/o6D4M/%2BGH1b/5qK9mooA8Z/wCEH/4KF/8AR0HwZ/8ADD6t/wDNRR/wg/8AwUL/AOjoPgz/AOGH1b/5qK9mooA8Z/4Qf/goX/0dB8Gf/DD6t/8ANRR/wg//AAUL/wCjoPgz/wCGH1b/AOaivSPGPxU%2BGHw7hNx8QPiPoOhRgZL6zrEFqAPXMjLXlPiX/gpt/wAE%2BvCczwat%2B2F4Bdk%2B8NP8QRXePxgL5rmrYzB4f%2BLUjH1lFfm0e1l3DfEecK%2BAwVasu9OlVmvvjTkvxL3/AAg//BQv/o6D4M/%2BGH1b/wCaij/hB/8AgoX/ANHQfBn/AMMPq3/zUV57rP8AwWq/4JqaVMLO0/aNGqXTf6u10bwvql07n0BS2K/rVP8A4fCfBbVxn4cfszfHrxiD/qz4a%2BFdxKJPp5rx1xvPMmTssRF%2Bj5v/AElSPpIeFfiRKKlLKa8E%2BtSHsl99adFfienf8IP/AMFC/wDo6D4M/wDhh9W/%2Baij/hB/%2BChf/R0HwZ/8MPq3/wA1FeY/8PL/AIyaj%2B88O/8ABLn4%2Byxt/qzqWg29mxHurSnbR/w33%2B2jqny%2BFf8Agk38QpmPT%2B1/FunWI/N84pf23lz2cn6U6j/9xlf8Qw4xj/Ep0Yf4sXg4/ffFM9O/4Qf/AIKF/wDR0HwZ/wDDD6t/81FH/CD/APBQv/o6D4M/%2BGH1b/5qK8x/4az/AOCqGpc6b/wSZtbJT92TUfjppLHHuqRZH0pf%2BF%2Bf8FfL7/j1/YC8AWOen234qRy4%2BvlpR/bOGe1Oo/8AuFU/VIP%2BIb53H%2BJisFH1x%2BEf/pNSZ6b/AMIP/wAFC/8Ao6D4M/8Ahh9W/wDmoq3%2Byt8RvjT4w1j4oeBPjpr/AIX1bVPAPxCi0Oz1Xwn4audJt7q1l0HR9TVnt7i9vGWRZNRlQsJdpWNDtU5z5N/wtn/gsq/Kfsk/CBM9A/jy4JH5LXQ/8E7NV%2BM2t658edU/aD8KaNofi%2BX4zQf2vpfh%2B%2Ba5s4MeEfDYi8uRwC2YRGxz0ZmHaunDY%2BGKqOMYTjpf3oOK%2B99fI8fO%2BFMVkWFjXq4rDVU3y2o4inWktG7uMEmo6ay2u0up9J0UUV2ny4UUUUAFFFFABRRRQAUUUUAFFFFABRRRQAUUUUAFFFFABRRRQBgfFL4m%2BEvg34C1H4l%2BOn1JdK0qNHuzpGhXep3JDOsaiO1s4pZ5mLMo2xxsec4wCazLP4%2B/C3VPgXp37SWi6zfaj4Q1fQLTWtKvtM0G9uri8srqOOS3eKziha5d3WWPEQiMmWxtzkVf%2BLmteIPD/wANNa1Xwr8PNX8V6iliy2nh7Qbiyiu7xnwm2N764t7dSAxY%2BZKgwpwScKfA/wBmPxF%2B1H8DP%2BCcfg3wPD%2BxX4qn%2BI3gD4Q6ZpVt4O1LxR4fhj1TVrK0htBbrdw6jNFHG7oZRKxGIgcgSYiIB7j8Gvjn8M/j74bu/FPwx1m7uIdO1OTTdUtNU0W70290%2B8jVHa3ubS9iiuLaTZJG4SWNSUlRwCrqT4d%2B0BrH9mf8FZP2arLfj%2B0Phd8TLfHriXwvLj/yF%2Bldj%2BwZ4F8b%2BDvhNq2r/FzwB4n0Xxz4n8Uz6z45vPFTaWJdY1KS3t4zcwR6ZfXsMFpHDFBZwRNKZUhskD7z%2B9k8F/aY0TxH4K/4La/soazrHxa8Qa5ZeJfD3xLisdE1W205LXRFWw0lzHatbWkM7q5C7vtMs7ZRdpX5t3Ni5%2Bzo83nH8ZRX6nucPYf61mfs/wDp3Wf/AIDQrS/9tPuiiiiuk8MKKKKACiiigAooooAKKKKACiiigArifFfwi%2BE/xog1fwt8Yvhh4d8WaZb%2BIIrqDTvE2iwX8Ec62UKLKsc6MocK7qGAyA7DOCa7avJ/jv8AtW/AL9j7w1qPxL/aL8e/8I7ol94rh0y1vf7LurvfdPp6SrHstYpHGUhlO4qF%2BXGckA44ieHp0JSrtKCWvNa1vO%2BlvUax8sqf1uNZ0nT151Jwcel1JSi477qS331E/wCGB/2Ff%2BjLPhL/AOG50z/4xR/wwP8AsK/9GWfCX/w3Omf/ABivJP8Ah%2Bb/AMEsv%2Bjov/LJ1z/5Co/4fm/8Esv%2Bjov/ACydc/8AkKvF%2BvcK/wDPyh/5T/yNP%2BIpYn/oez/8LKv/AM0H0l8NPhF8J/gvoUvhb4O/DDw74T0y4u2up9O8NaLBYQSTsqo0rRwIqlyqIpYjJCKM4ArxX9pX9hfxX8ePF3xK1Pw/8Z9N0LR/ir8L7Dwh4l0698ISX1xC1lLqcltd2063sKoM6nIJInik3iJNrxksT6T%2BzR%2B1b8Av2wfAl38S/wBnTx7/AMJFoljq8mmXV7/Zd1abLpIopWj2XUUbnCTRHcFK/NjOQQMf4lftl/DD4V%2BLPEvgXxLoOvPrHhyXwxHHp9rawNJq39v376dp7Wm6ZQ4N3FNE5cx7PJdj8gDH2sPPD1KEZUGnBrTlta3lbS3oZvHyzV/W5VnVdTXncnNy6XcnKTltu5PbfQ8q/a%2B/4Jjy/tWfHq3%2BMtz8UvDtnFDL4Ymt49f%2BHaaxqWjyaPqx1AjSb17uMaal3kRXG2F3cKCHGAo2PDv/AATsXQdd1XWz8XxN/aeg/EzTfL/4R7b5X/CXeIodZ35%2B0HP2TyvI28efu35ixsPNfHr/AIKx/Dvwd4b%2BPfgb4aaVbx/Ev4R/CXxb4v0nTNb1rSdQtNQOiw/OZodL1Ka6tk86W1zDdLaTOkx2DKSeX3mrft4aD4f%2BI/iT4U6b8OvFfjXxLp/xAufD%2Bl%2BGfCejWcF0YbbRNM1S6uTLeagkMsMS6jCDKzQOzzxwpA7KJJdhHqnwZ%2BH3iP4WeBNI%2BHep%2BKbLVLDQfD%2BnaZpskGkvbTH7PbLDJJKxnkV97IGVVVNgO0mT71eOfB39hXxz8H/Gtn4gsvjppmoaZ4K0LxFpvwi0a68GOo0IatdxXLNqEi3wOpi3EEVvEsYsz5HmB2eRhMvZfsQftI6p%2B09%2BzL8PPi74s0c2eueLfAOm%2BItRisdEvLewjN0hOyKSYMoYFWzCZGlQFS4AZSfO/BP7Y3xs17486DLq2m%2BFh8NvGPxi8SfDbQdPt9NuV1qzv9HtNUlfUZ7prkwywyz6JfxC3W3RkWW3cyv86gA3PFH7DfiDxH8dL/xuvxktoPA/iD4haJ488U%2BDP%2BEYLXd54g0q0s7e1khv/tQW3tSdN02Z4DbyO0lqSJlErise9/YP%2BMHjjW/jrbfFv9ofw1e%2BHvjNaILaz8NfDq407UfD91b28FtY3K3U%2Bq3UVyYY4EdlNugkmAYeWgMRj/aa/bG%2BNvwr%2BKfjF/h5pnhZvBvwm0Xw3qfju21nTbmbUdYj1S%2BuIpo7GaO5jjtGtrW388NJFcCeSURYhCmQ898Jf28vjx8Q/wBsu8/Z/vtJ8OW2mT%2BIvFuj2NpN4P1O2FoNJcpa3UetyXBsNaknAV5rCzjW4tBJIspBtZcgHZ6r%2Bwr468efBj4r%2BBfiv8e7K/8AE/xnu7ODxp4j0HwjJp9omjRQW1nNptpaPezSQiWyiuU857iRlmvZJQCqpCJ/2wv%2BCa/wT/a4J16917xT4X8RGPw/aPq3hrxtrdhbyadpWrLqMVq9lY39tbyHLXKxzMpkhacSId0SAR/Bb45ftN/EL9mTxz4m8XeLPBll438GeOtd0WbWNC%2BGeranp81vpt60ZePR4NQa9uJniQgRxXBYuQVQ/wCrPi2vf8FP/jnZfBjwh451LVvh14Ok1XTPG11P4k8Z%2BGtRistcu9D1RLKy0i3sTexXGmajfxM8/wBkuJJ7q2MEsP2eeSOQRgHtVn%2Bwh4h0342ReLrH42RDwLY/EG58d6V4Nm8NvJeQ%2BIJ9MksWaTUWuz51mHmmvBAYBKbhwTcGMeVWd4s/YK%2BK/wAW9R8SeP8A40/tFaHc%2BMr/AE/w7B4Z1Twj8PpNLsNLn0TWRrVjc3FpPqN1JfOLxU3KbiJTD5kaCMyu5peMf21vivZeKvgp448GyaVceD/jDLoH2Tw1ffDrVUns7bUY0aSaXxGLv%2BzbeaMSb47OWATXBTyotzyKRq%2BFf2hv2j9Q/a/8S/so33iTwvdufAmra3oeuzfCrWNHh0i6hurKG0hJu78p4jiZL1mmlsHhWBrZUkMTXcQUAuS/sJa14k%2BDusfDn4jfGO21LUvHHxUsPGfxN1TT/DDWttriWtxZP/ZkFs11K1pbPb6dZWjb5Z2MSSZLNJld79oP9nf48fFb9oD4Y/Fz4efG/wAI%2BHtH%2BHWqT6hJoWtfDy61O51Ka4tLmynAu4tVtUgQ21yQg8iQpKodjIp8qvAz/wAFG/2iYfhhqV19j0ifULL402ngz/hKf%2BFNeIYblbObRf7Ra5/4Q57s6zLMs2LYRLLueFzfKv2eNs6/jD9sH9s3X/2KvAP7Tvwk8VfC3T/EHjG80zQrPwprPgPUNSXVNYvtWGnwukkOsW72EYRvPmtpUmmtRFOkjlomAAPY779mT4s%2BMf2itF%2BNvxK%2BMXhm60/wXJrUngXRtB8ASWNzbtqERgxf3cmoTi9RIm5SKK1WSQLIwyiKvK/Bf/gn/q3wX8PfFDXfB/jnwN4Z8ffEPwqmiafrvw4%2BFiaDo%2BheSl41tdJpi3szT3Aub6aeWR7kGbbEmY1jWrfxV/aV%2BOHwo/bN8FfBgzaRrvhzxxeXUdvpEXw61TT59Pgi0q8uhINfmu202%2BuWuLMJ/Z8cUdz5Vx5uPLgd28G8Ef8ABW/4q6r8L/E2q3V58PPEXiyH4R2njWDRfDelXsI8H3LXsFpfaJqkct28l5fWZuoWMMf2S4nZGi%2BzwtLEWAPc/jp%2Bwh4v8Y/BX4X/ALN3wJ%2BLfh3wr8P/AIewWlvqvhHxR4Hn1qz8S2tlBFFYWlyLfUbFxbxvGJZItzLcMkayAxiSOXe%2BLn7OX7SHxG%2BPXwo%2BMWh/H7wRpdl8O1kl1XR7r4Y3l1Lq91c28ltevFOusxC0jaF/3UbRTtE43O86nYPLPDn7aP7RHin9kj4nftBS/ErwL4f/AOFS6/q6axq2u/B7WYZNV06z0y3vfm0K61e2vtIui8zxrDcyyPMiRTogS5irs2%2BNv7Zfgfxb%2BzHpfxbj%2BH9uPihdjQPihomn%2BHr1bmz1seFtZ1mV7Cdr5kht459LSHy5Y53dZGPmIQMgEHgr9gX4heDPiTa%2BLY/j/pN3pfhjW/F%2Bt%2BBLG48CN9utdQ1%2BW4lm/tK7F9jUraJrqXbCkVqzhITJI7RBzpW/7H/x0/sP4teKr/4/eD2%2BIvxV0XTtHuNdtfhncQ6Jp9lZpPEp/swasZ57ho7u5UzNejn7ONuyARt5/o//AAUf8bW37W1r8D/FmoeCd2ufEXxF4S034bQWdxb%2BI9JTTtN1DULTWb26kuWhNnfRaaxiAtogFvoCJpPKlFa3/BNz9uX4w/taa/q2j/FOw0VFh8CaB4jt/sPgrU/D8tnNqDXizWSR6jcTHVraL7OmzVrXbaXBdhHnacAHsfwb%2BF/jz4J/smaZ8H/iP480jxNqXhjwgdLGt6J4cl0qC5ggtzFCfs0t3dMj%2BWqBz5xDMGYKgIQZPjj/AJSF/C//ALIz48/9O3hCvUvHP/Ik6x/2Crj/ANFtXlvjj/lIX8L/APsjPjz/ANO3hCgD2aiiigAooooAKKKKACvBf2P/APk3rV/%2By9%2BOf/VgarXvVeC/sf8A/JvWr/8AZe/HP/qwNVoA6zX/ANib9jLxXrt74p8U/sj/AAx1LU9Su5LrUdR1DwDp0091PIxeSWSR4SzuzEszMSSSSTk1U/4YH/YV/wCjLPhL/wCG50z/AOMV534//wCCyn/BNz4X%2BO9b%2BGnjr9o77Drfh3V7nTNYsv8AhENYl%2Bz3VvK0Use%2BO0ZH2ujDcrFTjIJHNZH/AA/N/wCCWX/R0X/lk65/8hV4M8bwwptSnRvd3v7O9%2Bt9N73uaf8AETcTQ/dLPJx5dLfW6qtbS1vrCta1rWVrWsrWXs2gfsTfsZeFNdsvFPhb9kf4Y6bqem3cd1p2o6f4B06Ge1njYPHLHIkIZHVgGVlIIIBByK1v2mvgnZftJ/s6eO/2e9Q1%2BXSYfG/hHUNDfVYIBK9n9qt3hEwQkByhcNtJAbbjIzmvGvAP/BZT/gm58UPHei/DTwL%2B0d9u1vxFq9tpmj2X/CIaxF9ouriVYoo98loqJud1G5mCjOSQOa9x%2BOvxh8Ofs%2B/B7xH8b/GWmajdaN4V0qXU9ZTSoUknis4hunmCu6BljjDysM52xttDNhT6GBrZbWhJ4OUGk9eTltfz5UtbdyZcSVOJP3s8a8TyaXdWVXlvra8qlS197Jq%2B9up5H4i/Ym%2BIXj/Qfi7L49%2BPtrF4k%2BLfw703wzfa14T8KzabDpslmNRC3MUUl9PIyOL8BojMDiJsSDzBs4b4I/8ABKaL4ReIofE0PxJ8IWG34uDxy%2Bg%2BAvhfHoGkQMPCN54cNnbWqXkphDfahdtKzyMzoykfOHT0X4z/APBRD4O/BbS/F2uap4b1PULHwV4ts/DesaiPEGg6VaPf3GmxaiEhuNX1Kzhk2QTwBgH375gqK%2ByQpyNr/wAFHdJ8U%2BPo7/wTcWlx4C1zwZ8JNd8I6rFoUk95df8ACYeINW00rMj3cKxxiKzsyrAF4GkmdkucLBXcSdX8Df2KPEPwCj8CXfhH4uWVzf8Agb4G6V8OreXUPC7tDd/Y5IGN80aXasu9YWAhDnYXB8xtu1us/aN%2BAXjj4qeIPB/xM%2BD/AMT9O8I%2BM/BN7ePpWqa14afV7Ge1vLVre5tp7VLq1dwf3MqssyFZLePO9C6N5h4N/wCCjR%2BJn7RXg/wR4Q%2BD/iay8A%2BI/BXizX7TxZqmhLO3iGHSbjToY59Ljsrmacxv9qlbyp7dJ5g0DQoQTn0n9qT40fED4e6N4F8LfBxNIh8UfEnxvb%2BHdC1DxPpc9xZabmyvNQnuZ7WOa3lm22thcBYhLETIyAsozQBT8O/ssax4C/Zdtf2VvBninwvqGh6Z4HsNCsf%2BE78EtrEd5PHuF3c6hAt5BHdx3CbcwIIdjmRt7q6onndn/wAE14vDf7PL/Bfwje/CR7zVvGU3iTxHP4m%2BB8Oo6Ml28CW8R0zSRfxR6cbeCG2igLyXG1IPnErOznodK/a6%2BKb/ALBPjX9o9/h3Zax448C/8JXpl9omjw3As9Q1PQ9SvtNlmhjBknW3lksjOIgZJVjfZl3GTyfwR/bM%2BI/x68H/ABM0fwV%2B018ILq/%2BGGoWV3qHxS0vwNe33hnUdHn083TNHbJrKsksMiTxvIt7NGPIOVDs0cQAzWv%2BCWa2Wj2nwx%2BGHxvj0nwHP4J8JeFvEOka14W/tHVJLPw/cyT20ljfi6hWxmlMrGR3guAJP3saxuST0nh/9hHx74U%2BIw8R6D8fdPXw/wCHfEnivxV8NtAufBbSS6L4h177Y1xdXdwL0C/topNS1ExWyRWzBLrY0reWjDg/Gf7Tv/BQLTP%2BCeXgj9qnT/EPwt0rx34o0XTBB4N1f4ZanPHqWr6zew2%2BkWa7Ncjey/4%2B7VLgMbkowmcEKu2u30n9qX4yWX7c2r/Aj4n%2BK9B8MeEYdas9M8IRah8I9bVvFkkuiQ3kgttfa8GmxzLcvcKLXypJSlq6gFjvAB137Ef7NHxT/Ze8Aal4N%2BKfxd8OeN7/AFPUTqeo%2BJ9K8E3Ok6hq%2Boyg/ar7UHm1K8FzLJiJVEYhjhjiWKNBEkaR%2BreD/wDkEzf9hW%2B/9K5a1Ky/B/8AyCZv%2Bwrff%2BlctAGpRRRQAUUVX1XV9K0HTpdX1zU7eytLdN891dzLHHGvqzMQAPc0m0ldjjGU5KMVdvotSxRXzn8U/wDgrH%2BwF8KdS/4R%2B8/aG0zxBqzOUh0jwXBLrM8sg/gBtFkRW9mZa5Jv%2BCi37S/xYH2X9lT/AIJq/ErVBNxBrfxHkg8NWIH/AD1HnM7Sp3wuCe3NeZUznLIScFUUpLpC8390FL8Wj7nC%2BGnHGJoRxFTBSoUnqqmIcMNC3dSxE6N1/hhL/P65pGZUUu7AADJJPSvkZfgP/wAFZfjoftXxg/bE8H/CjT5eW0D4V%2BFft1wUPRWvb47o3A6tHkZ6cVJF/wAEa/2afFrfbP2jfib8VPizdNzLJ46%2BIV48efREtmhCL6Lk4FT9ezCt/Awzt3nKMPwXPL8EdD4V4Qy7TM88puXWGFo1cS/T2kvq1H7pSXme7fET9rD9mD4SwSXHxN/aH8FaF5X3otT8TWsUhPoEL7mPsATXiOr/APBZn9i%2B61GXQ/g2/jf4oajCdr6f8OfAt7fPu7KGkSNGz6hiPeu5%2BH3/AATH/wCCf3wwnju/CX7JPgvzoeYp9U0kag6H1DXRkIPvnNe2aRo2j%2BH9Oj0jQdJtrG0hXbDa2cCxRxj0CqAB%2BFHJnlXedOmvJSm//JnFfgL6z4W5f/Dw%2BMxcv%2BnlSjhofdRhXqf%2BTp%2BZ8o/8Nxft7/Ej5fgV/wAEtfE1tbSfc1T4leMLPRDEOxe1IaVvorZFOXRP%2BC1nxB/fah44%2BA3w9tn%2B5Dpemajq15EP9szERMf93ivrWij%2BzK1T%2BNiakvRxgv8AySN//Jg/14y3C6ZdkmDpedSFXEy%2B%2BvW5b%2BlJeh8lf8MQf8FAvGvHxa/4KueI1gf71l4H%2BHunaQYx3CzqzOfqRmgf8Eevgr4h%2Bf4x/tIfHLx87/64eKvidcPG3qAsKx7V9s8V9a0Uf2Jlsv4kHP8AxSnL852/AX/EUeNqWmExEMOv%2BnFDDUPxp4dS/wDJ7nzR4O/4I8f8E2fBEoudN/ZX0a8lzlpNcv7zUS57ki6mkB/LFer%2BGf2Tf2WPBcKW/hD9mvwDpaJ90af4Psoce/yxDn3r0CiumjluXYf%2BFRhH0jFfoeLmPGvGecO%2BOzPEVf8AHXrSX3e0S/Ap6P4d8P8Ah6E2%2BgaFZ2MZ6pZ2qRD8lAq5RRXYkkrI%2BbnOdSTlNtt9W2397uwooopkhRRRQAV4z%2By//wAlv/aO/wCyzWP/AKhXhevZq8Z/Zf8A%2BS3/ALR3/ZZrH/1CvC9AHs1FFFABRRRQAUUUUAFFFFABRRRQAUUUUAFFFFABRRRQAUUUUAFFFFABRRRQAV8Kf8FF9S/sX/grP%2BxDqe7GbjxzbZ/67RaLFj/x6vuuvzz/AOCumpnRf%2BCkn7DmqbsZ8c6xbE/9dr7w9F/7NXm5vLky%2Bcuzj/6XTPtfDuh9a4ww9H%2BaNdffhcX/AJH6GUUUV6R8UFFFFABRRRQAUUUUAFFFFABRRRQAVleH/wDkLa5/2FE/9JLetWs%2B98MaRf3b38guYpZABI9rfzQb8DALCN1DEDjJ5xQBoUVl/wDCH6T/AM/eq/8Ag8u//jtH/CH6T/z96r/4PLv/AOO0AaleU/FX9jz4VfGD9o34e/tOeKL/AFmLXPhyLz%2Bz9PsbuNLDVDNGViN9E0bNP9mZpJYNrp5ckjN83GPQv%2BEP0n/n71X/AMHl3/8AHaP%2BEP0n/n71X/weXf8A8doA%2BatQ/wCCSXwQ1jS/EPhnWPjR8SbnQ9b%2BHvjPwZp2hPqWmrbaDpfieaKbUvsmyxEjzCSFDHNcvcMvIcyDAHa%2BKv2CfAOs%2BPtV%2BLPhL4seN/CXizVPGdz4iPiLw7d2BntmudJsNKubKNLqzmiNrLBpto7K8byLLGHSRCFC%2Bwf8IfpP/P3qv/g8u/8A47R/wh%2Bk/wDP3qv/AIPLv/47QByf7OX7PHh/9mL4V%2BFvgr4D8a%2BIL7w34Q8J2Wg6RY63NbTN5dsGVbmSVIEkkndSquS3lkRqVRWLM3L6B%2Bw98OvDvxzX41Wfj3xXJb2niTUfEmieCprq0OjaRrt/ayWt5qluothc%2BfLFcXYKSTvCrXlwyxK0hNeqf8IfpP8Az96r/wCDy7/%2BO0f8IfpP/P3qv/g8u/8A47QB5D8SP2D/AAJ8VfGln418W/FnxqzzaVomn%2BN9Ptp9PitfGsek3b3dkdSRbPKlZ5Zmf7GbVZVlaKQNEFjVfBP7Bvw/8C/FO2%2BI%2BnfFPxrc2OkeJte8R%2BFfB97dWLaXoGsaw101/e2220W5d3N9fbUuJ5ooxdyBI1GwL67/AMIfpP8Az96r/wCDy7/%2BO0f8IfpP/P3qv/g8u/8A47QB418I/wBiHxL8GfA/irwf4Y/bb%2BLdxceKvFEniCTXr6z8Lm70%2B9mmkmuzAseiJAUuGk%2BdJopQoRfK8o5JkuP2FNGX4P8A/CldB/aM%2BJWkaZqd/q9542vdNvNLF74tl1OZprxryeSwY25dnkCmw%2ByGJZNsZQKmz2H/AIQ/Sf8An71X/wAHl3/8do/4Q/Sf%2BfvVf/B5d/8Ax2gDzPxl%2Bx14f8c%2BJtCbWPi/4wj8FeHNV0bUtJ%2BFlkulw6FFdaVLBPYPuSxF9tiuLa3nEX2ryjJCuUK5UwWv7HNw/j%2B5%2BKniT9p/4k614hg8Pajo3hPVNQOio3ha3vpbeWdrOODTY45pCbS1AkvFuiFhxyHl3%2Bp/8IfpP/P3qv8A4PLv/wCO0f8ACH6T/wA/eq/%2BDy7/APjtAHiE/wDwTy8I3jf8JZfftBfEabx%2BnjODxPB8T3n0gatDeRaXPpSRrAunDTvIFjc3MPlGzKnz3kOZcSDo/CH7FHwp8HaZ8NNIttd8QXkHww8R6n4i0tdQvYpP7U1m/ivUudRvcRDzJi2o30oEflxrJcFggCoE9M/4Q/Sf%2BfvVf/B5d/8Ax2j/AIQ/Sf8An71X/wAHl3/8doA8%2B1/9liDxl8Z9H%2BLPjz45eN9c0/w5rza34b8C3raZHpGm3/2aW2WZWgsY7ybYk8xVJ7mWMNJu25SPZzOtf8E/vBHjfTfErfFr42%2BP/GGu%2BILLTrSy8Wazc6bBf6BFYX66jZixWysYLeNo72OK4LyQyvK8MQmaVI0Qez/8IfpP/P3qv/g8u/8A47R/wh%2Bk/wDP3qv/AIPLv/47QB5HB%2Bwd8Orr4b6/8PfGnxK8Y%2BJJfGHxA0vxf411/V7mxS81%2B7sH0/yLedba0it0tTDpdnbvDBDEHijYE7pJHbV/aE/ZRuvj/wDErwB8Sh%2B0d498ISfDjXn1rQ9K8K2%2BiNaz3z2N7YPNP9v026lbdaahdwbVkRAJdwUSKrj0f/hD9J/5%2B9V/8Hl3/wDHaP8AhD9J/wCfvVf/AAeXf/x2gDzvxN%2ByP4a%2BIfxU/wCFj/Fv4oeLPFun2i33/CO%2BC9Yewj0nQpLyzksria3%2By2kNzJI1rPcwhriecol1ME27%2BK37N/7GnhT9nLXj4pj%2BK/jPxnqMHhSy8MaNd%2BMrqxdtJ0a0d3hs4RZ2luHG58tNMJZ5NibpW2ivTf8AhD9J/wCfvVf/AAeXf/x2j/hD9J/5%2B9V/8Hl3/wDHaAE8c/8AIk6x/wBgu4/9FtXl3jj/AJSF/C//ALIz48/9O3hCvUT4M0N8LO19MmQTFcatcyI3sytIVYexBFeXeOP%2BUhfwv/7Iz48/9O3hCgD2aiiigArzD9rb4yeMvgx8MLC%2B%2BGtnpkviXxJ4w0Xw1oEmtwSS2Vrcahfw2xup44pI3ljhjkkm8pZIzKYhGHj3719Prjfjx8EvDX7QPw6l%2BHfibWNT0vbqVjqel61ok0cd7peoWV1Fd2l3A0scke%2BOeGNtsiPG4BR0dGZSAeJ3/wC2P8Z/DP7IfxE%2BJGu%2BHvD1745%2BG/jebwtrd9YabdJowC31tF/bLW3nSTpaw2V3HfTwCZmQQzRiY4EteXXH/BUP4l6r4CktfAPjDwZ4jvNL%2BNE3gjVPiR4N%2BG%2BseI9Nv7ceG49divNO0HTr5768DfaIrVzBczJGYZrgkxDj6Z%2BHP7LA%2BFPw91bwN4L%2BPXjiC61yS8vdS8TSrpMuoTatdXT3E%2BqkvYGHzyXEYi8r7KkUUaJAoWuYl/4J%2BeDY9O07VtD%2BOnxA0zxzY%2BLLzxHcfFC1n0t9Z1G/urJbCc3Ec1hJYPG1pFbwLGtoqRpaweWEMYNAHUfAD9pLTfG/7Hng79qT43az4a8KQax4Msda8RXh12EaXp7TQo7n7S77FjDNjLOdv3SxIyeL/YZ8T%2BGvGv7LFx4w8G%2BIbHV9I1T43%2BNLvTNV0y7S4tru3k8faq0csUqErIjKQwZSQQQQa9g%2BCfwg8H/AH4T6D8G/AK3X9k%2BHtPS0tJL%2B5M1xNjJeWWQ43yO5Z2bABZyQAOK88/YesLTU/gLr9jfQCSKT4y/EYMpJH/M7a0QcjkEHBBHIIoA9sorK/wCEP0n/AJ%2B9U/8AB5d//HaX/hD9J/5%2B9V/8Hl3/APHaANSqmvaFo/ijQ73wz4i02K80/UbSS1vrO4TdHPDIpR42HdWUkEehqt/wh%2Bk/8/eq/wDg8u//AI7R/wAIfpP/AD96r/4PLv8A%2BO0AfP3gn/gmD8KPhp8I/Afww%2BHnxq%2BI%2Blah8Ptb1PVNL8crqen3Ot3kt%2Bk0V0LqS5spIJN0U3lK6wpLGkMQjdNpJseBv%2BCYnwD%2BH/hrw94V0Txb4wktvDXhr4eaHYNd6lbPI9t4N1W71TS2kb7ON0ks95Ktw3AdFQRiFgXb3n/hD9J/5%2B9V/wDB5d//AB2j/hD9J/5%2B9V/8Hl3/APHaAPEPht/wTu8C/Cn4iaX8QPCXx1%2BIir4X8N67oXgPQri802Sw8LWeqzW00yWiGx3ymJ7SDyTdPcbFTYdyfLXpHxz%2BAeifHfwbpfhzV/Gmu6Jqmga1a6x4e8WaA9quo6ZqEAZVuYhPBLbsWjkmidJIXjeOaRSmDx0//CH6T/z96r/4PLv/AOO0f8IfpP8Az96r/wCDy7/%2BO0AcX8Nv2bbD4RfDCH4V/D34q%2BKrC1TTtXW41EmwmvLrVNSumvLjWpHltGU3v2mW4mACi2L3Mm6BwIwnM3P7CvgDXfgr8Qfg747%2BJ/jLxHN8VW2%2BP/F2qXNjHqmrW/kRWxtD9mtIraC3NrF9n8uGCMbJZWGJZHlPrX/CH6T/AM/eq/8Ag8u//jtH/CH6T/z96r/4PLv/AOO0AYHxN%2BBfg/4r%2BIvAuveJ7y/SLwB4o/t/SdLtJI0tbq8WyubSL7QpQl0iF08qKrJiWOJznYBXP%2BNv2W4PiT8X9K%2BJfj343%2BNdT0bQtet9b0b4eSHTItGtNQgh8uGfdFZJfS7HLTCOW6ePzTu2YVFXv/8AhD9J/wCfvVf/AAeXf/x2sfx1qHwu%2BGHhq48Z/Ejx9/YGkWi7rnU9Z8WT20EQ/wBqSSYKPzpSlGEXKTskaUaNbEVY0qUXKUnZJJttvZJJNtvokm32OsrK8H/8gmb/ALCl9/6Vy18i6t/wUQn%2BN%2Brz%2BC/%2BCdP7PfjL4s3UUphufGd/rd7pPhmyccHN3O4adl5JjQKWHKs1WtP/AGEv20f2gbVF/bN/bRvND0Nh8/w7%2BCcbaXZgE5KS38oNzcK2cMrjnkhuc15LzaFZ2wdOVXzWkP8AwOVk/wDt1SPv14e4nLIqpxJi6eXrf2dS9TEteWGpc1SN%2BntpUF3Vj2b9oH9vn9jz9l13s/jX8fdB0vUE4Oi287XmoZ7D7Lbh5hnoCVA968j/AOHkvx3%2BMo%2Bzfsaf8E9viH4nhl4g8TeO/K8N6UwP/LWN7gs86DrgBWPQV67%2Bz5%2BwV%2ByF%2By4I7j4K/AjQ9M1BOuuXEBu9RcnqTdTl5eTyQGA9q9eo9hnGI/i1Y012guZ/%2BBz0%2B6Af2r4c5Ppgsvq42a%2B3iqnsqbfdYfDa28qmJb7nyIv7PP8AwVU%2BPLfa/jj%2B2Z4b%2BFumyct4c%2BEXhz7ROVPQNf3p8yNwOpjBUnp2q3pf/BG79lLV9Qi1z4/%2BKfiL8XNQifzFufiR47u7tQ/qI4TEmPRWBGOOa%2BsKKayTL5O9aLqPvOTn%2BDfL90SJeJ/F9GLhltWGChty4WlTw%2BnbnhB1n6uu2%2BpyXwr%2BAfwP%2BBunf2T8GvhD4a8LQFNrpoOiwWpkH%2B2Y1Bc%2B7Ek11tFFenTp06UFGCSS6JJL7kkfD4rF4vHYiVfE1JVJy3lOUpSfrKTk382wooJCgsxAAHJNcl4t%2BP3wI8ARvL47%2BNfhLREj/wBY2r%2BJLW2C/UySDFE6lOmrzaS82l%2BbRyVKtKlHmnJJebS/No62ivnrxb/wVe/4JzeCpmg1j9rzwhMy9TpF4%2BoD8DarID%2BFcjL/AMFvf%2BCb80jReHvjPq2sspw39leBtXkGfTJtVBrgnnOUU3aWIhf/ABx/Rs8upxBkNKVp4qmn/jj%2BjZ9Z0V8lf8Pmv2Vr35PCvw9%2BLOuufuRaR8M752b6b1WkP/BU7xP4j/cfC/8A4JtftG6vK3%2Brm1XwImmWr/8AbaWYj9Kj%2B3Mpfw1U/RSl%2BUGZ/wCseRv4a6l/hU5f%2BkwZ9bUV8kj9rD/gqX4v%2BbwR/wAEu7HRLdv9VeeLvi3YBj7tBCm9fpml/t3/AILfeJfm03wJ%2Bzd4Zjbqur6nrV5Kg9jAAhP6Uf2vRl8FKrL0py/9u5Q/t3Dy/h0a0vSlNf8ApXIfWtFfJJ%2BDX/BZLxYfL1/9s74U%2BElbrJ4W%2BHcl%2ByfQXrAH8aQ/8E8f2tfGnyfGn/gq98U75G/1q%2BBtHsfDbH12tAJNtH9o4uf8PCz%2BbhH85N/gH9q46f8ACwVR/wCJ04L8Zyf4H1vRXySP%2BCO/wTx9qk/aX%2BPUmoMczau/xUuPtMp9WITaT9FFL/w6Q8ND92P2%2Bv2oRCPu24%2BLz7F9gPs%2Bf1o%2BtZsv%2BYVf%2BDY/rEPrueLfBr/wdD9YH1rRXyV/w6ei0r/SPBf/AAUN/aa0q47k/FHz4nPq8bwYb8xSH9iD/goF4JPnfCP/AIKs%2BI5UX/lx8c%2BAdP1ZZfYzEq6fVRmj67mMPjwj/wC3Z05fh7of2jmsP4mBl/27UpS/B8h9bUV8lD4c/wDBaeIfZF/aO%2BBkqJwt3J4QvxLIP7zKG2g%2Bw4o/4UL/AMFgvEn7vW/2%2BPh74aU8eZ4d%2BFqXrD3xduBmj%2B06z2wtX7or8XUsH9sV38ODrX/wwX4urY%2Bta8Z/Zf8A%2BS3/ALR3/ZZrH/1CvC9eYD9ij/go/IN9z/wV71kyHlzF8HdIRSfZd/A9q6L/AIJ1%2BCfiN8Odb%2BPPg34tfF6fx54gs/jNB/aHiy50eGwe%2B3%2BEfDbx5ghJSPZGyRcHkR7jyTXRhsViK83GdCUF3bg/l7sm/wBDqwmNxWIqONTDTpq28nTa9PdlJ3%2BVvM%2Bk6KKK7T0QooooAKKKKACiiigAooooAKKKKACiiigAooooAKKKKACiiigDnviv49vvhh8PNT8eab8PNe8Vz6bCsieHvDItTfXmXVSsX2ueCEEBixMkqKFVjnjB5CP9rf4W/wDDIel/tpXdnq9v4V1jwXYeJLGwezR9RkivYIpba1EMbsrXMjTRRCNXKmRwoYj5q6/4rj4gt8OdYi%2BFfh3RtW8QS2bR6bp/iDXJdNs5XYhT5tzDbXTxAKWIKwyZIAwAdw%2Bc/BX7KX7Tmqf8E5fDH7G/xH03wHoniTwf4F0Gw0nW9D8V3uqWU%2BraJJZyWUkiS6dautvLJZRvIBl0DsiiTAcgHuHwD%2BP%2BjfHrTdeEfgbX/CuueFNfOjeKfCvihbT7dpd59mt7tEdrO4uLeRZLa6tpleKaRSswBIYMq/EX/Bbf/Qf2r/2WfFfT%2Bwdc1HUN393brvhRM/8AkSvr79ln4RfFLwNrHxE%2BKvxtg0Cz8T/EjxhDq93ovhfVZ7%2Bx0q3t9LsdNgt0up7e2kuGK2RmZzBFhpygUhAzfEH/AAXA%2BGPhvwB8QdA%2BL%2Bkal4hlvH8G6vql/Hqvi7Ub60gMXirwUg%2By2tzPJBZD98crbpEG43A7Vx5Oe6ZNXfaLf3OL/Q/QPCnXxIyqH89ZQ/8ABkatP/3Ifp3RRRXrH5%2BFFFFABRRRQAUUUUAFFFFABRRRQAUUUUAFFFFABRRRQAUUUUAFFFFABRRRQAUUUUAFFFFABRRRQAUUUUAFFFFABRRRQAV4z44/5SF/C/8A7Iz48/8ATt4Qr2avGfHH/KQv4X/9kZ8ef%2BnbwhQB7NRRRQAUUUUAFFFFABXjP7B//JENc/7LN8R//U11uvZq8Z/YP/5Ihrn/AGWb4j/%2BprrdAHs1FFFABRRRQAUUUUAFFFI7pGhkkcKqjLMxwAPWgBa4X9oD9pb4F/steBpPiL8e/iTp3hzS1JWF7yQmW6cDPlwQoDJO%2BOdqKxxz05rwT4rf8FCvG/xg8eXv7Of/AATY8FWXj/xVaSeR4h8fX7sPC/hfPBaW4X/j7mHJEUROexcqyVx918JP2L/2GPEtv%2B0z/wAFHf2mrf4hfFm4VZLPVvFY897Q5yE0nSIQ5hjVujqh2nkGPcRXh4jN1JS%2Bq8vLH4qknanH53XO12jpfRy6H3/%2BquUcL4KOY8ZYh4aDSlHDx5ViakXrFyU/cw1OWlp117SSd6eHlpJ7yftKf8FAv21nFr%2Bx98H1%2BEfgec8fFH4paeH1G7iP/LSw0rnrwyvMSjqeqmt3wR/wSV%2BBd74kt/iP%2B1j468U/HHxVC29L74hak0mn2zdxb6ehEMcZ/wCeb%2BYorN/4ePftEfGofZv2Mv8Agnn4%2B8Q28vEHin4hyReG9LI/57R%2BcWkuE9l2seaQfsqf8FKv2hz9o/ad/bhtvh7pM3MvhL4GaYbaVVPb%2B1LrM6sBwQFZSelefFYXFSUnCeKl3a5aa9FLlppefLUfmeNX8YcfSpPC8I4R4Si1a9CLjUkn/wA/MbWUa079VTdOHaFt/pTxR8QPgn8A/DNrH408beFvBejW8Yisl1TUrbTbWJBwETzGRFA9BXlPjD/gqj/wTs8DW8tzrX7X/gqdYVJcaPqf9oscf3VtRIWPsAaxPh5/wSE/YM8E6ofE/ib4QyePNclH%2Bla78R9Vm1qe493SdjCT15EY617F4S/Zl/Zu8Ayx3HgT9nzwRoskLBoX0nwnZ2xQjoQY4xg/SvWTzua0jSprs3ObX3ckfuPz%2BVTibEyc2qUG9dXUqS16trkTffXfq9z5%2BT/gqtqnxQcL%2ByJ%2Bw58W/iTbnmPXp9HXRNJmXsY7q7PzH2KDginn9pP/AIK2%2BLh5fhf/AIJt%2BFfCu/iO58WfF21vFX/aaO0QN%2BA5r62op/UMdPWripf9uxhFflN/iL%2BzMyqa1sbP0hGnBfK8Zy/8mufJH/Cqv%2BCzPxLH/FX/ALVPwh%2BGkcn8PgTwTPrEsS/XUWClvpxnpQv/AATF%2BK/jA/a/jT/wU8%2BPmq3PUjwl4hg0C3J9fJgjcY9s8V9b0Uf2Ng5fxXOf%2BKpN/gpRX4B/q/gJ/wAaVSp/jq1H%2BClBfgfJX/Dob4eT/Lq37aH7SF%2Bh%2B9HefFqVg31xCKP%2BHL/7IN383iPxL8TtYfvJqfxJv2Y/98utfWtFH9h5R1oxfrd/nJh/q3kPXDxfrzP85s%2BSx/wRE/4J23JC698L/EGqxfxQaj491Zkb6hbla6zwn/wSZ/4JxeC5Ek0f9kXwnMU%2B6NWglvwfqLp5Afxr6IoqoZNlFN3jh4X/AMMf1TLp8P5DSlzRwtO/%2BCL/ADTOO8I/s7fs/eAIlt/AfwL8HaJGn3E0jwxaWwX6COMV18MMNvEsMESoijCoi4AHsBTqK9CFOnTVoRSXkkvySPUp0qVGNqcVFeSS/JIKKKKs0CiiigAooooAKKKKACiiigAooooAK8Z/Zf8A%2BS3/ALR3/ZZrH/1CvC9ezV4z%2By//AMlv/aO/7LNY/wDqFeF6APZqKKKACiiigAooooAKKKKACiiigAooooAKKKKACiiigAooooAKKKKACiiigAr89/8Agu1pH9t%2BEpbPbny/gR4tuP8Av14o8Cy5/wDHK/QiviH/AIK86P8A24NRstudn7L3xKuMf9ctT8IS/wDslednEPaZTiI94T/9JkfZeHOI%2BqeIWT1/5cVh3/5Wpf5n2Z4M1f8A4SDwfpWvbt327TYLjd6741b%2BtaVcH%2By1rH/CQ/sx/DnX9277d4D0i43eu%2Byib%2Btd5XZQn7SjCfdJ/ek/1Pm8zw/1PM6%2BH/kqTj/4DOcf/bQooorU4QooooAKKKKACiiigAooooAKKKKACiiigAooooAKKKKACiiigAooooAKKKKACiiigAooooAKKKKACiiigAooooAK8Z8cf8pC/hf/ANkZ8ef%2BnbwhXs1eM%2BOP%2BUhfwv8A%2ByM%2BPP8A07eEKAPZqKKKACvEP2/vEniLQvgno2kaJ4r1LQLTxJ8S/Cvh/X9c0fUJLO6s9OvtatLa4EVzEyvbPMsn2YTIyvH9o3IyOFYe31m%2BMfBng/4ieFr/AMD/ABA8KabruiapbNb6no%2BsWMd1a3kLDDRyxSApIhHVWBBoA%2BU/CEX7QPjj9jX4r/C/4L%2BP9e1XUfC/xX1LQPCWs3viqT%2B1dR0W11S3a7sI9UuHMn2sRG/02K7lk8xJIo2eXejSV4nYfF/9qfxXNF%2Bzb4V8I%2BNLPQL79pu/8LaXp/ij4z3Vrqi6Zb%2BCotZbTrvxLYy310hGpfbCz20txKv2b7H5m1JSv3rb/s1/s52ngt/hva/AHwVF4dk0P%2BxZNAj8K2a2Tab5jSfYjAI/LNvvd38rGzc7HGSTSXv7NH7OOpfCWD4B6j%2Bz/wCCbjwJbFTbeCpvClm%2BkxFZDIu2zMfkrhyXGF4Y5680Acx%2Bzd8abLxv%2Bx34Z%2BMHw6%2BHHivV0OgAWnhmXxDFqGqzyQO0Dwi/1C6RLtt8b4uZpx5ygSFsvWR/wTp1a/179m6%2B1vVfDF9olzefFv4hzXGj6nJA9zYu3jPWiYZWt5ZYS6E7SY5HTIO1mGCfatC0LRPC%2BiWfhrw1o9rp2nafax21hp9jbrDBbQooVIo0QBURVAAUAAAACvI/2D/%2BSIa5/wBlm%2BI//qa63QB7NRRRQAUUUUAFFFeJ/tv/ALe3wI/YO%2BG//Ca/FjVzc6rfKyeHfCtg6m%2B1aYdkU/cjBI3yt8q5A5YqrY4jE0MJQlWrSUYx1be39fi%2BhpTpyqysrLq22opJatylJqMYpauUmklq339Z8ZeM/CXw78LX/jjx54kstH0fS7ZrjUdT1G5WGC3iXq7uxAUV%2BY/xk/aX/ah/4LSfEjUP2Yf2IDe%2BEfgtp9z5HjX4jXsDxHU4/wCJMfK2xh9y1Uh5AQ0pRCVXS8Ofsfft1/8ABXbxPZfFr9vbXb/4ZfCWK4W68PfC3SGaK7u4/wCB5VcZRiDzNMDJy3lxRqwI/RT4QfB34ZfAT4eab8Kfg/4NstB0DSYfLstOsY8Kvq7E5Z3Y5LOxLMSSSSc185JY7iL3WpUcL1vpUqLtbeEH1v70l2RvTzT6o1/ZM2p9cRZxcfLCqSUk/wDqKnGMkv8AdqcW1XXyb8Mv%2BCU/7Q3wn8C2vwy8C/8ABS7xjoOgWiFIdM8LeCdN01Fz95gYsneepcksTySTzXsH7N3/AATg/ZY/Zn1pvHegeD7jxL40nfzb7x/43vDqmsXEuMGTz5RiJj38pUz3zXu9Ferh8myzDSjKFO7jtduXL/hUm0vkk/M8OWV4OrjXjK6lVqtuTnUnOrLmerlepOb5n1l8T7hRRRXqHohRRRQAUUUUAFFFFABRRRQAUUUUAFFFFABRRRQAUUUUAFFFFABRRRQAUUUUAFFFFABXjP7L/wDyW/8AaO/7LNY/%2BoV4Xr2avGf2X/8Akt/7R3/ZZrH/ANQrwvQB7NRRRQAUUUUAFFFFABRRRQAUUUUAFFFFABRRRQAUUUUAFFFFABRRRQBx37Qfxm0L9nf4HeLPjn4k0y6vrPwpoFzqUmn2O3z7xooyyW8W4hfMkYLGu4gbnGSBk1w3wx/ao8caxofxK0z4vfBIaP40%2BGFrHear4W8Ia8%2BuJqdtNY/bLZ7Kd7a1eV5Ns0HltChE0DgFkKO3c/tCfBnQ/wBon4G%2BLPgZ4k1S6sLPxXoFzpsmoWO3z7NpYyqXEe4FfMjYrIu4EbkGQRkV5b4e/Y0%2BJmo%2BH/iZbfGP4%2B2Gr6z8XNGn0rxfrfhbwjNo72toNNFjZppytf3BtWi33M7PI05kluCV8pUVAAR/sFft42/7bcXiR7Lw14VSHw/Z6Vc/2z4E8eDxHpUj30U0hsHuvslt5WoWwiU3Frsbylubc728wheR/wCCimkf8JB49u9DC5N3%2ByZ8WoVHu03hcD9cV6V%2By9%2Byx43%2BCvjzxD8U/ij8U9E8S69rnhTQfDUS%2BF/BZ0GwttO0k3zW5Nubu6L3DNqE%2B%2BTzFTYkKJFGEO7z348fAv4UaN%2B2nBr3gn4X%2BHtI13xr%2Bzx8R08S6xpWiwW93q7i%2B8KrG1zNGge4K%2BY%2BC5YjccdTWGKh7TC1Id4yX3xkv1PVyLEfU89wmI/kq0pf%2BA1acv8A209I/wCCdur/ANufsF/Bq/L7iPhnosLHPUx2UUZ/VK9lr5x/4JF6x/bn/BNz4SXu7Ozw0bfP/XK4mi/9kr6OrnyuftMsoS7wh/6TE9bjzD/VOOc1ofy4rEL/AMr1f8wooorvPlAooooAKKKKACiiigAooooAKKKKACiiigAooooAKKKKACiiigAooooAKKKKACiiigAooooAKKKKACiiigAooooAK8Z8cf8AKQv4X/8AZGfHn/p28IV7NXjPjj/lIX8L/wDsjPjz/wBO3hCgD2aiiigAoornfiv8V/APwR8BXvxM%2BJuuNp%2Bj2DwRzTRWc1zLJLNMkEEEUECPLPNLNLHFHFGjSSSSIiKzMAQDoqK87sv2rfgJffAu6/aRTx00PhCxknhvr280i7t7m2uYbk2klpJZSxLdJdC5UwfZWiExlxGELkKa4/bA/Z5j%2BBviD9ozUvHFxpvhXwp56%2BJJtZ8P39je6bLCFLW81hcQJeJOQ8eyAw%2BbL50Xlq/mJuAPTK8Z/YP/AOSIa5/2Wb4j/wDqa63Xqngzxf4d%2BIXg/SfH3hDUftmk65pkGoaXd%2BS8fn200ayRvtcBlyjKcMARnBAPFeV/sH/8kQ1z/ss3xH/9TXW6APZqKKKACiivzL/4Kxf8FH/G/wASfFEn7AP7EtxdajrOsaj/AGL4o1zRZMy3F0/DaRZuOA4Bzcz5CwplSdxIrzc1zTDZThHWq6vaMVvJ9Ev60%2B5O6FDG47G0cDgaTq4itLlp000nKVm3du0YQhFSnUqSahTpxnOclGOvtX7Wv/BW7wn4J8fRfst/sWeFU%2BLPxh1W4azsdM0uTfpmlz4OWup1YBvLwWdEYBQjeZJFitT9kX/gmNbeB/iEf2r/ANtHxsPin8aL8pM%2Bsagm/TtBI%2BZYbCAqFXYSQsm1duB5aRZbdp/8EzP%2BCZ3w5/YG%2BHP2%2B7gtNV%2BIet2qDxN4iji%2BWEcN9itc8pbqwGT96Vhvf%2BFU%2Bo64cDgMXjZRxeZpcy1jTXw0%2Bzf80%2B8nfl2ilqxZpk2Cw2M9k8T9ZcHrKKcaDmv%2BfUJe/OMX8NWt702vaRpUk4JFFFFfQEhRRRQAUUUUAFFFFABRRRQAUUUUAFFFFABRRRQAUUUUAFFFFABRRRQAUUUUAFFFFABRRRQAUUUUAFeM/sv/APJb/wBo7/ss1j/6hXhevZq8Z/Zf/wCS3/tHf9lmsf8A1CvC9AHs1FFFABRRRQAUUUUAFFFFABRRRQAUUUUAFFFFABRRRQAUUUUAFFFFABRRRQAV4r8QraK8/wCCgPwztJ1ykvwV8eo49QdV8IA17VXjPjj/AJSF/C//ALIz48/9O3hCgabTujzX/giHczH/AIJpeANIumzNpd3rVlN9U1e8wP8AvkivrCvkv/gjR/oP7LXiPwn0/sH4teJtP2/3dt6z4/8AIlfWleVkX/Ilw67Qivuuv0PvvFZL/iJmcSX2sRUn/wCDHGp/7kCiiivVPgAooooAKKKKACiiigAooooAKKKKACiiigAooooAKKKKACiiigAooooAKKKKACiiigAooooAKKKKACiiigAooooAK8Z8cf8AKQv4X/8AZGfHn/p28IV7NXjPjj/lIX8L/wDsjPjz/wBO3hCgD2aiiigAryD9tf4b%2BPviH8J9Ivvhl4ZbXdY8J%2BP/AA74nh8OpdwwPq0Wn6nb3E9tHJO6RLMYUkMXmukZlWMO6KS6%2Bv0UAfJ/hX4E%2BO/E/wCzt8UPD3xk/Z%2B8Z213478b3njjT9A8Oa/oy6lpdwl/BJp1vDO179mXUojYWt6Szm0EsmzzpQGz5hB/wT3/AGw/HPwo8b%2BLP%2BFtSaVrfi34k6h4zk8JfFjQbTX7zUZU8Oafounreto%2BoWNjBcRtYNdRrA0ltC8lqdrPaq9ff9FAHk37Ofwq%2BLvhv9i3wN8G/iJ47l8P%2BMdM8Cabpmp634U061STT7mK3jQiGO7N9AzoF2Fn81HIZgAGAGJ/wTp0m/0H9m6%2B0TVfE99rdzZ/Fv4hw3GsanHAlzfOvjPWgZpVt4ooQ7kbiI40TJO1VGAPdK8Z/YP/AOSIa5/2Wb4j/wDqa63QB7NRRXlf7aX7UPh39j79nTX/AI3a3ai8u7SJbbw9o65L6pqcx2W1qoX5jucgttyQiu2PlrKvWpYajKrUdoxTbfkjHEYijhMPOtVdoxTbfZL%2Bvm7LqfOf/BYT/goTJ%2Bz94In/AGc/g/4pNj4117SGuvEOuWvzP4W0UkRvcjBH%2BlTMwhgTKne4bcp2Ewf8Efv%2BCctv8AfCtv8AtM/F/wAIrZeNNc0wReG9CufnfwvpTjcI2JALXs%2Bd88mAQWKAIN6nwf8A4Jifsl%2BIv2zfjxf/ALVfx8vm1/QtC8RjU9X1S6w0Xi7xYg48sDKtp%2BnK3lQhcoz7mU7GaJP1fr5TKcPVzrHf2til7q0pRfRfzevZ97taKJ9zPD1%2BB8onhay5c0xkF9Y/mwuGlyzp4JP7NWouStjmrO7o4VvlpVYsooor7A%2BMCiiigAooooAKKKKACiiigAooooAKKKKACiiigAooooAKKKKACiiigAooooAKKKKACiiigAooooAKKKKACvGf2X/%2BS3/tHf8AZZrH/wBQrwvXs1eM/sv/APJb/wBo7/ss1j/6hXhegD2aiiigAooooAKKKKACiiigAooooAKKKKACiiigAooooAKKKKACiiigDz/9qv41XP7Of7N/jb446foKareeGPDl1fafpksxiju7pUPkQu4BKI0pRWcAlVJODjFeeeAP2pPiT8PtG%2BM2k/tRyeH9V1X4N6PDr19rHgfRZ9PtdT0uXTXvF2WtzdXLwzI9vdxEGd1cJHJ8m8xp7D8XPhZ4N%2BOHws8RfBv4h2El1oXinRbnStWghmaKRreeJo32OuGjcBiVdSCrAEEECuC%2BGf7HXhrwHbeJI/FfxY8XeOZ/GwlTxzeeMBpjya/CbOKyigmFpZQJFFDBGQiW6whmmmeTzXkLUAc5%2BwT%2B1H4q/aW8P6jqnj34j%2BFb/VhpWl6qPDOgeA9X0SXR7a9SZ4yZdTnY6tbOY3SHUIIoIJzbzFF6qkV/8XPhR45/4KbeC/AXgn4neHtY13wx8HvHEXiXRdK1qC4u9JeTVvCXlrcwxuXgLbHwHCk7Tjoa679nX9kXwv8As769qHiyL4n%2BLvGGrXnh7TfD9tqXjC5s3ksNH09rhrSxiFpbW6lEa6nYyyrJPIXHmSvtXbS8cf8AKQv4X/8AZGfHn/p28IUAeY/8EnP%2BJdZftC%2BE24/sr9p7xXHEvpExtnQ/jk19aV8l/wDBOP8A4lX7Rv7VPhTp5PxnOobf%2Bvq0jfP47a%2BtK8nI9MshHs5r7qlRH6B4o%2B9xziav/PyOHn/4HhMJL87hRRRXrH5%2BFFFFABRRRQAUUUUAFFFFABRRRQAUUUUAFFFFABRRRQAUUUUAFFFFABRRRQAUUUUAFFFFABRRRQAUUUUAFFFFABXjPjj/AJSF/C//ALIz48/9O3hCvZq8Z8cf8pC/hf8A9kZ8ef8Ap28IUAezUUUUAFFFef8A7S/xxufgD8NYvFmi%2BEV8Qa1qviHS9B8N6HJqP2OO91HUL2K0gWWfy5DBCrS%2BZLII5GWKNyqSMFRgD0Civn25/boutC/Ze8U/G7xb8KY7TxP4O8YnwjrfhK38RCS0j1h9SgsIMag8CYspDdWtwbloFaOCUs8QZGjo8IftY/Hf4leGPFmn/Dr4HeBLvxr8OvG83hv4g6TqPxWnt9H0%2BVNOtdRWSDUU0mSS43W99a5V7WHY5lRiPKywB9BV4z%2Bwf/yRDXP%2ByzfEf/1NdbrtP2dvjLpX7RfwC8E/H7QtDvNMsvG3hTT9dtNO1Db59tHd26TrG5UlSyhwMqSpxkEgiuL/AGD/APkiGuf9lm%2BI/wD6mut0AezV%2BRf/AAUY%2BL/jb/gop%2B3LoX7KHwL1IyaP4d16bw/oV1F88L6xsB1XV2x1jsLY%2BWhyGEr742PIr78/4KV/tOS/snfsc%2BLfiZot2I/EN5bDR/CKBgHfVLvMULLngmPLTEf3YWr5q/4IL/skL4W%2BF8v7X3jLTv8AT/EenDR/A6TxkPbaLFKzTXOGyVe8uvMmYEnChdp2tivks%2BlUzPH0sopuyl79RrpBPRfN/p2PoeE8Phf7VqZxjYqWHy5Qq8kldVsVOUvqdFp6OEZwni6yejp4aEXpU1%2B5vgt8IfA/wC%2BE/h/4MfDfSxZ6J4b0yKysIcDcVQcu5H3ndtzs3VmZieTXT0UV9XCEKcFCCskrJdktEeLisViMbiZ4jETc6k5OUpN3cpSblJt9W222%2B7CiiiqMAooooAKKKKACiiigAooooAKKKKACiiigAooooAKKKKACiiigAooooAKKKKACiiigAooooAKKKKACiiigArxn9l//AJLf%2B0d/2Wax/wDUK8L17NXjP7L/APyW/wDaO/7LNY/%2BoV4XoA9mooooAKKKKACiiigAooooAKKKKACiiigAooooAKKKKACiiigAooooAKKKKACvCPiZ4o0nR/8AgpT8HPDuoXAjn1f4N/EJLEMf9ZJHqfhCRkHvsDt9ENe718A/8FWfiHqPwV/4KLfsffG23LJp%2BhXPiu18QTg4SDTtQufD1hNK/qq/aF/HFcuNxKwmGlWe0bX9OaKf3J3%2BRxZhi1gcJKu9o2v6OUU38lK/yPSv2Lf%2BJT/wUj/a68LnhRqvg7UIx6/aNIkZiPxUV9aV8l/AL/iTf8FfP2gNN6f2z4B8K6hj%2B95MUkGf1xX1pXHk2mFnHtUqr/ypJ/qfpviT7%2BfYat/Pg8DL/wAtKUX%2BNNhRRRXrH5%2BFFFFABRRRQAUUUUAFFFFABRRRQAUUUUAFFFFABRRRQAUUUUAFFFFABRRRQAUUUUAFFFFABRRRQAUUUUAFFFFABXjPjj/lIX8L/wDsjPjz/wBO3hCvZq8Z8cf8pC/hf/2Rnx5/6dvCFAHs1FFFABXn37S/wOuvj98NYvCei%2BL18P61pXiHS9e8N65Jp32yOz1HT72K7gaW38yMzws0XlSxiSNmikcK8bFXX0GigDw34f8A7K3xG8EfCPxj4B1T4meD/EOqeOrrUtV8RX2vfDuSfT7vVb2ZjIZLE6jh7BbYQ2y2hl8zZDue5dmJrzDU/wDgl94z079ny8%2BBvwr%2BNXgnwtD4u8fDxH8UbCw%2BE7xaD4htlsoLOPRoNOtNUt3sNP8AJs7NJY1uJGnWGRZGZbiYN9g0UAcwnw307xb8KIvhh8btD8MeKbe50uO01%2BxHhoRaTf4ADKtjcS3ASEkDETyS7QANzYzXmX/BOnwx4a8Ffs3X3g/wb4esdI0jS/i38Q7TTNL0y0S3trSCPxnrSxxRRIAsaKoChVAAAAAr3SvDv2LdasPDf7OninxFqkuy1sPi38S7m5f%2B7GnjPXGY/kDSbSV2JtRV2fCH/Barx/4i/a0/bK8CfsEfDS98xdJvLS21AIFdE1jVRtVpUJztt7BZZt4%2B6Zjmv1I%2BHngTw38LvAOifDXwdZC20nw/pNvpumW4/wCWcEEaxxr%2BCqK/LD/giL4K179qz9r7xf8AtvfEa2aabRPtl6ZpQGQ67rDsW8luvlw6fHHFsP3DKMcGv1nr5ThhSxkq%2BaTWtaVo%2BUI6RX3/AJH02NX9l8J5bl3/AC8rx%2BvVv8eKjH6vB%2BdHBQoq3SVep1uFFFFfWHzQUUUUAFFFFABRRRQAUUUUAFFFFABRRRQAUUUUAFFFFABRRRQAUUUUAFFFFABRRRQAUUUUAFFFFABRRRQAUUUUAFeM/sv/APJb/wBo7/ss1j/6hXhevZq8Z/Zf/wCS3/tHf9lmsf8A1CvC9AHs1FFFABRRRQAUUUUAFFFFABRRRQAUUUUAFFFFABRRRQAUUUUAFFFFAHmH7afxe8VfAP8AZM%2BIfxj8DR2p1vw/4UvLrR3voi9vDdCMiKWVQQWiRyruuRlVYZGcjz74U/HrxH8A7r45eGv2mPjZqHi3QPg9pll4im8c6zpNlb3q6ZNpj3VxDPHp1vBA7wvbTupjhVjHNErB2Uu/vvjTwb4V%2BIvg7Vvh9460C11XRNd02fT9Y0u9iDw3lrNG0csMinhkdGZSO4JrkPg5%2By38G/gLvf4aafr0E1xey3l/d6r401XU7jUZ3ght/Mu5r25lkuykNvBFF5zP5KRhY9gyCAeD/wDBLj9tXW/2t/FHxjtfFf7QPgzxfcaN4t0660PQ/B%2Bs6bexeHNLvdHsrlLHzrIt9q8md7iF7l2cSTwzhCqKsacF/wAFM9E8PftY/E/WPgD4e0TxENZ0P9nfx9dQvqXhDUrG2nvrfVvCF3bC0u7mCOC8zJbBS1tJIF3DcRuGftnwt8MfA/grxX4m8b%2BGdD%2Bzap4x1KC/8SXX2mV/tlxDaQ2cb7XYrHiC3hTCBQdm4gsST5t47VX/AOChHwwR1BB%2BDHjwEEcEf2t4QrDE0IYrDToz2kmn801%2Bpz4zDU8bhKmHqfDOLi/Rpr9fwPlz9mf49LeftufB39p/xg4/sj9oX4C2ug22qK37uLxLYSia4tpD0G7DohyCz/KBwa/QqvzP%2BFn7Nut/Ez9kH42/sNeDp3s/HH7Pvxfu9a%2BE1xEQJbMGQ6jpbIT90zBrmP0Hm55xX2/%2Bxf8AtKaN%2B1v%2BzR4V%2BO2lwrb3GraeE1rT1yDY6jETFdQEHkbZVfGcEqVbvXz/AA/iKkb0au81zr/Ffkqr1jON/wDDNH3WJry4q8Osp4gX8bDwjgcSu06Kn7Cp5KrTVSD/AOnlHvKx6jRRRX058aFFFFABRRRQAUUUUAFFFFABRRRQAUUUUAFFFFABRRRQAUUUUAFFFFABRRRQAUUUUAFFFFABRRRQAUUUUAFFFFABXjPjj/lIX8L/APsjPjz/ANO3hCvZq8Z8cf8AKQv4X/8AZGfHn/p28IUAezUUUUAFFFeQ/tr/ABI8ffDz4T6RZfDLxK2hax4s8f8Ah3wxD4iS0hnfSYtQ1O3t57mOOdHiaYQvIIvMR4xK0ZdHUFGAPXqK%2BUrD4y/tUT/sh/FCw8G%2BINR8VeO/h98Rrvwzb%2BKLXQbWXUr7S4r61aa/js4Ykt57%2BDTrmXESRCOa5tQBCBJ5VedfCz9qr9oT44eOI/2WfD3xs8deHxD8ZtT0BfiZ4g8Dadp/iW90m28J2GuIj2F5py2ttcNc6iseZLFGNra58pJJPMQA%2B8q%2BM/EXj3/hWn/BKX47%2BMEn8qWHxR8WYLWTONs8/i7XYIj/AN/JFr2j9lv9onWfHX7FfhP9oT4tW11dalL4dWXxA3hnw9dXr3lxE5glntrO0SWd1ldDIsUauwVwOcZr4f8A24fi9YRf8ERvGmoaOt9bQ%2BN/jv4utLOPUtNnsbpUfx7rF5skt7hEmgfZbsGjkRXXlWUEEV5uc1/quUYir2hL/wBJaX4s8/NfbvLK0aKvOUXGK7ynaEV85TivmfRX/BDb4VaT8MP%2BCbnge8s7AQ3viiW91vVpAOZ5Zbl442P0t4rdf%2BA19dV5b%2Bw74N/4V7%2Bxn8KfBjxbJNP%2BHmjx3C4x%2B%2B%2BxxGQ/i5Y/jXqVVlNBYXK6FJK3LCK/8lV/xbPquJORcQYqFOXNGFSUIvvGk/ZQ%2BXJRjbysFFFFegeKFFFFABRRRQAUUUUAFFFFABRRRQAUUUUAFFFFABRRRQAUUUUAFFFFABRRRQAUUUUAFFFFABRRRQAUUUUAFFFFABXjP7L/APyW/wDaO/7LNY/%2BoV4Xr2avGf2X/wDkt/7R3/ZZrH/1CvC9AHs1FFFABRRRQAUUUUAFFFFABRRRQAUUUUAFFFFABRRRQAUUUUAFFFFABRRRQAV4z44/5SF/C/8A7Iz48/8ATt4Qr2avGfHH/KQv4X/9kZ8ef%2BnbwhQB4t%2B09L44/YF/bA1L/goDpfhWXXfhf450XT9H%2BL9vpkLPe6HLakx2usBF/wBdCsbCNwBlRk87hjnPD/xY0f8A4J1/HfxB8ZYbc6x%2BzN8ctWtvEOn%2BMvD7/abXwnrNygWaSZEBItbltjCReEIRQMgg/dmpabp2s6dPpGr2EN1aXULQ3VrcxB45o2BVkZWyGUgkEHgg18P%2BKf2c/wBoX/gn3J4jt/2dfhTb/F/9n3xHLNPr/wAGbp/M1PQFmz9oGmLJuS5t2yWNswLEkBRkvIfl8wwdfB1fb0W%2BXmc00uZ05Ne9eK1lTn9tL3ov3o32XTwzxD/qRjcTDF4eWJyvGLlxFKLanB8ymqtJpNqUJr2kXyy5ZOalGVKrUjH7d0XWtH8SaPa%2BIfD2q21/YX1uk9le2c6yw3ETqGWRHUkMpBBBBwQas1%2Ba/wCzB8UfGXwc0zUPG/8AwTH8Tx/Ff4VQ3T3HiH9nvxJeNaeKfBkhbMyWImJcoH3fumDKxBCGRmaSvsf9lv8Abr/Zz/a5sZrb4Z%2BLms/EViWTW/BPiCL7FrOlyrw6TWrnd8p4LpuTPG7IIHoZfnOGxijCbUZvZXvGXnCW0l5aSW0oppn1OZ8JKWWvO8grrHZc7P21PWVO%2B0cTSTc6E18Lck6Umn7Oq01Few0UUV7B8aFFFFABRRRQAUUUUAFFFFABRRRQAUUUUAFFFFABRRRQAUUUUAFFFFABRRRQAUUUUAFFFFABRRRQAUUUUAFeM%2BOP%2BUhfwv8A%2ByM%2BPP8A07eEK9mrxnxx/wApC/hf/wBkZ8ef%2BnbwhQB7NRRRQAVzvxY%2BE/gH43%2BAr34Z/E3Q21DR794JJoYr2a2ljlhmSeCeGeB0lgmimijljlidZI5I0dGVlBHRUUAeceFv2Ufgv4I%2BHt18L/CFn4k03SL20nhuhZ%2BPNYjupXnupLqe7N0Lv7R9tknlkke98z7S5b5pSAAMu%2B/Yb/Zp1D4Z2Hwpk8IaxFYab4gl12z1Wz8a6vBrSapLHLFLenV47pdQe4kinmieVpyzxSNGxKHbXrdFAGV4F8D%2BEfhl4J0j4ceAPD9tpOhaBpkGnaNpdmm2K0tYY1jiiQdlVFVR7CvyC/4Ks6/eaz%2ByF8PPgTpsg%2B0%2BKf2oPibdQxddzweL9Zt1OPY34/Ov2Sr8VvjldyfFL/goZ8A/gai%2Bdbad8cPGd/epjIVZ/iZrbSr7ExWGfpivmuLZP%2Bw50lvUlCH/AIFOK/K56eQUo4jijLKUldPE0JNd40pvES/8lwrP2h0jS7PQ9JtdF0%2BPZb2dukECf3URQqj8gKsUUV9IkkrI86UpTk5Sd29fvCiiimSFFFFABRRRQAUUUUAFFFFABRRRQAUUUUAFFFFABRRRQAUUUUAFFFFABRRRQAUUUUAFFFFABRRRQAUUUUAFFFFABXjP7L//ACW/9o7/ALLNY/8AqFeF69mrxn9l/wD5Lf8AtHf9lmsf/UK8L0AezUUUUAFFFFABRRRQAUUUUAFFFFABRRRQAUUUUAFFFFABRRRQAUUUUAeRft9fELxp8KP2KPin8SPh5rMmmazovgbUbqy1eGMM%2BmlYG3XihgVJgXdMNwK5j5BGRXFfsv2DaF8RPjl%2BzvZ/FXxXqvgvw5JpH9la3r3jS81PUNJmvtJWW7t01K7lkuPkXyLtd8jGI3vylY/LVfo29srPUrOXTtRtIri3uImjngmjDpIjDDKyngggkEHgg1xHhn9ln9mLwX4RHw/8Hfs5eA9J0EQXsA0TTPCFlBZiK8QR3ieSkQTbOiqsoxiRVAbIFAHlf/BPxNS1q98efELwD4t8X6l8IdYvrGP4YS%2BN/Fl/rV1qAgikS91W3udRmmuRYXMjQiBXkKuLZ7iMCO5QtZv/ABp4k8Q/8FNvBfh3VvhH4h0Kz0n4PeOEsNe1W5057TWg2reEsvbLbXcs6BNoz9oigPzjaG%2BbHqfwd/Zw/Z4/Z4tr2y%2BAHwF8F%2BBodS8r%2B0YvB3ha00xbrygwj8wW0aB9gdwu7O3c2MZNcb44/wCUhfwv/wCyM%2BPP/Tt4QoA9mooooA8H/aU/4Jxfsx/tM%2BIV%2BI%2Bs%2BHr/AMLeOoCGsfiD4H1BtM1iCQDCuZo%2BJSBgAyq5A4BFfJf7S3/BO39s2G5j13xb4S8N/H9NL2to/jfR9RHhH4g6cqD5Ct7GDb3Xlr93zhKzHkKCa/SyivGxuQ5djeZuPLJ7uOl33as4yfm1f%2B8jLL1jMkzRZnk2JqYPE/8APyhN05O%2B6mleFRPZxqU5KS0d1ofkn4E/4KwftX/sg65F8PfjDcX/AIrsoW2J4Z%2BM%2BkSeGfFEMY6%2BXqOHsbyNRz5srCSXghVzgfYP7P3/AAWV/Yd%2BOLWuja98QZPAGu3SAro3j2IWKvngNFdZNtKpP3SJMtx8ozX0v4w8D%2BCviHoUvhfx/wCENL1zTJxifTtY0%2BO5gk/3o5FKn8RXyv8AGb/ghz/wTx%2BLy3U2nfC2%2B8F3d5/r7nwTq8loh7jFu/mWwwewiFeZHAcS5b/uteNWH8tS6fylrb72j6qrxX/acf8Ahdy2jXn/AM/8K1gqz850uWrgqj6tqnhm32uz62sNQsNVsotS0u9hubaeMPBcW8gdJFIyGVhwQfUVNX5s6T/wRL/az/ZovpNW/YU/4KNa74fh8wyReH9fspEtGbOcy%2BS7wyfjbfzruNB%2BMv8AwXU%2BAAFr8Wv2WvAPxl0y0jJn1Xwb4ii02%2Bmx3xJtDH0VLXNdlPOsXS0xmEqQ84pVI/fB833xPnMZi8lpvmoSrRXapRaa/wC36M69N%2BqUe9kj7uor4lP/AAW8%2BF/w5jtLT9rH9k34yfCm8uCRLPr/AIQaSwU5xmOfckko91hr0jwH/wAFff8Agm18RQn9iftY%2BHbRn42a9FcaZtPoTdxRj8c49666We5PVlyqvFPs3yv7pKLPLlnGVU5JTrRi3tzNwvbR251C/wArn0lRXH%2BC/wBoT4BfEgI3w7%2BOHg/XhJ/q/wCxfEtrdbvp5UjZrsK9KFSnUjeEk15NP8mzup1aVaPNTkpLummvwbCiiirNAooooAKKKKACiiigAooooAKKKKACiiigAooooAKKKKACiiigAooooAKKKKACvGfHH/KQv4X/APZGfHn/AKdvCFezV4z44/5SF/C//sjPjz/07eEKAPZqKKKACs3xh4y8IfDzwvf%2BOPH/AIr03Q9F0u2a41PWNYvo7a1s4VGWkllkISNAOrMQBWlXiH7f3hvxFrvwT0bVtE8Kalr9p4b%2BJfhXX/EGh6Pp0l5dXmm2OtWlzcGK2iVpLl4Vj%2B0iFFaST7PtRXcqpAPTNN%2BMPwj1n4ZD416P8U/Dl34MOnvfjxbba5byaZ9kQEvcfalcxeUoVsvu2jacniueuv2vP2TrH4XQfHC9/af%2BHcPgq6vjZW3i%2BXxrYLpc1yNwMC3Zl8ppBsf5A275W44NfK3iPwr408YfsM/Gnw/ovwe8axHxr8SbzxV4a0F/CF/bajp%2BjT65bGTUYbaSFSb5Wgu9Wj05x58jPGssOZmQ%2Bcw/Db4qWt/D8R7y8%2BOWnaNJ8d9c1i1%2BNmmfCiSbxrdwzeErKxS4ufD/APZMkcUck63FgJf7KjUQ6dbv5aNObtgD9K9K1XS9d0u21vRNSt7yyvLdJ7O8tJlkinidQySI6khlZSCCDgggivxX/Yst9V%2BKH/BebUbG9h36b4T%2BLHxCKE848nU9bnX6Ynvlr9Qf2OfA3xa8G/8ABPz4afDix0HSvAfi7SfhxpVhDp2r6RPfW2kzRW0cYSa2F3HK5Cr80f2ncrEgyNjJ/O//AIIp%2BBPGN1/wVn%2BPPiTx/qVhqN5pHiLx/Lc3%2Bmac9rby303i6W1eSOF5Zmhjb7LMVjaWRlUgF3ILH5ziGm608FT6OvBv5KUv0PpOEcO555LF9MNh8ZV%2Bf1WVGHz58SmvNH6/0UUV9GfNhRRRQAUUUUAFFFFABRRRQAUUUUAFFFFABRRRQAUUUUAFFFFABRRRQAUUUUAFFFFABRRRQAUUUUAFFFFABRRRQAUUUUAFeM/sv/8AJb/2jv8Ass1j/wCoV4Xr2avGf2X/APkt/wC0d/2Wax/9QrwvQB7NRRRQAUUUUAFFFFABRRRQAUUUUAFFFFABRRRQAUUUUAFFFFABRRRQAUUUUAFeM%2BOP%2BUhfwv8A%2ByM%2BPP8A07eEK9mrxnxx/wApC/hf/wBkZ8ef%2BnbwhQB7NRRRQAUUUUAFFFFABRRRQA2aGG5he3uIVkjkUq6OoIYHqCD1FeJfFn/gmz%2Bwd8bjNL8RP2VvB89xcEme%2B03TBp9zIT3ae0MchPuWr2%2BisK%2BGw2Kjy1oKS80n%2BaZ14XH43BX%2Br1ZQvvZtJ%2Bq%2BF/8Ab0Zeh%2BfXxN/4Nw/2JPFTS3nw48Y%2BNPCU7giOCO/hvrVM/wCxcRGQ/wDf0V5Ve/8ABA39rr4R2zR/s3/toWVxsJNudSutX0SRB2UNZXMy5Hrt/Cv1aorwq3CPD9WXNGjyPvByj%2BTt%2BB6NPPIyf%2B14HCYj/r7g8PKX/gcKeHqf%2BVD8lm/Zj/4LYfBiMJH4p%2BL/AIjii/1mo6D8cLDUkUeqWuo26yuPRd2ab/w1N/wUt%2BGH7v4h/Hr4%2B%2BG44vvv4r/Zc03ULEf9vtrcF2/BPev1rorD/Vd0v4GKqR8nJv8A9uizp%2BteH%2BJ/3rIIQffDYzHYZ/8AgLrYmn8uVI/Kzwp/wVP/AGhbq5/s7Sf%2BCkHwAu7yM7ZLT4gfDbXdEZG9HZYgg/BiK9X8G/t0f8FCvE%2BxfDHxO/Yw8Zs2MReF/iTexSt7bJpCVPsRX3L4r8AeA/Hdt9i8ceCdI1mHGPK1XTYrhcemJFIryfxl/wAE1v2A/Hm8%2BIf2QfAAeT78uneHIbJ2PqWtwjE%2B%2Bc0f2RnlL4MTzf8Ab1SP5qog/snwpxPw1M0wz/u4jDYiK%2BVWjRm/vv5nmtp%2B0d/wVwtrdbt/%2BCf3gHX4mGVl0P4uQQrIP9kzIRUg/bQ/4KV6b/yMX/BIXUlA6vpfxo0e6z7hRGDUl3/wRR/4J/W1w194C%2BH3iPwhcucm58LeOtTt2B9QHndR%2BAxTP%2BHVF74e%2Bf4Y/wDBRD9o7Qsf6u0m%2BIYvbVPpFLD/AFo%2Br8Q095SfpUpP/wBLoxf4h/qdwNX/AN24oxVPyrYFP73RnU%2B%2B3yE/4eG/tZaf/wAjB/wSh%2BKkePvf2bq9jd/ltIzR/wAPQfiLY/8AId/4JgftHx4%2B9/Z/guK6/LbOM0v/AAxN/wAFEPDfPw//AOCtOvBF%2B7b%2BJ/hdpepbx6GRmVh9QM0f8Kr/AOCzXhn/AJAf7Vfwa8T7en/CSeBrqy3/AF%2ByMcfhR7TOofF7Zf8AblCf5Tj%2BQf8AEOaVX/dOLcLL/r5TqUn8%2BfC2/wDJmJ/w9s0K2/5Df/BP39qPTsfeN58IWAH4rcGg/wDBYn4E23/IZ/Z3%2BOmnY6/bfhZdLj/vljS/8JZ/wW08Of8AIX%2BEv7PHiQL/ANAHXtWs2b/wJBANH/DUX/BV7QONc/4JeaJrar9%2BXQfjRp8HHqFnjyfpR9dzCPxVai9cN/8AIykH/ELeLp/7tneAq%2BlfCx/9OTofoJ/w%2Bk/Y1t/%2BQvpXxH0/1%2B2/DfUFx/3zGaP%2BH33/AATmg/5C3xZ1ywx1%2B2eAtXXH/fNsad/w8C/bC0b/AJHT/gk/8S4Mff8A7D8RafqWPp5ZXNH/AA9V1TSjt8Yf8E3f2m7DH3prb4ZrdRL9XS4/pR/aleO%2BKiv8WHqIP%2BIS%2BKsv4M6FX/BPCT/9JzCP5Etr/wAFv/8Agl1eHEf7UkSHuJvCOsR4/wC%2BrMVp2n/BZP8A4Jm3uPJ/aw0Zc/8APXS7%2BP8A9CtxWBd/8FfP2YMY8dfAn4waMP4xrvwquht%2Bu3fWbc/8Fdf%2BCT8reX4y8TrpbMcFda%2BGGpA59Dizaj%2B2JLfG0PnGUfzmg/4hH43fYy%2BU/wDBh5z/APTWIqnodr/wVp/4Jw3n%2Bq/a68KDP/PWWVP/AEKMVoW3/BUT/gnldf6r9sLwIM/89NbRP/QsV5naf8FF/wDgi94mxu%2BJPw6fd/z/APgqWL8/NtBWla/tNf8ABFnxFjPjb4ENu/5/tN0%2BL/0bGK1jmlefw4vDv5v/AOWHBX8OPGTC/wAXK6i9cJi1%2BUZHo8P/AAUl/YAuOU/bK%2BG4/wB/xbar/NxViP8A4KI/sEyDK/tnfC8f73jmxH85a4K08Wf8EYNfx9n139mW4Y/wNN4f3fkea1bLwL/wSR1vB07wd%2Bznd56eTp%2BgyZ/JTXRHGZjP4a2Hf/b0v0mzyK3DPiThv4uC5f8AFQxkfzpI6r/h4Z%2BwXjP/AA2f8Lf/AAvLD/47Ucn/AAUW/YHiGW/bN%2BGJ/wB3xtZN/KSqVh%2Bzp/wTR1Qg6X8CfgXc56fZ/DGjP/KOtzTv2PP2HbzDaT%2By18KJfQ23gjTG/wDQYa2jPOp/DKi//Bj/AFPMq4Ti%2Bh/FhSj6xxC/NIxLj/gpj/wT6tsmT9sf4enH/PPxNA//AKCxrPuv%2BCq//BOmzz5v7X3g04/55agX/wDQVNd/b/sifsn2n/Hr%2BzD8PIsdPL8FWC/yirQtf2cf2ebH/jy%2BA/gyHHTyvC9ov8o6vlz1/apf%2BA1P/kjDk4kf26K/7dqv/wBuR4/df8Fgf%2BCa1n/rf2tPDxx/zytrt/8A0GE1nXP/AAWn/wCCYlqSJf2q9POP%2Beegam//AKDbGvoO1%2BEfwpscfYvhj4ehx08rRYF/klaFt4Q8J2ePsnhfTosdPLso1/kKPZ54/wDl7T/8An/8mHsuI3/y%2Bor/ALh1H/7kR8vzf8Fxv%2BCW8J2n9qFWPYR%2BDdab%2BVnVD4Kftyfsyftn/wDBQvwYf2cfiFNr6%2BG/gz4y/thpdDvbIQ/aNW8K%2BVj7VDHvz5Ev3c4284yM/XkNrbWwxb28cY9EQD%2BVeO%2BOP%2BUhfwv/AOyM%2BPP/AE7eEK1oU80jVTrVYOPVKDT%2B9zf5G%2BGo51GsnXrU5Q6qNOUX97qStr5M9mooor0D1AooooAKKKKACvzo/wCCLPhhJv2yf2xfGptgsVr8Z9Z0qxYZPLeIdcurjk%2Bryoa/RevjD/gjR4RfSrH9pbxjcxYl1v8Aa5%2BIKxvj70EGryxr%2BT%2BbXnY2l7XF4b%2B7KT%2B6El%2Bp9hw5i6eDyLOW/iqUKdNd/fxVFyt6xp2fkfZ9FFFeifHhRRRQAUUUUAFFFFABRRRQAUUUUAFFFFABRRRQAUUUUAFFFFABRRRQAUUUUAFFFFABRRRQAUUUUAFFFFABRRRQAUUUUAFeM/sv/wDJb/2jv%2ByzWP8A6hXhevZq8Z/Zf/5Lf%2B0d/wBlmsf/AFCvC9AHs1FFFABRRRQAUUUUAFFFFABRRRQAUUUUAFFFFABRRRQAUUUUAFFFFAHj3/BQc%2BOR%2Bw58WD8N/wC0/wC2P%2BEC1P7P/Ym/7ds%2Bzv5v2by/n8/yvM8vZ8%2B/bt%2BbFfNnwi8S/DzTvhj%2B094a/wCCcmv%2BGoPDupeFpn%2BCth4FurdbC68SxeHc3h0lIT5bhJX00ymAFVuWl34lMtfelFAHxv8A8Eyz%2Bz4fjH49/wCGLTpH/Cp/%2BFb%2BCvM/4Rzb9h/4SrfrP9peZs4/tH7H/ZH2vd%2B93eT5n7zfXoN/qXxXu/8Agpt4Ls/G3gvw9p%2BhW/we8cDw1qOleJ57y7v0OreEvMa5tpLKFLQjCYCTXAbccldo3fQ9fOH7R%2Br/ABr0f9vD4Tz/AAO%2BH/hbxFqTfCPx2t3aeK/GFzosEcH9qeEiXSW30%2B9Z33bRsMajBJ35AUgH0fRXjP8AwnH/AAUL/wCjX/gz/wCH41b/AOZej/hOP%2BChf/Rr/wAGf/D8at/8y9AHs1FeM/8ACcf8FC/%2BjX/gz/4fjVv/AJl6P%2BE4/wCChf8A0a/8Gf8Aw/Grf/MvQB7NRXzjpP7R37dusfGfX/gdb/sofCRdU8O%2BF9I128uX%2BOuqeRJBqNzqVvCiEeGNxdW0ucsCoADx4LEsF6j/AITj/goX/wBGv/Bn/wAPxq3/AMy9AHs1FeM/8Jx/wUL/AOjX/gz/AOH41b/5l6P%2BE4/4KF/9Gv8AwZ/8Pxq3/wAy9AHs1FeM/wDCcf8ABQv/AKNf%2BDP/AIfjVv8A5l65fwD%2B0d%2B3b8RPFfjfwho/7KHwkhuPAfiiLQtVkufjrqgSeeTStP1MPFt8MElPJ1GFSWCnejjGAGYA%2BjqK8Z/4Tj/goX/0a/8ABn/w/Grf/MvR/wAJx/wUL/6Nf%2BDP/h%2BNW/8AmXoA9morxn/hOP8AgoX/ANGv/Bn/AMPxq3/zL0f8Jx/wUL/6Nf8Agz/4fjVv/mXoA9mor5x%2BEX7R37dvxl8KXfi/w5%2Byh8JLa3s/FGt6FJHe/HXVFcz6Xqt1pk7jb4YYbGmtJGQ5yUZSQpyo6j/hOP8AgoX/ANGv/Bn/AMPxq3/zL0AezUV4z/wnH/BQv/o1/wCDP/h%2BNW/%2BZej/AITj/goX/wBGv/Bn/wAPxq3/AMy9AHs1FeM/8Jx/wUL/AOjX/gz/AOH41b/5l65f4I/tHft2/Hj4MeEPjj4V/ZQ%2BElrpfjPwvp%2Bu6bbah8ddUWeGC7to7iNJAnhhlDhZAGCswyDgkc0AfR1FeM/8Jx/wUL/6Nf8Agz/4fjVv/mXo/wCE4/4KF/8ARr/wZ/8AD8at/wDMvQB7NRXjP/Ccf8FC/wDo1/4M/wDh%2BNW/%2BZeuX%2BN37R37dvwH%2BDHi/wCOPir9lD4SXWl%2BDPC%2Boa7qVtp/x11Rp5oLS2kuJEjD%2BGFUuVjIUMyjJGSBzQB9HUjKrqUdQQRyCODXjX/Ccf8ABQv/AKNf%2BDP/AIfjVv8A5l6P%2BE4/4KF/9Gv/AAZ/8Pxq3/zL0Aemap8N/h3rmTrfgLRbzd977VpcMmf%2B%2BlNc7qf7LP7MetZ/tj9nLwHd56/afCFlJn/vqI1yv/Ccf8FC/wDo1/4M/wDh%2BNW/%2BZej/hOP%2BChf/Rr/AMGf/D8at/8AMvWUqFCfxQT9Un%2BaZ30M1zXC/wAHEVIf4alSP/pM4lvUf2BP2GNWyb/9jb4Wux6uPAOnqx/FYQawtQ/4Jf8A/BPTU8/af2PfAi5/599DSH/0Xisn4u/tHft2/BrwpaeL/Ef7KHwkube88UaJoUcdl8ddUZxPqmq2umQOd3hhRsWa7jZznIRWIDHCnqP%2BE4/4KF/9Gv8AwZ/8Pxq3/wAy9c8sty6fxUYP/tyP/wAievR404zw/wDCzPEx9MRX/wDlzOSv/wDgkB/wTX1HP2j9kzw%2Buf8Anhc3cX/oEwrHvf8AgiP/AMEvr85l/ZbgQ%2BsHivV48f8AfF2K9F/4Tj/goX/0a/8ABn/w/Grf/MvR/wAJx/wUL/6Nf%2BDP/h%2BNW/8AmXrGWS5NLfDU/wDwCP8AkelS8TvEmh/DzrFr0xNb/wCWM8yP/BEX/gnXB/yCPhVr2n46fY/Hurrj/vq5NJ/w5e/Y3g/5BWq/Eex9PsnxI1AY/OQ16d/wnH/BQv8A6Nf%2BDP8A4fjVv/mXrl/H37R37dvw78V%2BCPCGsfsofCSa48eeKJdC0qS2%2BOuqFIJ49K1DUy8u7wwCE8nTplBUMd7oMYJZY/sLJemHgvSNvyaOj/iK/iY/izjEP/FVcv8A0qMjmv8Ahzp%2Bz5D/AMgz46/Gyy9PsvxRuxj8waP%2BHRHw6i4079sr9o6z9BbfFqYY/OI16b/wnH/BQv8A6Nf%2BDP8A4fjVv/mXo/4Tj/goX/0a/wDBn/w/Grf/ADL0f2FlHSivvkvymg/4ip4iPfMqj9Y0Zf8ApWHkeY/8OmrGL/jx/wCCiv7VVt6CH4wHH62xqn8Ff2Vbz9mT/goX4LW5/aY%2BKfxFXWvgz4y2D4meKhqZ0/ydW8K5%2BzkRp5fmeaN/Xd5UfTbz61/wnH/BQv8A6Nf%2BDP8A4fjVv/mXqh4H8D/tWeMf2rPDnxu%2BN3w4%2BHvhnRvDPw98Q6HDD4V%2BId9rV1d3WpX2iXCMyXGkWKRRomlygsHdi0qALjJG1DKsvw1VVKULSXnP8nNr8Dz804%2B4vzvAzweOxXPTna69nh1ezTXvQw1Oa1S2muzurp%2B60UUV6B8eFcd8ePjZ4a/Z%2B%2BHUvxE8TaRqeqbtSsdM0zRdEhjkvdU1C9uorS0tIFlkjj8ySeaNd0jpGgJd3RFZh2NeX/tb/Bvxn8Z/hhYWPw1vNMi8TeGvGGi%2BJdAj1ueSKyurjT7%2BG5NrPJFHI8STRpJD5qxyGIyCQJJs2MAZn/Dbnwutf2bNe/aV17wv4j0u28MancaTr/hW9tbf%2B1rLVYbwWZsGWOdrcyNO0apIJzAyypL5vltvrHsv%2BCgHgvUNAkjtPgj49fxpH49l8HD4ZJFpbaw%2BqxaempyIJRfnT/KWxkS4ac3YjUMIywmIirjtR/ZA/aM8T/sv/Er4Va9L4KtvEXxN8Sz%2BJtbig1y7n0yWSXUIWk0GQtZpI1lLptrFZy3gUSMbid1tkwqnzxf%2BCWniz/hGNM1e6%2BBnwduIdG%2BK2o%2BJdG%2BAzazcp4KsNLvNDh02awjmGmHk3kR1X/kHiLz5pVEYYi4oA%2B4PCus3viLwzp2v6l4Yv9Eub6xinuNG1VoTdWLugZoJjBJLEZEJKsY5HTKna7DBPi3/AATt8LaZ4Z%2BCvi2bT927VPjx8Sr66Z8cyt4z1hT07BUUfhXS/Ab9nrWPA37JHhj9m/4reOdS1a80zwzBpuraxoevX9hOWUD5be7hlS7jVOI0k8wSlEBY5Jrw/wDYku/2v/APwa1rwV8HPgX8Ptd8M6V8XfiDbaPq3jH44axHqlzEnjHWBuuQ%2Bh3rtJuDAu9zM74Ds25iAmk2n2LjUqRhKCekrX87O6%2B56n2HRXjP/Ccf8FC/%2BjX/AIM/%2BH41b/5l6P8AhOP%2BChf/AEa/8Gf/AA/Grf8AzL0yD2aivGf%2BE4/4KF/9Gv8AwZ/8Pxq3/wAy9H/Ccf8ABQv/AKNf%2BDP/AIfjVv8A5l6APZqK%2Bcfgj%2B0d%2B3b8ePgx4Q%2BOPhX9lD4SWul%2BM/C%2Bn67pttqHx11RZ4YLu2juI0kCeGGUOFkAYKzDIOCRzXUf8Jx/wUL/AOjX/gz/AOH41b/5l6APZqK8Z/4Tj/goX/0a/wDBn/w/Grf/ADL0f8Jx/wAFC/8Ao1/4M/8Ah%2BNW/wDmXoA9mor5x%2BN37R37dvwH%2BDHi/wCOPir9lD4SXWl%2BDPC%2Boa7qVtp/x11Rp5oLS2kuJEjD%2BGFUuVjIUMyjJGSBzXUf8Jx/wUL/AOjX/gz/AOH41b/5l6APZqK8Z/4Tj/goX/0a/wDBn/w/Grf/ADL0f8Jx/wAFC/8Ao1/4M/8Ah%2BNW/wDmXoA9morxn/hOP%2BChf/Rr/wAGf/D8at/8y9cv8Xf2jv27fg14UtPF/iP9lD4SXNveeKNE0KOOy%2BOuqM4n1TVbXTIHO7wwo2LNdxs5zkIrEBjhSAfR1FeM/wDCcf8ABQv/AKNf%2BDP/AIfjVv8A5l6P%2BE4/4KF/9Gv/AAZ/8Pxq3/zL0AezUV4z/wAJx/wUL/6Nf%2BDP/h%2BNW/8AmXo/4Tj/AIKF/wDRr/wZ/wDD8at/8y9AHs1FfOPj79o79u34d%2BK/BHhDWP2UPhJNcePPFEuhaVJbfHXVCkE8elahqZeXd4YBCeTp0ygqGO90GMEsvUf8Jx/wUL/6Nf8Agz/4fjVv/mXoA9morxn/AITj/goX/wBGv/Bn/wAPxq3/AMy9H/Ccf8FC/wDo1/4M/wDh%2BNW/%2BZegD2aivGf%2BE4/4KF/9Gv8AwZ/8Pxq3/wAy9cvq37R37duj/GfQPgdcfsofCRtU8ReF9X12zuU%2BOuqeRHBp1zptvMjk%2BGNwdm1SAqApBCSZKkKGAPo6ivGf%2BE4/4KF/9Gv/AAZ/8Pxq3/zL0f8ACcf8FC/%2BjX/gz/4fjVv/AJl6APZqK8Z/4Tj/AIKF/wDRr/wZ/wDD8at/8y9H/Ccf8FC/%2BjX/AIM/%2BH41b/5l6APZqK%2BcdJ/aO/bt1j4z6/8AA63/AGUPhIuqeHfC%2Bka7eXL/AB11TyJINRudSt4UQjwxuLq2lzlgVAAePBYlgvUf8Jx/wUL/AOjX/gz/AOH41b/5l6APZqK8Z/4Tj/goX/0a/wDBn/w/Grf/ADL0f8Jx/wAFC/8Ao1/4M/8Ah%2BNW/wDmXoA9morxn/hOP%2BChf/Rr/wAGf/D8at/8y9cv4B/aO/bt%2BInivxv4Q0f9lD4SQ3HgPxRFoWqyXPx11QJPPJpWn6mHi2%2BGCSnk6jCpLBTvRxjADMAfR1FeM/8ACcf8FC/%2BjX/gz/4fjVv/AJl6P%2BE4/wCChf8A0a/8Gf8Aw/Grf/MvQB7NXjP7L/8AyW/9o7/ss1j/AOoV4Xo/4Tj/AIKF/wDRr/wZ/wDD8at/8y9W/wBlb4c/GnwfrHxQ8d/HTQPC%2Bk6p4%2B%2BIUWuWeleE/Etzq1va2sWg6Ppiq9xcWVmzSNJp0rlRFtCyINzHOAD1uiiigAooooAKKKKACiiigAooooAKKKKACiiigAooooAKKKKACiiigAooooAK%2BV/2nv2tPi58MPjH4s1rwD4d8HyeGPg/4f8AD9741OtaRcTarqlvq9/KlzBYXEdxGll5FtZx3GZIpxcyFIyIfL80/VFeM/Gf9iH4cfG74pH4ma5458VaXFqNrpFr4v8ADWjXVqmneKYNLvZL2xivllt5Jgsc00ufs8sBljkMUxljCoAD2aiiigAooooA%2BY/Dn7SvxMh/b/8AFHwf%2BI2seHvCfhtfEFpongyLUfhFrKXXjGAaBBqOIPEbXa6c0sd3c6gBaCF5PLtJgFBZpF%2BnK8r8WfstQeP/AIyaR8U/Hvxv8a6vpXh7XY9a0DwBcHTItGsdQjt3gjnDQ2SXsuzzJJFSa6kjEj7tnyIF9UoAKKKKAPF/%2BCgvxd%2BOH7P37I/jT49fAK98KR6x4J0K71y6g8YaLc31td2lrbSzPboltdWzJK7IiiQuVQFiUfgV5/48/a0%2BLngv48eLdT8KeHfCEXw88IfGPwj8PvGVnNpFwdb1XVddg0VI9Qhu0uFhjjg/tzSYzFJbyvIkM%2BJY9qCvYf2sf2cbL9rT4Ea9%2Bz7rXxV8U%2BEdJ8T2Utjrl/4QXTvtdzZSxPFNbbr%2B0uo0R1flkRZAVG115zxcH7APg6f4i2fxF8VfHHx9rrHWdJ1zxNo2oS6VFY%2BJ9c0xI0sdWvY7awiZbiIQWmFtmggY2NsXiYx5IB73RRRQAV4v%2B2T8Xfjh8ErXwD4x%2BFl74U/sbUPiZ4c8PeL7HxBotzc3Vza6rrNjpoNnLDdQpbSRrcyyb5EnUlEXZyTXtFeVftXfstv%2B1V4b0LwvP8ffG/ga30LxJYa6jeC4dHZ7u9sbyC8s2lOpafeDbFcW8bhYwgblZN6naADzj9nn9pX4ma3%2B1V4t%2BCPxQ1fw94T06HxTrdv4J8JSfCLWdMudetoXSU39vrVxd/YNQdjJNLLFbQF%2BS7FcMT9OV5LpP7KIf4yaL8ZfiP8AtAeO/Gs3he7vLvwnoXiEaTDYaPdXNvJayXES2Gn20sr/AGeaeFfPklVFnfaASCPWqACiiigDw/8Abu%2BLnx4/Z%2B%2BDWr/HX4UeMfAtjp/hbRbm8vdF8WeGb2/ufEN7lFs9Ms5La9g%2BzzXEpFujeVdM0s8QWFj8ref/AAR/a%2B%2BM%2BufEvwV/a3gzwlpHw08b/E/xR8NvCvhrTtLmj1fRL/QIdW3zz3IuGt5oJG8P6miwx28RjVrY%2BZJlgPT/ANpX9kGD9pLx54I%2BIE37QPjvwhc%2BAbu5vdFsfDEWjT2cl7KgjW8mg1PTrxHnhj8xYZAFMYnlI%2BZsir4D/Ya%2BHvgP4y2/xdh%2BIvi7UoNO13U9e0TwhqVzZf2TpWt6jG8eoapAkVqk/nzie7LK8zwo19cmOKPzOAD2uiiigAr5f/a5%2BPH7S/wW%2BImn%2BFNKh8AeNdH8cw61baL8OYvB99JrCWtpod1dyX9xOL14rq2F1Fb20kItYgft8KCYyMiSfUFeHTfsTXEf7R/iv9prRP2q/iXp2r%2BLdNh0650uGDw/PaafZwwNHDbWbXOky3NvEsrvdbFm2vO5dw4O2gBn7CH7Qfjf49/D28uviv4%2B0a%2B8XacLNtf8N2Xwu1fwjeaA89ssogubLV7qe4cFt/l3ACRyKh2htpNe6V5v8Dv2btO%2BDPifxJ8Q9Y%2BKXinxx4q8VxWNvrHifxc1gty9pZib7LapFp9ra20cUbXNy42whma4kLM2Rj0igAooooA%2BOf8AgoJ%2B3H8VP2MPHP8AaeuaLoHjHwi%2Bjajrdv4Vl%2BHOp2Utumm6Nfakkn/CRTXT6ZPd/a9NGyxWBLoRzLKBthaRvXv2aPi78c9W%2BKnjf9nr9o658Kah4n8I6ToetR614K0i5sLG5sdUF5GkRgubm5dZYrjTrtS/m4kQxNsjJKit8df2EvBH7TmtXVr8f/i3418UeC7mS4kX4ZXkmmw6LFJNYzWTNvt7KO%2BkAjuJmCS3ToHfdt%2BRAvT/ALPn7M2kfAO817xFd/FDxZ448R%2BJDZx6t4q8a3Fm99LbWkRitbUfY7a3hWKIPKwxHvZ55XdnZyaAPSqKKKACviP9qf8AbK/az%2BDfxq8QfCjwd4b8OeNdTsNFuNd8MBPgf4gjk0UDUdMtUMLfbnHiaQWOqXHnf2X5TwtCVlEYmEdfbleH69%2BxbqfiXx6fidrX7XPxRm1vT4LyLwbeFNAA8KrdTQyT/ZIxpOydmjgW33Xq3TLEzhSruzkA6r9lj4sP8ZPhHB4svfiZo3iq/h1G6stUvtG8GX3h0W1xFKytazabqFxPdWc8YwrxzOHz821QwFejVw3wD%2BAvh74AeGdT0bSvFOt%2BINR1/XrjW/EniTxHNA17qt/MERp5RbxQwJiOKGJUhijjVIkAUYJPc0AFFFFABRRRQAUUUUAFFFFAFHxR4hsPCXhrUfFeqhza6ZYzXdyIly3lxoXbA7nCmvnP9ib9pP41%2BP8AxTo/gz42eHvBlmPHXwtsviN4Zh8GaVcWg0yO8uCbvT7szXEou5o3ubZ/tiCATtLMTBHtBf6Wu7S1v7WWxvbdJoZo2jmilUMrqRgqQeCCOMV5D%2BzN%2BxX4C/Zg1V9X0D4g%2BLfEstt4YsfDPh0eLL21mGgaFZvI9vptqbe3hLRqZPmlnM1xII4vMmfy1wAexUUUUAFcL%2B1B48%2BIvws/Zo%2BInxO%2BD/hRde8W%2BHPAur6p4W0NrGa6Go6jb2csttbGGBllmEkqInlxsHbdhSCQa7qs7xbol/4l8Mah4f0vxXqOhXN7aSQ2%2BtaQsDXVi7KQJohcRSxF1PIEkbpkfMrDIIB5d%2BxT8Wp/ih8M76y1b4heH9Z1Pw7qq6deaZonww1Pwc%2BhoLaCSKzuNK1S5nuYXCOJFdvLR4pYtiYG9/Yq88%2BA/wCztpPwOvPEviO5%2BIniTxj4k8X6jDeeIvFPit7MXd0YbdLeCIR2NtbW0UUcaAKscKZLOzFmZmPodABRRRQB8uftUftY/FD9nD4veOLL4laN4S8RfC%2Bw/Z38X%2BPbbQrfRLhNVdtEGlrPbXFzJcvbzRTrfTgILZCoRMu%2BWFdv%2BzP8X/j5qnxc8Zfs6/tLP4SvPFHhjwx4e8Sx6r4K0m5sbKSy1Z9St1tjDc3Ny5lhuNIuwZRIFkR4m8uM7lqD4x/sK%2BHfjp8dW%2BMvjz47eOZdNm8Fan4Rvvh7DBov9iXejaktt9vtJC%2BmtekTtaQOzi6DqUIRkRmQ9J%2Bzv%2By7of7Pt9rXiOf4oeLfG/iHX7Wwsr/xP42ubSS9NhYpItnZj7JbW8flRGe4cEoZHe5ld3dmzQB6fRRRQAV8ifGv9pf9rbwZrv7QHgS38K%2BDPFl74C8P%2BFPEnw2sdJ%2BH%2Bp386x6jqupQhLy1ivHl1GeBdNjnU2wtyXJCr8qtX13Xhcv7FHiGL46eNvj/AKF%2B2h8VtK1bxvpFjplzY2Vn4Ya0022sri5ns0thLoryfujeXSgzPKXWciTzCqFQDq/2VPi3N8ZfhSPE2o/E7RvFOo2uq3Njq11o/gi/8NmzuIm%2Ba1n0zUbie6tJ0UruSZgxDK21VYV6TXCfAP4B6B8AdC1mx0/xbrniPVfE3iCXXPE/ibxJLbte6rfyQwwebILaGGCMLBb28KpFFGipCgC5yT3dABRRRQB8bftLftd/tLfs8fGaD4baynwz8a32twQTeEYdO8LXtpL4LvNS8Q6Z4e0ibU5XvphdRTtq84LRLZyOLG6WMMvmGL3H9lX4v/Ej4jDx/wDD74xHRJ/FXw08eN4a1nVfDWnTWdhqfmaXp2rW9xDbzTzyW%2BbXVLdHjaaXEkcmGIIxwtt/wTV8JNdfEN/EP7S/xO1m3%2BJOvHXNYt9SOheZZ6lFcQz6fc211FpaXSmwe3txaRvNJFEsKBkfnPrHwD%2BAuh/APw9q2m2Xi/XPEmreItem1rxP4o8SvbG/1e%2Bkjih86YWsEEC7IILeBEiijRY4I1C8EkA7qiiigBlz9p%2BzSfY9nnbD5Xm527scZxzjNfEHxW/a5/bT%2BGnxE1z4bW9t4D8Z694YvfDVvq3jrwR8Fdf1aPw5b6s1497YS6VZ6lPd3M0cNlY3RMU6fu7qFpYEBiaT7eu4ZLi1lt4bqSB5I2VZ4gpeMkYDLuBXI6jII9Qa%2Be/gx%2BwF4g%2BAnw2uPhp8O/26vjFFHdas%2BpzazeWXhOfUJbuV5ZLmeaZ9CP2mSd5d0kk4kfMabCgGCAes/AT4h2XxW%2BDvh/4hWHxA0bxUmp6eJH1/w/pM1haXcgJWQpazzTS2xV1ZGhkkd42VlY7lIHX1yXwL%2BC/hL9n34X6d8KfBVzf3FlYS3VxNfarcia6vru6uZbq6upnCqGlmuJ5pX2qq7pDtVVwo62gAqj4nh8SXPhvULfwbqdjZavJZSrpd5qdg91bQXBQiOSWGOWJpo1bBZFkjLAEB1J3C9Wb4x0G/8UeFr/w7pfi3UtBuby1eKDWtHEBurFyOJohcRSxF1PIEkbocfMrDIoA%2BHvhv%2B3Z%2B1r8YPinrfwS%2BFmm/D5PGem2uu30njPxX8Lta0NdU0zSLXRZUsZdEvL5NQ0%2BV7vxDsSaeZ4/KhkuEhdZ0B%2BxvgF8WtN%2BPnwJ8FfHXRtNls7Pxr4S03XrSzmfc8EV5ax3CxsQBkqJACfUV4tq//BMjwPrWuX3xFu/2lPimnxA1ZLy11r4k217pEOrX%2BmXVta202mFE00WcNsUsrRh5FtFKskCyrKHLMfoPwX4P8NfDzwdpPgDwZpMWn6PoemQafpNhDnZbW0MaxxRrnnCoqqPpQBp0UUUAcv8AGnUfHGjfC3Wtb%2BHPiGx0vVrCzN1Dfah4PvfECJHGQ8oGnWM8FzeSNErqkUMgcuy4Vz8jfFvwl/4KI/H7xJ400PU/G9x4R8CeDNSnnXxB44vPgZ4imttYv4dfutIRLmVb6NPDM8lraWv7jVGklgeVY3zsCV9t/EzwZrvj3wlN4c8N/FLX/Bt5JLG8Wv8AhmKxe7g2sCVVb%2B2uYGDAFSHibgnGDgjxW6/4JzeFNQ8H3Hw21b9pD4m3fhjXNQmv/HmgTXGjiLxhdz3jXVxNfSrpouIvNLLC0dnLaxCGJI1RRu3AH0TRRRQAUUUUAFFFFABRRRQAUUUUAFFFFABRRRQAUUUUAFFFFABRRRQAUUUUAFFFFABRRRQAUUUUAFFFFABRRRQAUUUUAFFFFABRRRQAUUUUAFFFFABRRRQAUUUUAFFFFABRRRQAUUUUAFFFFABRRRQAUUUUAFFFFABRRRQAUUUUAFFFFABRRRQAUUUUAFFFFABRRRQAUUUUAFFFFABRRRQAUUUUAFFFFABRRRQAUUUUAFFFFABRRRQAUUUUAFFFFABRRRQAUUUUAFFFFABRRRQAUUUUAFFFFABRRRQAUUUUAFFFFABRRRQAUUUUAFFFFABRRRQB/9k%3D\">"
            ]
          },
          "metadata": {
            "tags": []
          }
        }
      ]
    },
    {
      "cell_type": "markdown",
      "metadata": {
        "id": "UeNWSCzDfus0",
        "colab_type": "text"
      },
      "source": [
        "# Submit the MLP with 2 hidden layers\n",
        "Run these cells after training the MLP with 2 hidden layers"
      ]
    },
    {
      "cell_type": "code",
      "metadata": {
        "id": "gWDfCWerfus0",
        "colab_type": "code",
        "colab": {}
      },
      "source": [
        "## GRADED PART, DO NOT CHANGE!\n",
        "# Validation loss for MLP\n",
        "grader.set_answer(\"i8bgs\", s.run(loss, {input_X: X_val_flat, input_y: y_val_oh}))\n",
        "# Validation accuracy for MLP\n",
        "grader.set_answer(\"rE763\", accuracy_score(y_val, s.run(classes, {input_X: X_val_flat})))"
      ],
      "execution_count": 0,
      "outputs": []
    },
    {
      "cell_type": "code",
      "metadata": {
        "id": "j4lU4LTifus4",
        "colab_type": "code",
        "outputId": "0e459cfa-2c16-4950-e314-157b0f927de2",
        "colab": {
          "base_uri": "https://localhost:8080/",
          "height": 34
        }
      },
      "source": [
        "# you can make submission with answers so far to check yourself at this stage\n",
        "grader.submit(COURSERA_EMAIL, COURSERA_TOKEN)"
      ],
      "execution_count": 0,
      "outputs": [
        {
          "output_type": "stream",
          "text": [
            "Submitted to Coursera platform. See results on assignment page!\n"
          ],
          "name": "stdout"
        }
      ]
    },
    {
      "cell_type": "code",
      "metadata": {
        "id": "82saZ7WLfus8",
        "colab_type": "code",
        "colab": {}
      },
      "source": [
        ""
      ],
      "execution_count": 0,
      "outputs": []
    }
  ]
}